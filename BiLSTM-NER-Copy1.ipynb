{
 "cells": [
  {
   "cell_type": "code",
   "execution_count": 1,
   "id": "documented-oriental",
   "metadata": {},
   "outputs": [],
   "source": [
    "%matplotlib inline"
   ]
  },
  {
   "cell_type": "code",
   "execution_count": 2,
   "id": "honest-heart",
   "metadata": {},
   "outputs": [],
   "source": [
    "import time\n",
    "import matplotlib.pyplot as plt \n",
    "import torch\n",
    "import torch.nn as nn\n",
    "from torch import optim\n",
    "from torch.utils.data import DataLoader\n",
    "from dataload import lang, localdata\n",
    "from tagger.bilstm import BiLSTM\n",
    "from etc.customUtil import showGraph, showParallel\n",
    "from etc import defaultsetting as ds"
   ]
  },
  {
   "cell_type": "code",
   "execution_count": 3,
   "id": "white-bundle",
   "metadata": {},
   "outputs": [
    {
     "name": "stdout",
     "output_type": "stream",
     "text": [
      "cuda\n"
     ]
    }
   ],
   "source": [
    "device = torch.device(\"cuda\" if torch.cuda.is_available() else \"cpu\")\n",
    "print(device)"
   ]
  },
  {
   "cell_type": "code",
   "execution_count": 4,
   "id": "foreign-interface",
   "metadata": {},
   "outputs": [
    {
     "name": "stdout",
     "output_type": "stream",
     "text": [
      "14096\n",
      "1446\n",
      "23\n",
      "13\n",
      "245\n",
      "4\n",
      "245\n",
      "250\n",
      "500\n",
      "4250\n"
     ]
    }
   ],
   "source": [
    "tag_PAD = ds.TOKKEN_PAD_IDX\n",
    "tag_UNK = ds.TOKKEN_UNK_IDX\n",
    "\n",
    "datasets, engdict, posdict = localdata.load_kor_ner(device) # , charmode=True)\n",
    "num_words = engdict.n_words\n",
    "num_chars = engdict.n_chars\n",
    "num_poss = posdict.n_words\n",
    "print(num_words)\n",
    "print(num_chars)\n",
    "print(num_poss)\n",
    "# print(MAX_LENGTH)\n",
    "print(engdict.max_len_char)\n",
    "print(engdict.max_len_word)\n",
    "print(posdict.max_len_char)\n",
    "print(posdict.max_len_word)\n",
    "\n",
    "print(len(datasets['dev'].y_data))\n",
    "print(len(datasets['test'].y_data))\n",
    "print(len(datasets['train'].y_data))"
   ]
  },
  {
   "cell_type": "code",
   "execution_count": 5,
   "id": "separate-blowing",
   "metadata": {},
   "outputs": [],
   "source": [
    "def iteration(samples, optimizer, criterion):\n",
    "    x_train, y_train = samples\n",
    "        \n",
    "    optimizer.zero_grad()\n",
    "\n",
    "    o = model(x_train)\n",
    "    o = o.view(-1,o.size(-1))\n",
    "    t = y_train.view(-1)\n",
    "\n",
    "    loss = criterion(o, t)\n",
    "    loss.backward()\n",
    "    optimizer.step()\n",
    "\n",
    "    return loss.item()"
   ]
  },
  {
   "cell_type": "code",
   "execution_count": 6,
   "id": "affiliated-travel",
   "metadata": {},
   "outputs": [],
   "source": [
    "def epoch(model, optimizer, criterion, dataloader):\n",
    "    model.train()\n",
    "    list_loss = []\n",
    "    for batch_idx, samples in enumerate(dataloader):\n",
    "        loss = iteration(samples, optimizer, criterion)\n",
    "        list_loss.append(loss)\n",
    "    return list_loss"
   ]
  },
  {
   "cell_type": "code",
   "execution_count": 7,
   "id": "jewish-watch",
   "metadata": {},
   "outputs": [],
   "source": [
    "def evaluate(model, criterion, dataloader):\n",
    "    model.eval()\n",
    "    total_loss = 0\n",
    "    for batch_idx, samples in enumerate(dataloader):\n",
    "        x_train, y_train = samples\n",
    "\n",
    "        o = model(x_train)\n",
    "        o = o.view(-1,o.size(-1))\n",
    "        t = y_train.view(-1)\n",
    "\n",
    "        total_loss += criterion(o, t).item()\n",
    "\n",
    "        # if batch_idx % 100 == 0:\n",
    "            # print(batch_idx, loss.item())\n",
    "            \n",
    "    # print(batch_idx, loss.item())\n",
    "    return total_loss / (batch_idx+1)"
   ]
  },
  {
   "cell_type": "code",
   "execution_count": 8,
   "id": "dying-ability",
   "metadata": {},
   "outputs": [],
   "source": [
    "def scores(model, dataset, batch_size):\n",
    "    model.eval()\n",
    "    dataloader = DataLoader(dataset, batch_size=batch_size, shuffle=True)\n",
    "    \n",
    "    total_samples = len(dataset)\n",
    "    cnt_corr_samples = 0\n",
    "    total_words = 0\n",
    "    cnt_corr_words = 0\n",
    "    c = posdict.n_words\n",
    "    table = torch.zeros(c,c)\n",
    "    \n",
    "    for batch_idx, samples in enumerate(dataloader):\n",
    "        x_train, y_train = samples\n",
    "        \n",
    "        o = model(x_train)\n",
    "        t = y_train.view(-1)\n",
    "\n",
    "        __tagged, tagged = torch.max(o, dim=-1)\n",
    "        \n",
    "        for i in range(x_train.size(0)):\n",
    "            l = y_train[i].tolist()\n",
    "            if tag_PAD in l:\n",
    "                seq_len = l.index(tag_PAD)\n",
    "            else:\n",
    "                seq_len = len(l)\n",
    "            \n",
    "            _y = y_train[i,:seq_len]\n",
    "            _p = tagged[i,:seq_len]\n",
    "            d = _p!=_y\n",
    "            cnt_wrong = _p[d].size()[0]\n",
    "            \n",
    "            # score1_acc_sample\n",
    "            if cnt_wrong == 0:\n",
    "                cnt_corr_samples +=1\n",
    "                \n",
    "            # score2_acc_word\n",
    "            total_words += seq_len\n",
    "            cnt_corr_words += seq_len - cnt_wrong\n",
    "            \n",
    "            # score3_f1\n",
    "            for j in range(seq_len):\n",
    "                table[_y[j],_p[j]] += 1\n",
    "\n",
    "    tp = torch.tensor([table[i,i] for i in range(c)])[2:]\n",
    "    d0sum = table[2:,2:].sum(dim=0)\n",
    "    d1sum = table[2:,2:].sum(dim=1)\n",
    "    allsum = d1sum.sum()\n",
    "    \n",
    "    pr = tp / d0sum\n",
    "    temp = pr != pr\n",
    "    pr[temp] = 0\n",
    "    \n",
    "    re = tp / d1sum\n",
    "    temp = re != re\n",
    "    re[temp] = 0\n",
    "    \n",
    "    f1 = 2 * pr * re / (pr + re)\n",
    "    temp = f1 != f1\n",
    "    f1[temp] = 0\n",
    "    \n",
    "    avg_f1 = (f1 * d1sum).sum() / allsum\n",
    "  \n",
    "    return (cnt_corr_samples / total_samples,\n",
    "            cnt_corr_words / total_words,\n",
    "            avg_f1.item())"
   ]
  },
  {
   "cell_type": "code",
   "execution_count": 9,
   "id": "outstanding-power",
   "metadata": {},
   "outputs": [],
   "source": [
    "def train_losses_scores(model, optimizer, criterion, datasets, batch_size, num_epoch):\n",
    "\n",
    "    dict_losses={'train': [],\n",
    "                 'dev': [],\n",
    "                 'test': []\n",
    "                }\n",
    "    \n",
    "    dict_scores={'train': [[],[],[]],\n",
    "                 'dev': [[],[],[]],\n",
    "                 'test': [[],[],[]]\n",
    "                }\n",
    "    best_dev_f1 = 0.0\n",
    "    for epoch_i in range(1,num_epoch+1):\n",
    "        dataloader = DataLoader(datasets['train'], batch_size=batch_size, shuffle=True)\n",
    "        dataloader_dev = DataLoader(datasets['dev'], batch_size=len(datasets['dev']), shuffle=True)\n",
    "        dataloader_test = DataLoader(datasets['test'], batch_size=len(datasets['test']), shuffle=True)\n",
    "        print(f'\\r{epoch_i}', end='')\n",
    "        temp = epoch(model, optimizer, criterion, dataloader)\n",
    "        dict_losses['train'].extend(temp)\n",
    "        dict_losses['dev'].append(evaluate(model, criterion, dataloader_dev))\n",
    "        dict_losses['test'].append(evaluate(model, criterion, dataloader_test))\n",
    "\n",
    "        s_train = scores(model, datasets['train'], 100)\n",
    "        s_dev = scores(model, datasets['dev'], 100)\n",
    "        s_test = scores(model, datasets['test'], 100)\n",
    "        \n",
    "        dict_scores['train'][0].append(s_train[0])\n",
    "        dict_scores['train'][1].append(s_train[1])\n",
    "        dict_scores['train'][2].append(s_train[2])\n",
    "        dict_scores['dev'][0].append(s_dev[0])\n",
    "        dict_scores['dev'][1].append(s_dev[1])\n",
    "        dict_scores['dev'][2].append(s_dev[2])\n",
    "        dict_scores['test'][0].append(s_test[0])\n",
    "        dict_scores['test'][1].append(s_test[1])\n",
    "        dict_scores['test'][2].append(s_test[2])\n",
    "\n",
    "        if s_dev[2] > best_dev_f1:\n",
    "            print(f' epoch Dev F1 score: {best_dev_f1:.6} -> {s_dev[2]:.6}')\n",
    "            best_dev_f1 = s_dev[2]\n",
    "            torch.save(model, 'best_bilstm_ner.pt')\n",
    "    print()\n",
    "    return dict_losses, dict_scores"
   ]
  },
  {
   "cell_type": "code",
   "execution_count": 10,
   "id": "contained-inflation",
   "metadata": {},
   "outputs": [],
   "source": [
    "def pos_tagging(model, input_seq):\n",
    "    model.eval()\n",
    "    o = model(input_seq)\n",
    "    __tagged, tagged = torch.max(o, dim=-1)\n",
    "    return tagged"
   ]
  },
  {
   "cell_type": "code",
   "execution_count": 11,
   "id": "sudden-portuguese",
   "metadata": {},
   "outputs": [],
   "source": [
    "def calc(model, input_seq, target_seq=None):\n",
    "    input_list = engdict.sentenceFromIndexes(input_seq.tolist())\n",
    "#     print(input_list)\n",
    "    # print(sentenceFromIndexes(posdict, target_seq.tolist()))\n",
    "    output_list = posdict.sentenceFromIndexes(pos_tagging(model, input_seq.unsqueeze(0)).view(-1).tolist())\n",
    "    \n",
    "    target_list = None\n",
    "    if target_seq is not None:\n",
    "        target_list = posdict.sentenceFromIndexes(target_seq.tolist())\n",
    "\n",
    "#     print(output_list)\n",
    "    showParallel(input_list, output_list, target_list)"
   ]
  },
  {
   "cell_type": "code",
   "execution_count": 12,
   "id": "twelve-evidence",
   "metadata": {},
   "outputs": [],
   "source": [
    "embedding_dim = 100\n",
    "size_hidden = 50\n",
    "num_layers = 1\n",
    "size_out = num_poss\n",
    "size_batch = 100\n",
    "# criterion  = nn.CrossEntropyLoss().to(device)\n",
    "criterion  = nn.CrossEntropyLoss(ignore_index=tag_PAD).to(device)"
   ]
  },
  {
   "cell_type": "code",
   "execution_count": 13,
   "id": "color-september",
   "metadata": {},
   "outputs": [
    {
     "name": "stdout",
     "output_type": "stream",
     "text": [
      "1 epoch Dev F1 score: 0.0 -> 0.852392\n",
      "2 epoch Dev F1 score: 0.852392 -> 0.936596\n",
      "3 epoch Dev F1 score: 0.936596 -> 0.952158\n",
      "4 epoch Dev F1 score: 0.952158 -> 0.955732\n",
      "5 epoch Dev F1 score: 0.955732 -> 0.95593\n",
      "6 epoch Dev F1 score: 0.95593 -> 0.957287\n",
      "8 epoch Dev F1 score: 0.957287 -> 0.958148\n",
      "9 epoch Dev F1 score: 0.958148 -> 0.959123\n",
      "10 epoch Dev F1 score: 0.959123 -> 0.959765\n",
      "18 epoch Dev F1 score: 0.959765 -> 0.960269\n",
      "29 epoch Dev F1 score: 0.960269 -> 0.960535\n",
      "33 epoch Dev F1 score: 0.960535 -> 0.961545\n",
      "60\n",
      "\t1739.3261802196503\n"
     ]
    }
   ],
   "source": [
    "model = BiLSTM(num_words, embedding_dim, size_hidden, size_out, num_layers, tag_PAD).to(device)\n",
    "optimizer = optim.Adam(model.parameters(), lr=0.01)\n",
    "\n",
    "num_epoch = 60\n",
    "st = time.time()\n",
    "dict_losses, dict_scores = train_losses_scores(model, optimizer, criterion, datasets, size_batch, num_epoch)\n",
    "print(f'\\t{time.time()-st:5}')"
   ]
  },
  {
   "cell_type": "code",
   "execution_count": 14,
   "id": "altered-receptor",
   "metadata": {},
   "outputs": [
    {
     "data": {
      "image/png": "[encoded data removed]",
      "text/plain": [
       "<Figure size 936x936 with 5 Axes>"
      ]
     },
     "metadata": {
      "needs_background": "light"
     },
     "output_type": "display_data"
    }
   ],
   "source": [
    "showGraph(dict_losses, dict_scores)"
   ]
  },
  {
   "cell_type": "code",
   "execution_count": 15,
   "id": "inappropriate-profit",
   "metadata": {},
   "outputs": [
    {
     "name": "stdout",
     "output_type": "stream",
     "text": [
      "0.848   0.8524   0.84244\n",
      "0.94035   0.9366   0.92405\n",
      "0.96885   0.9522   0.94207\n",
      "0.98111   0.9557   0.9473\n",
      "0.9875   0.9559   0.95143\n",
      "0.99104   0.9573   0.95039\n",
      "0.99358   0.9567   0.95349\n",
      "0.99533   0.9581   0.95291\n",
      "0.99646   0.9591   0.95319\n",
      "0.99729   0.9598   0.95402\n",
      "0.99801   0.9578   0.95289\n",
      "0.99856   0.9597   0.9526\n",
      "0.99895   0.9584   0.95389\n",
      "0.99913   0.9582   0.95227\n",
      "0.99947   0.9595   0.9529\n",
      "0.99939   0.9587   0.95316\n",
      "0.99948   0.9592   0.95311\n",
      "0.99966   0.9603   0.95337\n",
      "0.99967   0.9595   0.95379\n",
      "0.99958   0.960   0.95292\n",
      "0.99974   0.9602   0.95307\n",
      "0.99979   0.9587   0.95274\n",
      "0.99981   0.9582   0.9532\n",
      "0.99985   0.9593   0.95269\n",
      "0.99988   0.9587   0.9537\n",
      "0.99984   0.9583   0.95386\n",
      "0.99988   0.9589   0.95328\n",
      "0.99988   0.9602   0.95329\n",
      "0.99993   0.9605   0.95321\n",
      "0.99992   0.9599   0.95382\n",
      "0.99988   0.9592   0.9532\n",
      "0.99989   0.9588   0.95356\n",
      "0.99986   0.9615   0.95335\n",
      "0.99992   0.960   0.95371\n",
      "0.99986   0.9587   0.95328\n",
      "0.99981   0.9586   0.95326\n",
      "0.99985   0.9607   0.95413\n",
      "0.99977   0.9581   0.9523\n",
      "0.99969   0.9585   0.95212\n",
      "0.99981   0.9583   0.95152\n",
      "0.99976   0.9578   0.95306\n",
      "0.99989   0.9598   0.95238\n",
      "0.99992   0.9581   0.95301\n",
      "0.99993   0.9581   0.95317\n",
      "0.99995   0.9585   0.95318\n",
      "0.99993   0.9584   0.9523\n",
      "0.99992   0.9598   0.95269\n",
      "0.99991   0.9595   0.95256\n",
      "0.99995   0.9584   0.95269\n",
      "0.99995   0.9605   0.95323\n",
      "0.99995   0.9577   0.9526\n",
      "0.99993   0.9586   0.95288\n",
      "0.99987   0.9584   0.95286\n",
      "0.99985   0.9581   0.95284\n",
      "0.99988   0.9584   0.95288\n",
      "0.99988   0.961   0.95417\n",
      "0.99988   0.9587   0.9535\n",
      "0.99987   0.9597   0.95222\n",
      "0.99987   0.9578   0.95228\n",
      "0.99985   0.9566   0.95495\n"
     ]
    }
   ],
   "source": [
    "score_type=2\n",
    "for i in range(len(dict_scores[\"train\"][score_type])):\n",
    "    print(f'{dict_scores[\"train\"][score_type][i]:<.5}   {dict_scores[\"dev\"][score_type][i]:<05.4}   {dict_scores[\"test\"][score_type][i]:.5}')"
   ]
  },
  {
   "cell_type": "code",
   "execution_count": 99,
   "id": "permanent-tragedy",
   "metadata": {},
   "outputs": [
    {
     "name": "stdout",
     "output_type": "stream",
     "text": [
      "words               tags    targets\n",
      "\u001b[0m지난                  O       O\u001b[0m\n",
      "\u001b[0m1                   O       O\u001b[0m\n",
      "\u001b[0m차                   O       O\u001b[0m\n",
      "\u001b[0m전                   O       O\u001b[0m\n",
      "\u001b[0m에서                  O       O\u001b[0m\n",
      "\u001b[0m심판                  O       O\u001b[0m\n",
      "\u001b[0m판정                  O       O\u001b[0m\n",
      "\u001b[0m에                   O       O\u001b[0m\n",
      "\u001b[0m대한                  O       O\u001b[0m\n",
      "\u001b[0m불만                  O       O\u001b[0m\n",
      "\u001b[0m으로                  O       O\u001b[0m\n",
      "\u001b[0m퇴장                  O       O\u001b[0m\n",
      "\u001b[0m을                   O       O\u001b[0m\n",
      "\u001b[0m당하                  O       O\u001b[0m\n",
      "\u001b[0m는                   O       O\u001b[0m\n",
      "\u001b[0m등                   O       O\u001b[0m\n",
      "\u001b[0m제                   O       O\u001b[0m\n",
      "\u001b[0m몫                   O       O\u001b[0m\n",
      "\u001b[0m을                   O       O\u001b[0m\n",
      "\u001b[0m하                   O       O\u001b[0m\n",
      "\u001b[0m지                   O       O\u001b[0m\n",
      "\u001b[0m못했                  O       O\u001b[0m\n",
      "\u001b[0m던                   O       O\u001b[0m\n",
      "\u001b[0mKCC                 B-OG    B-OG\u001b[0m\n",
      "\u001b[0m의                   O       O\u001b[0m\n",
      "\u001b[0m서장훈                 B-PS    B-PS\u001b[0m\n",
      "\u001b[0m은                   O       O\u001b[0m\n",
      "\u001b[0m25                  O       O\u001b[0m\n",
      "\u001b[0m점                   O       O\u001b[0m\n",
      "\u001b[0m6                   O       O\u001b[0m\n",
      "\u001b[0m리                   O       O\u001b[0m\n",
      "\u001b[0m바운드                 O       O\u001b[0m\n",
      "\u001b[0m로                   O       O\u001b[0m\n",
      "\u001b[0m분전                  O       O\u001b[0m\n",
      "\u001b[0m했                   O       O\u001b[0m\n",
      "\u001b[0m으나                  O       O\u001b[0m\n",
      "\u001b[0m팀                   O       O\u001b[0m\n",
      "\u001b[0m패배                  O       O\u001b[0m\n",
      "\u001b[0m로                   O       O\u001b[0m\n",
      "\u001b[0m빛                   O       O\u001b[0m\n",
      "\u001b[0m이                   O       O\u001b[0m\n",
      "\u001b[0m바랬                  O       O\u001b[0m\n",
      "\u001b[0m다                   O       O\u001b[0m\n",
      "\u001b[0m.                   O       O\u001b[0m\n"
     ]
    }
   ],
   "source": [
    "testset = datasets['test']\n",
    "for ii in range(len(testset)):\n",
    "    i = 42\n",
    "    input_seq = testset.x_data[i]\n",
    "    target_seq = testset.y_data[i]\n",
    "    calc(model, input_seq, target_seq)\n",
    "    break\n",
    "#     print(target_seq)"
   ]
  },
  {
   "cell_type": "code",
   "execution_count": 19,
   "id": "spatial-authority",
   "metadata": {},
   "outputs": [],
   "source": [
    "# sen = 'I am your father .'\n",
    "# in_sen = torch.tensor(engdict.indexesFromSentence(sen), device=device)\n",
    "\n",
    "# sen2 = [4609,   25,   35,  116, 4610, 1562,   74,  115, 4611,   49, 4612, 1456,\n",
    "#         4613,  224,  691,    6, 4614,   76,   30, 1742, 4615,  308,  107, 4614,\n",
    "#          116, 4616, 4617,   17]\n",
    "# in_sen2 = torch.tensor(sen2, device=device)\n",
    "\n",
    "# calc(model, in_sen)"
   ]
  },
  {
   "cell_type": "code",
   "execution_count": null,
   "id": "bizarre-chancellor",
   "metadata": {},
   "outputs": [],
   "source": []
  },
  {
   "cell_type": "code",
   "execution_count": 21,
   "id": "settled-leave",
   "metadata": {},
   "outputs": [
    {
     "name": "stdout",
     "output_type": "stream",
     "text": [
      "(0.488, 0.9623599701269604, 0.9615448117256165)\n",
      "(0.492, 0.9550968130791833, 0.9533495306968689)\n"
     ]
    }
   ],
   "source": [
    "best_model = torch.load('best_bilstm_ner.pt')\n",
    "s_dev = scores(best_model, datasets['dev'], 100)\n",
    "s_test = scores(best_model, datasets['test'], 100)\n",
    "print(s_dev)\n",
    "print(s_test)"
   ]
  },
  {
   "cell_type": "code",
   "execution_count": null,
   "id": "composed-vegetation",
   "metadata": {},
   "outputs": [],
   "source": []
  }
 ],
 "metadata": {
  "kernelspec": {
   "display_name": "Python 3",
   "language": "python",
   "name": "python3"
  },
  "language_info": {
   "codemirror_mode": {
    "name": "ipython",
    "version": 3
   },
   "file_extension": ".py",
   "mimetype": "text/x-python",
   "name": "python",
   "nbconvert_exporter": "python",
   "pygments_lexer": "ipython3",
   "version": "3.8.5"
  }
 },
 "nbformat": 4,
 "nbformat_minor": 5
}
