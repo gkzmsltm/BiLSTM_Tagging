{
 "cells": [
  {
   "cell_type": "code",
   "execution_count": 1,
   "id": "governmental-basic",
   "metadata": {},
   "outputs": [],
   "source": [
    "%matplotlib inline"
   ]
  },
  {
   "cell_type": "code",
   "execution_count": 2,
   "id": "differential-screen",
   "metadata": {},
   "outputs": [
    {
     "name": "stdout",
     "output_type": "stream",
     "text": [
      "cuda\n"
     ]
    }
   ],
   "source": [
    "import time\n",
    "import matplotlib.pyplot as plt \n",
    "import torch\n",
    "import torch.nn as nn\n",
    "from torch import optim\n",
    "import torch.nn.functional as F\n",
    "from torch.utils.data import Dataset\n",
    "from torch.utils.data import DataLoader\n",
    "device = torch.device(\"cuda\" if torch.cuda.is_available() else \"cpu\")\n",
    "print(device)"
   ]
  },
  {
   "cell_type": "code",
   "execution_count": 3,
   "id": "introductory-decrease",
   "metadata": {},
   "outputs": [
    {
     "name": "stdout",
     "output_type": "stream",
     "text": [
      "21591\n",
      "46\n",
      "78\n"
     ]
    }
   ],
   "source": [
    "filenames = {'dev': 'data/pos_data/dev.dat',\n",
    "            'test': 'data/pos_data/test.dat',\n",
    "            'train': 'data/pos_data/train.dat'}\n",
    "\n",
    "tag_UNK = 0\n",
    "tag_PAD = 1\n",
    "\n",
    "class Lang:\n",
    "    def __init__(self, name):\n",
    "        self.name = name\n",
    "        self.word2index = {}\n",
    "        self.word2count = {}\n",
    "        self.index2word = {tag_UNK: \"<UNK>\", tag_PAD: \"<PAD>\"}\n",
    "        self.n_words = 2  # UNK 와 PAD 포함\n",
    "\n",
    "    def addSentence(self, sentence):\n",
    "        for word in sentence.split(' '):\n",
    "            self.addWord(word)\n",
    "\n",
    "    def addWord(self, word):\n",
    "        if word not in self.word2index:\n",
    "            self.word2index[word] = self.n_words\n",
    "            self.word2count[word] = 1\n",
    "            self.index2word[self.n_words] = word\n",
    "            self.n_words += 1\n",
    "        else:\n",
    "            self.word2count[word] += 1\n",
    "\n",
    "engdict = Lang('eng')\n",
    "posdict = Lang('pos')\n",
    "MAX_LENGTH = 0\n",
    "for filename in filenames.values():\n",
    "    with open(filename, 'r') as fp:\n",
    "        lines = fp.readlines()\n",
    "        for i in range(len(lines)):\n",
    "            pair = [p.strip() for p in lines[i].split('\\t')]\n",
    "            LENGTH = len(pair[0].split(' '))\n",
    "            if MAX_LENGTH < LENGTH:\n",
    "                MAX_LENGTH = LENGTH\n",
    "            engdict.addSentence(pair[0])\n",
    "            posdict.addSentence(pair[1])\n",
    "\n",
    "num_words = engdict.n_words\n",
    "num_poss = posdict.n_words\n",
    "print(num_words)\n",
    "print(num_poss)\n",
    "print(MAX_LENGTH)"
   ]
  },
  {
   "cell_type": "code",
   "execution_count": 4,
   "id": "natural-bride",
   "metadata": {},
   "outputs": [],
   "source": [
    "def indexesFromSentence(lang, sentence):\n",
    "    return [lang.word2index[word] for word in sentence.split(' ')]\n",
    "def sentenceFromIndexes(lang, indexes):\n",
    "    return [lang.index2word[idx] for idx in indexes]\n",
    "def tensorFromSentence(lang, sentence):\n",
    "    indexes = indexesFromSentence(lang, sentence)\n",
    "    PAD_indexes = [tag_PAD for i in range(MAX_LENGTH - len(indexes))]\n",
    "    indexes.extend(PAD_indexes)\n",
    "    return torch.tensor(indexes, dtype=torch.long, device=device).view(MAX_LENGTH)\n",
    "def tensorsFromPair(pair):\n",
    "    input_tensor = tensorFromSentence(engdict, pair[0])\n",
    "    target_tensor = tensorFromSentence(posdict, pair[1])\n",
    "    return (input_tensor, target_tensor)"
   ]
  },
  {
   "cell_type": "code",
   "execution_count": 5,
   "id": "italian-hopkins",
   "metadata": {},
   "outputs": [],
   "source": [
    "class CustomDataset(Dataset):\n",
    "    def __init__(self, filename):\n",
    "        #   데이터셋의 전처리를 해주는 부분\n",
    "        data=[[],[]]\n",
    "        with open(filename, 'r') as fp:\n",
    "            lines = fp.readlines()\n",
    "            for i in range(len(lines)):\n",
    "                pair = [p.strip() for p in lines[i].split('\\t')]\n",
    "                pair = tensorsFromPair(pair)\n",
    "                data[0].append(pair[0])\n",
    "                data[1].append(pair[1])\n",
    "        self.x_data = data[0]\n",
    "        self.y_data = data[1]\n",
    "\n",
    "    def __len__(self):\n",
    "        #   데이터셋의 길이. 즉, 총 샘플의 수를 적어주는 부분\n",
    "        return len(self.x_data)\n",
    "\n",
    "    def __getitem__(self, idx): \n",
    "        #   데이터셋에서 특정 1개의 샘플을 가져오는 함수\n",
    "        x = self.x_data[idx]\n",
    "        y = self.y_data[idx]\n",
    "        return x, y"
   ]
  },
  {
   "cell_type": "code",
   "execution_count": 6,
   "id": "loved-riverside",
   "metadata": {},
   "outputs": [],
   "source": [
    "class BiLSTM(nn.Module):\n",
    "    def __init__(self, embedding_dim, size_hidden, num_poss, num_layers):\n",
    "        super(BiLSTM, self).__init__()\n",
    "\n",
    "        self.word_embedding = nn.Embedding(num_words, embedding_dim, padding_idx=tag_PAD,)\n",
    "        self.lstm = nn.LSTM(embedding_dim, size_hidden, num_layers=num_layers,\n",
    "                            batch_first=True, bidirectional=True)\n",
    "        self.dropout = nn.Dropout(0.25)\n",
    "        self.linear = nn.Linear(size_hidden*2, num_poss)\n",
    "\n",
    "    def forward(self, input_seq):\n",
    "        # print(input_seq.size())\n",
    "        # batch-seq(1 feature)\n",
    "\n",
    "        output_seq = self.word_embedding(input_seq)\n",
    "        # print(output_seq.size())\n",
    "        # batch-seq-embedding_dim\n",
    "\n",
    "        output_seq, (h_n, c_n) = self.lstm(output_seq)\n",
    "        # print(output_seq.size())\n",
    "        # batch-seq-size_hidden*2(BiDirection)\n",
    "        # print(h_n.size())\n",
    "        # 2(BiDirection)-batch-size_hidden\n",
    "\n",
    "        output = self.linear(self.dropout(output_seq))\n",
    "        # print(output.size())\n",
    "        # batch-seq-num_poss\n",
    "\n",
    "        return output #, output_seq, (h_n, c_n)"
   ]
  },
  {
   "cell_type": "code",
   "execution_count": 7,
   "id": "anonymous-cassette",
   "metadata": {},
   "outputs": [],
   "source": [
    "def iteration(samples, optimizer, criterion):\n",
    "    x_train, y_train = samples\n",
    "        \n",
    "    optimizer.zero_grad()\n",
    "\n",
    "    o = model(x_train)\n",
    "    o = o.view(-1,o.size(-1))\n",
    "    t = y_train.view(-1)\n",
    "\n",
    "    loss = criterion(o, t)\n",
    "    loss.backward()\n",
    "    optimizer.step()\n",
    "\n",
    "    return loss.item()"
   ]
  },
  {
   "cell_type": "code",
   "execution_count": 8,
   "id": "medical-company",
   "metadata": {},
   "outputs": [],
   "source": [
    "def epoch(model, optimizer, criterion, dataloader):\n",
    "    model.train()\n",
    "    list_loss = []\n",
    "    for batch_idx, samples in enumerate(dataloader):\n",
    "        loss = iteration(samples, optimizer, criterion)\n",
    "        list_loss.append(loss)\n",
    "    return list_loss"
   ]
  },
  {
   "cell_type": "code",
   "execution_count": 9,
   "id": "floral-assurance",
   "metadata": {},
   "outputs": [],
   "source": [
    "def evaluate(model, criterion, dataloader):\n",
    "    model.eval()\n",
    "    total_loss = 0\n",
    "    for batch_idx, samples in enumerate(dataloader):\n",
    "        x_train, y_train = samples\n",
    "\n",
    "        o = model(x_train)\n",
    "        o = o.view(-1,o.size(-1))\n",
    "        t = y_train.view(-1)\n",
    "\n",
    "        total_loss += criterion(o, t).item()\n",
    "\n",
    "        # if batch_idx % 100 == 0:\n",
    "            # print(batch_idx, loss.item())\n",
    "            \n",
    "    # print(batch_idx, loss.item())\n",
    "    return total_loss / (batch_idx+1)"
   ]
  },
  {
   "cell_type": "code",
   "execution_count": 10,
   "id": "moved-craft",
   "metadata": {},
   "outputs": [],
   "source": [
    "def score1_acc_sample(model, dataset, batch_size):\n",
    "    model.eval()\n",
    "    dataloader = DataLoader(dataset, batch_size=batch_size, shuffle=True)\n",
    "    \n",
    "    total = len(dataset)\n",
    "    cnt_corr = 0\n",
    "    for batch_idx, samples in enumerate(dataloader):\n",
    "        x_train, y_train = samples\n",
    "        \n",
    "        o = model(x_train)\n",
    "        t = y_train.view(-1)\n",
    "\n",
    "        __tagged, tagged = torch.max(o, dim=-1)\n",
    "        \n",
    "        for i in range(x_train.size(0)):\n",
    "            d = tagged[i]!=y_train[i]\n",
    "            if tagged[i][d].size()[0] == 0:\n",
    "                cnt_corr +=1\n",
    "\n",
    "    # print(f'{cnt_corr / total * 100:.4}%')\n",
    "    return cnt_corr / total"
   ]
  },
  {
   "cell_type": "code",
   "execution_count": 11,
   "id": "immune-landing",
   "metadata": {},
   "outputs": [],
   "source": [
    "def score2_acc_word(model, dataset, batch_size):\n",
    "    model.eval()\n",
    "    dataloader = DataLoader(dataset, batch_size=batch_size, shuffle=True)\n",
    "    \n",
    "    total_words = 0\n",
    "    cnt_corr = 0\n",
    "    for batch_idx, samples in enumerate(dataloader):\n",
    "        x_train, y_train = samples\n",
    "        \n",
    "        o = model(x_train)\n",
    "        t = y_train.view(-1)\n",
    "\n",
    "        __tagged, tagged = torch.max(o, dim=-1)\n",
    "        \n",
    "        for i in range(x_train.size(0)):\n",
    "            l = tagged[i].tolist()\n",
    "            if tag_PAD in l:\n",
    "                seq_len = l.index(tag_PAD)\n",
    "            else:\n",
    "                seq_len = len(l)\n",
    "            total_words += seq_len\n",
    "            d = tagged[i,:seq_len]==y_train[i,:seq_len]\n",
    "            cnt_corr += tagged[i,:seq_len][d].size()[0]\n",
    "\n",
    "    # print(f'{cnt_corr} / {total_words}\\t{cnt_corr / total_words * 100:.4}%')\n",
    "    return cnt_corr / total_words"
   ]
  },
  {
   "cell_type": "code",
   "execution_count": 12,
   "id": "impossible-month",
   "metadata": {},
   "outputs": [],
   "source": [
    "def score3_f1(model, dataset, batch_size):\n",
    "    c = posdict.n_words\n",
    "    table = torch.zeros(c,c)\n",
    "    # print(table.size())\n",
    "    # return\n",
    "    \n",
    "    model.eval()\n",
    "    dataloader = DataLoader(dataset, batch_size=batch_size, shuffle=True)\n",
    "    \n",
    "    # total_words = 0\n",
    "    # cnt_corr = 0\n",
    "    for batch_idx, samples in enumerate(dataloader):\n",
    "        x_train, y_train = samples\n",
    "        \n",
    "        o = model(x_train)\n",
    "        t = y_train.view(-1)\n",
    "\n",
    "        __tagged, tagged = torch.max(o, dim=-1)\n",
    "        \n",
    "        for i in range(x_train.size(0)):\n",
    "            l = tagged[i].tolist()\n",
    "            if tag_PAD in l:\n",
    "                seq_len = l.index(tag_PAD)\n",
    "            else:\n",
    "                seq_len = len(l)\n",
    "            for j in range(seq_len):\n",
    "                table[y_train[i,j],tagged[i,j]] += 1\n",
    "\n",
    "    tp = torch.tensor([table[i,i] for i in range(c)])[2:]\n",
    "    d0sum = table[2:,2:].sum(dim=0)\n",
    "    d1sum = table[2:,2:].sum(dim=1)\n",
    "    allsum = d1sum.sum()\n",
    "    \n",
    "    pr = tp / d0sum\n",
    "    temp = pr != pr\n",
    "    pr[temp] = 0\n",
    "    \n",
    "    re = tp / d1sum\n",
    "    temp = re != re\n",
    "    re[temp] = 0\n",
    "    \n",
    "    f1 = 2 * pr * re / (pr + re)\n",
    "    temp = f1 != f1\n",
    "    f1[temp] = 0\n",
    "    \n",
    "    avg_f1 = (f1 * d1sum).sum() / allsum\n",
    "\n",
    "    # print(ttttf1)\n",
    "    return avg_f1.item()"
   ]
  },
  {
   "cell_type": "code",
   "execution_count": 13,
   "id": "actual-value",
   "metadata": {},
   "outputs": [],
   "source": [
    "def scores(model, dataset, batch_size):\n",
    "    model.eval()\n",
    "    dataloader = DataLoader(dataset, batch_size=batch_size, shuffle=True)\n",
    "    \n",
    "    total_samples = len(dataset)\n",
    "    cnt_corr_samples = 0\n",
    "    total_words = 0\n",
    "    cnt_corr_words = 0\n",
    "    c = posdict.n_words\n",
    "    table = torch.zeros(c,c)\n",
    "    \n",
    "    for batch_idx, samples in enumerate(dataloader):\n",
    "        x_train, y_train = samples\n",
    "        \n",
    "        o = model(x_train)\n",
    "        t = y_train.view(-1)\n",
    "\n",
    "        __tagged, tagged = torch.max(o, dim=-1)\n",
    "        \n",
    "        for i in range(x_train.size(0)):\n",
    "            l = y_train[i].tolist()\n",
    "            if tag_PAD in l:\n",
    "                seq_len = l.index(tag_PAD)\n",
    "            else:\n",
    "                seq_len = len(l)\n",
    "            \n",
    "            _y = y_train[i,:seq_len]\n",
    "            _p = tagged[i,:seq_len]\n",
    "            d = _p!=_y\n",
    "            cnt_wrong = _p[d].size()[0]\n",
    "            \n",
    "            # score1_acc_sample\n",
    "            if cnt_wrong == 0:\n",
    "                cnt_corr_samples +=1\n",
    "                \n",
    "            # score2_acc_word\n",
    "            total_words += seq_len\n",
    "            cnt_corr_words += seq_len - cnt_wrong\n",
    "            \n",
    "            # score3_f1\n",
    "            for j in range(seq_len):\n",
    "                table[_y[j],_p[j]] += 1\n",
    "\n",
    "    tp = torch.tensor([table[i,i] for i in range(c)])[2:]\n",
    "    d0sum = table[2:,2:].sum(dim=0)\n",
    "    d1sum = table[2:,2:].sum(dim=1)\n",
    "    allsum = d1sum.sum()\n",
    "    \n",
    "    pr = tp / d0sum\n",
    "    temp = pr != pr\n",
    "    pr[temp] = 0\n",
    "    \n",
    "    re = tp / d1sum\n",
    "    temp = re != re\n",
    "    re[temp] = 0\n",
    "    \n",
    "    f1 = 2 * pr * re / (pr + re)\n",
    "    temp = f1 != f1\n",
    "    f1[temp] = 0\n",
    "    \n",
    "    avg_f1 = (f1 * d1sum).sum() / allsum\n",
    "  \n",
    "    return (cnt_corr_samples / total_samples,\n",
    "            cnt_corr_words / total_words,\n",
    "            avg_f1.item())"
   ]
  },
  {
   "cell_type": "code",
   "execution_count": 14,
   "id": "coated-birthday",
   "metadata": {},
   "outputs": [],
   "source": [
    "def train_score(model, optimizer, criterion, datasets, batch_size, num_epoch, score_func):\n",
    "    dataloader = DataLoader(datasets['train'], batch_size=batch_size, shuffle=True)\n",
    "\n",
    "    score_train = []\n",
    "    score_dev = []\n",
    "    for epoch_i in range(num_epoch):\n",
    "        temp = epoch(model, optimizer, criterion, dataloader)\n",
    "        score_train.append(score_func(model, datasets['train'], 100))\n",
    "        score_dev.append(score_func(model, datasets['dev'], 100))\n",
    "\n",
    "    return score_train, score_dev"
   ]
  },
  {
   "cell_type": "code",
   "execution_count": 15,
   "id": "awful-finger",
   "metadata": {},
   "outputs": [],
   "source": [
    "def train_loss(model, optimizer, criterion, datasets, batch_size, num_epoch):\n",
    "    dataloader = DataLoader(datasets['train'], batch_size=batch_size, shuffle=True)\n",
    "    dataloader_dev = DataLoader(datasets['dev'], batch_size=len(datasets['dev']), shuffle=True)\n",
    "    \n",
    "    list_loss_iteration = []\n",
    "    dict_loss_dev = {}\n",
    "    for epoch_i in range(num_epoch):\n",
    "        temp = epoch(model, optimizer, criterion, dataloader)\n",
    "        list_loss_iteration.extend(temp)\n",
    "        dict_loss_dev[len(list_loss_iteration)] = evaluate(model, criterion, dataloader_dev)\n",
    "        \n",
    "    return list_loss_iteration, dict_loss_dev"
   ]
  },
  {
   "cell_type": "code",
   "execution_count": 16,
   "id": "affecting-vulnerability",
   "metadata": {},
   "outputs": [],
   "source": [
    "def train_losses_scores(model, optimizer, criterion, datasets, batch_size, num_epoch):\n",
    "    dataloader = DataLoader(datasets['train'], batch_size=batch_size, shuffle=True)\n",
    "    dataloader_dev = DataLoader(datasets['dev'], batch_size=len(datasets['dev']), shuffle=True)\n",
    "    dataloader_test = DataLoader(datasets['test'], batch_size=len(datasets['test']), shuffle=True)\n",
    "\n",
    "    dict_losses={'train': [],\n",
    "                 'dev': [],\n",
    "                 'test': []}\n",
    "    \n",
    "    dict_scores={'train': [[],[],[]],\n",
    "                 'dev': [[],[],[]],\n",
    "                 'test': [[],[],[]]}\n",
    "    \n",
    "    for epoch_i in range(num_epoch):\n",
    "        print(f'\\r{epoch_i}', end='')\n",
    "        temp = epoch(model, optimizer, criterion, dataloader)\n",
    "        dict_losses['train'].extend(temp)\n",
    "        dict_losses['dev'].append(evaluate(model, criterion, dataloader_dev))\n",
    "        dict_losses['test'].append(evaluate(model, criterion, dataloader_test))\n",
    "\n",
    "        s_train = scores(model, datasets['train'], 100)\n",
    "        s_dev = scores(model, datasets['dev'], 100)\n",
    "        s_test = scores(model, datasets['test'], 100)\n",
    "        \n",
    "        dict_scores['train'][0].append(s_train[0])\n",
    "        dict_scores['train'][1].append(s_train[1])\n",
    "        dict_scores['train'][2].append(s_train[2])\n",
    "        dict_scores['dev'][0].append(s_dev[0])\n",
    "        dict_scores['dev'][1].append(s_dev[1])\n",
    "        dict_scores['dev'][2].append(s_dev[2])\n",
    "        dict_scores['test'][0].append(s_test[0])\n",
    "        dict_scores['test'][1].append(s_test[1])\n",
    "        dict_scores['test'][2].append(s_test[2])\n",
    "\n",
    "    print()\n",
    "    return dict_losses, dict_scores"
   ]
  },
  {
   "cell_type": "code",
   "execution_count": 17,
   "id": "sized-maldives",
   "metadata": {},
   "outputs": [],
   "source": [
    "def showParallel(words, tags, targets=None):\n",
    "    if '<PAD>' in words:\n",
    "        length = words.index('<PAD>')\n",
    "    else:\n",
    "        lengths = [len(words),len(tags)]        \n",
    "        if targets is not None:\n",
    "            lengths.append(len(targets))\n",
    "        length = min(lengths)\n",
    "    \n",
    "    if targets is not None:\n",
    "        print(f'{\"words\":20}{\"tags\":8}targets')\n",
    "        for i in range(length):\n",
    "            color = 31 if tags[i] != targets[i] else 0\n",
    "            print(f'\\033[{color}m{words[i]:20}{tags[i]:8}{targets[i]}\\033[0m')\n",
    "    else:\n",
    "        print(f'{\"words\":20}tags')\n",
    "        for i in range(length):\n",
    "            print(f'{words[i]:20}{tags[i]}')"
   ]
  },
  {
   "cell_type": "code",
   "execution_count": 18,
   "id": "outer-stroke",
   "metadata": {},
   "outputs": [],
   "source": [
    "def pos_tagging(model, input_seq):\n",
    "    model.eval()\n",
    "    o = model(input_seq)\n",
    "    __tagged, tagged = torch.max(o, dim=-1)\n",
    "    return tagged"
   ]
  },
  {
   "cell_type": "code",
   "execution_count": 19,
   "id": "solar-holly",
   "metadata": {},
   "outputs": [
    {
     "name": "stdout",
     "output_type": "stream",
     "text": [
      "936\n",
      "2012\n",
      "8000\n"
     ]
    }
   ],
   "source": [
    "datasets = {'dev': CustomDataset(filenames['dev']),\n",
    "           'test': CustomDataset(filenames['test']),\n",
    "           'train': CustomDataset(filenames['train'])}\n",
    "# dataloader = DataLoader(dataset, batch_size=20, shuffle=True)\n",
    "print(len(datasets['dev'].y_data))\n",
    "print(len(datasets['test'].y_data)) \n",
    "print(len(datasets['train'].y_data))"
   ]
  },
  {
   "cell_type": "code",
   "execution_count": 20,
   "id": "double-acrobat",
   "metadata": {},
   "outputs": [],
   "source": [
    "embedding_dim = 100\n",
    "size_hidden = 100\n",
    "num_layers = 2\n",
    "size_out = num_poss\n",
    "size_batch = 100\n",
    "# criterion  = nn.CrossEntropyLoss().to(device)\n",
    "criterion  = nn.CrossEntropyLoss(ignore_index=tag_PAD).to(device)"
   ]
  },
  {
   "cell_type": "raw",
   "id": "tutorial-catalog",
   "metadata": {
    "jupyter": {
     "outputs_hidden": true,
     "source_hidden": true
    }
   },
   "source": [
    "model = BiLSTM(embedding_dim, size_hidden, size_out, num_layers).to(device)\n",
    "optimizer = optim.Adam(model.parameters(), lr=0.01)\n",
    "\n",
    "num_epoch = 10\n",
    "score_t, score_d = train_score(model, optimizer, criterion, datasets, size_batch, num_epoch, score1_acc_sample)\n",
    "\n",
    "plt.figure()\n",
    "plt.plot(range(1,len(score_t)+1), score_t, label='train')\n",
    "plt.plot(range(1,len(score_d)+1), score_d, label='dev')\n",
    "plt.title('score1_acc_sample')\n",
    "plt.xlabel('Epoch')\n",
    "plt.ylabel('Accuracy')\n",
    "plt.legend()\n",
    "plt.show()"
   ]
  },
  {
   "cell_type": "raw",
   "id": "alpine-assembly",
   "metadata": {
    "jupyter": {
     "outputs_hidden": true,
     "source_hidden": true
    }
   },
   "source": [
    "model = BiLSTM(embedding_dim, size_hidden, size_out, num_layers).to(device)\n",
    "optimizer = optim.Adam(model.parameters(), lr=0.01)\n",
    "\n",
    "num_epoch = 10\n",
    "score_t, score_d = train_score(model, optimizer, criterion, datasets, size_batch, num_epoch, score2_acc_word)\n",
    "\n",
    "plt.figure()\n",
    "plt.plot(range(1,len(score_t)+1), score_t, label='train')\n",
    "plt.plot(range(1,len(score_d)+1), score_d, label='dev')\n",
    "plt.title('score2_acc_word')\n",
    "plt.xlabel('Epoch')\n",
    "plt.ylabel('Accuracy')\n",
    "plt.legend()\n",
    "plt.show()"
   ]
  },
  {
   "cell_type": "raw",
   "id": "abandoned-hearing",
   "metadata": {
    "jupyter": {
     "outputs_hidden": true,
     "source_hidden": true
    }
   },
   "source": [
    "model = BiLSTM(embedding_dim, size_hidden, size_out, num_layers).to(device)\n",
    "optimizer = optim.Adam(model.parameters(), lr=0.01)\n",
    "\n",
    "num_epoch = 10\n",
    "score_t, score_d = train_score(model, optimizer, criterion, datasets, size_batch, num_epoch, score3_f1)\n",
    "\n",
    "plt.figure()\n",
    "plt.plot(range(1,len(score_t)+1), score_t, label='train')\n",
    "plt.plot(range(1,len(score_d)+1), score_d, label='dev')\n",
    "plt.title('score3_f1')\n",
    "plt.xlabel('Epoch')\n",
    "plt.ylabel('Avg F1 Score')\n",
    "plt.legend()\n",
    "plt.show()"
   ]
  },
  {
   "cell_type": "raw",
   "id": "abandoned-philosophy",
   "metadata": {
    "jupyter": {
     "outputs_hidden": true,
     "source_hidden": true
    }
   },
   "source": [
    "model = BiLSTM(embedding_dim, size_hidden, size_out, num_layers).to(device)\n",
    "optimizer = optim.Adam(model.parameters(), lr=0.01)\n",
    "\n",
    "num_epoch = 10\n",
    "y_loss, dev_loss = train_loss(model, optimizer, criterion, datasets, size_batch, num_epoch)\n",
    "\n",
    "plt.figure(figsize=(10,10))\n",
    "plt.subplot(211)\n",
    "plt.plot(range(len(y_loss)), y_loss)\n",
    "plt.title('train_loss')\n",
    "plt.xlabel('Iteration')\n",
    "plt.ylabel('Loss(train)')\n",
    "plt.subplot(212)\n",
    "plt.plot(dev_loss.keys(), dev_loss.values())\n",
    "plt.xlabel('Iteration')\n",
    "plt.ylabel('Loss(dev)')\n",
    "plt.show()"
   ]
  },
  {
   "cell_type": "code",
   "execution_count": 21,
   "id": "spanish-trance",
   "metadata": {},
   "outputs": [
    {
     "name": "stdout",
     "output_type": "stream",
     "text": [
      "9\n"
     ]
    }
   ],
   "source": [
    "model = BiLSTM(embedding_dim, size_hidden, size_out, num_layers).to(device)\n",
    "optimizer = optim.Adam(model.parameters(), lr=0.01)\n",
    "\n",
    "num_epoch = 10\n",
    "dict_losses, dict_scores = train_losses_scores(model, optimizer, criterion, datasets, size_batch, num_epoch)\n",
    "\n"
   ]
  },
  {
   "cell_type": "code",
   "execution_count": 22,
   "id": "copyrighted-register",
   "metadata": {},
   "outputs": [
    {
     "data": {
      "image/png": "[encoded data removed]",
      "text/plain": [
       "<Figure size 936x936 with 5 Axes>"
      ]
     },
     "metadata": {
      "needs_background": "light"
     },
     "output_type": "display_data"
    }
   ],
   "source": [
    "plt.figure(figsize=(13,13))\n",
    "\n",
    "plt.subplot(421)\n",
    "plt.title('Loss')\n",
    "plt.plot(range(len(dict_losses['train'])), dict_losses['train'], label='train')\n",
    "plt.xlabel('Iteration')\n",
    "plt.ylabel('Train Loss')\n",
    "plt.legend()\n",
    "plt.subplot(423)\n",
    "plt.plot(range(1,num_epoch+1), dict_losses['dev'], label='dev')\n",
    "plt.plot(range(1,num_epoch+1), dict_losses['test'], label='test')\n",
    "plt.xlabel('Epoch')\n",
    "plt.ylabel('Dev, Test Loss')\n",
    "plt.legend()\n",
    "\n",
    "plt.subplot(222)\n",
    "plt.plot(range(1,num_epoch+1), dict_scores['train'][0], label='train')\n",
    "plt.plot(range(1,num_epoch+1), dict_scores['dev'][0], label='dev')\n",
    "plt.plot(range(1,num_epoch+1), dict_scores['test'][0], label='test')\n",
    "plt.legend()\n",
    "plt.title('score1_acc_sample')\n",
    "plt.xlabel('Epoch')\n",
    "plt.ylabel('Accuracy')\n",
    "\n",
    "plt.subplot(223)\n",
    "plt.plot(range(1,num_epoch+1), dict_scores['train'][1], label='train')\n",
    "plt.plot(range(1,num_epoch+1), dict_scores['dev'][1], label='dev')\n",
    "plt.plot(range(1,num_epoch+1), dict_scores['test'][1], label='test')\n",
    "plt.legend()\n",
    "plt.title('score2_acc_word')\n",
    "plt.xlabel('Epoch')\n",
    "plt.ylabel('Accuracy')\n",
    "\n",
    "plt.subplot(224)\n",
    "plt.plot(range(1,num_epoch+1), dict_scores['train'][2], label='train')\n",
    "plt.plot(range(1,num_epoch+1), dict_scores['dev'][2], label='dev')\n",
    "plt.plot(range(1,num_epoch+1), dict_scores['test'][2], label='test')\n",
    "plt.legend()\n",
    "plt.title('score3_f1')\n",
    "plt.xlabel('Epoch')\n",
    "plt.ylabel('Avg F1 Score')\n",
    "\n",
    "plt.show()"
   ]
  },
  {
   "cell_type": "code",
   "execution_count": 26,
   "id": "biblical-legend",
   "metadata": {},
   "outputs": [
    {
     "name": "stdout",
     "output_type": "stream",
     "text": [
      "0.93494   0.9108   0.89608\n",
      "0.98474   0.9443   0.92985\n",
      "0.99564   0.9479   0.93609\n",
      "0.99858   0.950   0.93837\n",
      "0.99958   0.9518   0.9404\n",
      "0.99973   0.9515   0.93994\n",
      "0.99995   0.9532   0.94002\n",
      "0.99998   0.9538   0.94141\n",
      "0.99999   0.9529   0.94039\n",
      "0.99997   0.9535   0.94097\n"
     ]
    }
   ],
   "source": [
    "score_type=2\n",
    "for i in range(10):\n",
    "    print(f'{dict_scores[\"train\"][score_type][i]:<.5}   {dict_scores[\"dev\"][score_type][i]:<05.4}   {dict_scores[\"test\"][score_type][i]:.5}')\n"
   ]
  },
  {
   "cell_type": "raw",
   "id": "consistent-small",
   "metadata": {
    "jupyter": {
     "source_hidden": true
    }
   },
   "source": [
    "st = time.time()\n",
    "train(model, optimizer, criterion, dataset['train'], size_batch)\n",
    "evaluate(model, criterion, dataset['dev'], size_batch)\n",
    "evaluate(model, criterion, dataset['test'], size_batch)\n",
    "print(f'{time.time() - st:.3}')"
   ]
  },
  {
   "cell_type": "code",
   "execution_count": 24,
   "id": "complex-night",
   "metadata": {},
   "outputs": [
    {
     "name": "stdout",
     "output_type": "stream",
     "text": [
      "words               tags    targets\n",
      "\u001b[0mThe                 DT      DT\u001b[0m\n",
      "\u001b[0mstock               NN      NN\u001b[0m\n",
      "\u001b[0m,                   ,       ,\u001b[0m\n",
      "\u001b[0mwhich               WDT     WDT\u001b[0m\n",
      "\u001b[0mfinished            VBD     VBD\u001b[0m\n",
      "\u001b[0mMonday              NNP     NNP\u001b[0m\n",
      "\u001b[0mat                  IN      IN\u001b[0m\n",
      "\u001b[0m29                  CD      CD\u001b[0m\n",
      "\u001b[0m1\\/2                CD      CD\u001b[0m\n",
      "\u001b[0m,                   ,       ,\u001b[0m\n",
      "\u001b[31mtraded              VBN     VBD\u001b[0m\n",
      "\u001b[0mas                  RB      RB\u001b[0m\n",
      "\u001b[0mhigh                JJ      JJ\u001b[0m\n",
      "\u001b[0mas                  IN      IN\u001b[0m\n",
      "\u001b[0m29                  CD      CD\u001b[0m\n",
      "\u001b[0m3\\/4                CD      CD\u001b[0m\n",
      "\u001b[0mand                 CC      CC\u001b[0m\n",
      "\u001b[0mas                  RB      RB\u001b[0m\n",
      "\u001b[0mlow                 JJ      JJ\u001b[0m\n",
      "\u001b[0mas                  IN      IN\u001b[0m\n",
      "\u001b[0m28                  CD      CD\u001b[0m\n",
      "\u001b[0m3\\/4                CD      CD\u001b[0m\n",
      "\u001b[0mbefore              IN      IN\u001b[0m\n",
      "\u001b[0mclosing             VBG     VBG\u001b[0m\n",
      "\u001b[0mat                  IN      IN\u001b[0m\n",
      "\u001b[0m29                  CD      CD\u001b[0m\n",
      "\u001b[0m1\\/4                CD      CD\u001b[0m\n",
      "\u001b[0m,                   ,       ,\u001b[0m\n",
      "\u001b[0mdown                RB      RB\u001b[0m\n",
      "\u001b[0m1\\/4                CD      CD\u001b[0m\n",
      "\u001b[0m.                   .       .\u001b[0m\n"
     ]
    }
   ],
   "source": [
    "testset = datasets['test']\n",
    "for ii in range(len(testset)):\n",
    "    i = 400\n",
    "    input_seq = testset.x_data[i]\n",
    "    target_seq = testset.y_data[i]\n",
    "#     print(target_seq)\n",
    "\n",
    "\n",
    "    input_list = sentenceFromIndexes(engdict, input_seq.tolist())\n",
    "#     print(input_list)\n",
    "    # print(sentenceFromIndexes(posdict, target_seq.tolist()))\n",
    "    output_list = sentenceFromIndexes(posdict, pos_tagging(model, input_seq.unsqueeze(0)).view(-1).tolist())\n",
    "    target_list = sentenceFromIndexes(posdict, target_seq.tolist())\n",
    "\n",
    "#     print(output_list)\n",
    "    showParallel(input_list, output_list, target_list)\n",
    "    break"
   ]
  },
  {
   "cell_type": "raw",
   "id": "egyptian-registrar",
   "metadata": {
    "jupyter": {
     "outputs_hidden": true,
     "source_hidden": true
    }
   },
   "source": [
    "sen = 'I am your father .'\n",
    "in_sen = torch.tensor(indexesFromSentence(engdict, sen), device=device)\n",
    "print(in_sen)\n",
    "\n",
    "print(in_sen.tolist())\n",
    "print(sentenceFromIndexes(engdict, in_sen.tolist()))\n",
    "# print(sentenceFromIndexes(posdict, target_seq.tolist()))\n",
    "print(sentenceFromIndexes(posdict, pos_tagging(model, in_sen.unsqueeze(0)).view(-1).tolist()))\n"
   ]
  },
  {
   "cell_type": "raw",
   "id": "nearby-tuning",
   "metadata": {
    "jupyter": {
     "outputs_hidden": true,
     "source_hidden": true
    }
   },
   "source": [
    "sen2 = [4609,   25,   35,  116, 4610, 1562,   74,  115, 4611,   49, 4612, 1456,\n",
    "        4613,  224,  691,    6, 4614,   76,   30, 1742, 4615,  308,  107, 4614,\n",
    "         116, 4616, 4617,   17]\n",
    "# sen2 = input_seq.tolist()\n",
    "print(sen2)\n",
    "print(sentenceFromIndexes(engdict, sen2))\n",
    "in_sen2 = torch.tensor(sen2, device=device)\n",
    "print(in_sen2)\n",
    "print(sentenceFromIndexes(posdict, target_seq.tolist()))\n",
    "print(sentenceFromIndexes(posdict, pos_tagging(model, in_sen2.unsqueeze(0)).view(-1).tolist()))\n",
    "\n"
   ]
  },
  {
   "cell_type": "raw",
   "id": "significant-friend",
   "metadata": {
    "jupyter": {
     "source_hidden": true
    }
   },
   "source": [
    "score1(model, dataset['train'], 100)\n",
    "score2(model, dataset['train'], 100)\n",
    "score3(model, dataset['train'], 100)\n",
    "\n",
    "score1(model, dataset['dev'], 100)\n",
    "score2(model, dataset['dev'], 100)\n",
    "score3(model, dataset['dev'], 100)\n",
    "\n",
    "score1(model, dataset['test'], 100)\n",
    "score2(model, dataset['test'], 100)\n",
    "score3(model, dataset['test'], 100)"
   ]
  },
  {
   "cell_type": "code",
   "execution_count": null,
   "id": "eligible-convenience",
   "metadata": {},
   "outputs": [],
   "source": []
  }
 ],
 "metadata": {
  "kernelspec": {
   "display_name": "Python 3",
   "language": "python",
   "name": "python3"
  },
  "language_info": {
   "codemirror_mode": {
    "name": "ipython",
    "version": 3
   },
   "file_extension": ".py",
   "mimetype": "text/x-python",
   "name": "python",
   "nbconvert_exporter": "python",
   "pygments_lexer": "ipython3",
   "version": "3.8.5"
  }
 },
 "nbformat": 4,
 "nbformat_minor": 5
}
