{
 "cells": [
  {
   "cell_type": "code",
   "execution_count": 1,
   "id": "criminal-eagle",
   "metadata": {},
   "outputs": [],
   "source": [
    "%matplotlib inline"
   ]
  },
  {
   "cell_type": "code",
   "execution_count": 2,
   "id": "piano-edwards",
   "metadata": {},
   "outputs": [],
   "source": [
    "import time\n",
    "import matplotlib.pyplot as plt \n",
    "import torch\n",
    "from torch import optim\n",
    "from torch.utils.data import DataLoader\n",
    "from dataload import lang, localdata\n",
    "from tagger.charbilstmcrf import CharBiLSTMCRF\n",
    "from etc.customUtil import showGraph, showParallel\n",
    "from etc import defaultsetting as ds"
   ]
  },
  {
   "cell_type": "code",
   "execution_count": 3,
   "id": "abandoned-birth",
   "metadata": {},
   "outputs": [
    {
     "name": "stdout",
     "output_type": "stream",
     "text": [
      "cuda\n"
     ]
    }
   ],
   "source": [
    "device = torch.device(\"cuda\" if torch.cuda.is_available() else \"cpu\")\n",
    "print(device)"
   ]
  },
  {
   "cell_type": "code",
   "execution_count": 4,
   "id": "instant-credit",
   "metadata": {},
   "outputs": [
    {
     "name": "stdout",
     "output_type": "stream",
     "text": [
      "21591\n",
      "82\n",
      "46\n",
      "54\n",
      "78\n",
      "4\n",
      "78\n",
      "936\n",
      "2012\n",
      "8000\n"
     ]
    }
   ],
   "source": [
    "tag_PAD = ds.TOKKEN_PAD_IDX\n",
    "tag_UNK = ds.TOKKEN_UNK_IDX\n",
    "\n",
    "datasets, engdict, posdict = localdata.load_eng_pos(device, strmode=True) # , charmode=True)\n",
    "num_words = engdict.n_words\n",
    "num_chars = engdict.n_chars\n",
    "num_poss = posdict.n_words\n",
    "print(num_words)\n",
    "print(num_chars)\n",
    "print(num_poss)\n",
    "# print(MAX_LENGTH)\n",
    "print(engdict.max_len_char)\n",
    "print(engdict.max_len_word)\n",
    "print(posdict.max_len_char)\n",
    "print(posdict.max_len_word)\n",
    "\n",
    "print(len(datasets['dev'].y_data))\n",
    "print(len(datasets['test'].y_data))\n",
    "print(len(datasets['train'].y_data))"
   ]
  },
  {
   "cell_type": "code",
   "execution_count": 5,
   "id": "boring-calculator",
   "metadata": {},
   "outputs": [],
   "source": [
    "def iteration(samples, optimizer):\n",
    "    x_train, y_train = samples\n",
    "\n",
    "    optimizer.zero_grad()\n",
    "\n",
    "    loss = model(engdict, device, x_train, y_train)\n",
    "    \n",
    "    loss.backward()\n",
    "    optimizer.step()\n",
    "\n",
    "    return loss"
   ]
  },
  {
   "cell_type": "code",
   "execution_count": 6,
   "id": "ready-motion",
   "metadata": {},
   "outputs": [],
   "source": [
    "def epoch(model, optimizer, dataloader):\n",
    "    model.train()\n",
    "    list_loss = []\n",
    "    for batch_idx, samples in enumerate(dataloader):\n",
    "        loss = iteration(samples, optimizer)\n",
    "        list_loss.append(loss.item())\n",
    "    return list_loss"
   ]
  },
  {
   "cell_type": "code",
   "execution_count": 7,
   "id": "described-independence",
   "metadata": {},
   "outputs": [],
   "source": [
    "def evaluate(model, dataloader):\n",
    "    model.eval()\n",
    "    total_loss = 0\n",
    "    for batch_idx, samples in enumerate(dataloader):\n",
    "        x_train, y_train = samples\n",
    "\n",
    "        loss = model(engdict, device, x_train, y_train, lossmode=True)\n",
    "        \n",
    "        total_loss += loss.item()\n",
    "\n",
    "        # if batch_idx % 100 == 0:\n",
    "            # print(batch_idx, loss.item())\n",
    "            \n",
    "    # print(batch_idx, loss.item())\n",
    "    return total_loss / (batch_idx+1)"
   ]
  },
  {
   "cell_type": "code",
   "execution_count": 8,
   "id": "ethical-content",
   "metadata": {},
   "outputs": [],
   "source": [
    "def scores(model, dataset, batch_size):\n",
    "    model.eval()\n",
    "    dataloader = DataLoader(dataset, batch_size=batch_size, shuffle=True)\n",
    "    \n",
    "    num_samples = len(dataset)\n",
    "    cnt_corr_samples = 0\n",
    "    total_words = 0\n",
    "    cnt_corr_words = 0\n",
    "    c = posdict.n_words\n",
    "    table = torch.zeros(c,c)\n",
    "    \n",
    "    for batch_idx, samples in enumerate(dataloader):\n",
    "        x_train, y_train = samples\n",
    "        \n",
    "        tagged = model(engdict, device, x_train, lossmode=False)\n",
    "        tagged = torch.tensor(tagged)\n",
    "        y_train = y_train.to('cpu')\n",
    "        \n",
    "        for i in range(y_train.size(0)):\n",
    "            l = y_train[i].tolist()\n",
    "            if tag_PAD in l:\n",
    "                seq_len = l.index(tag_PAD)\n",
    "            else:\n",
    "                seq_len = len(l)\n",
    "            \n",
    "            _y = y_train[i,:seq_len]\n",
    "            _p = tagged[i,:seq_len]\n",
    "            d = _p!=_y\n",
    "            cnt_wrong = _p[d].size()[0]\n",
    "            \n",
    "            # score1_acc_sample\n",
    "            if cnt_wrong == 0:\n",
    "                cnt_corr_samples +=1\n",
    "                \n",
    "            # score2_acc_word\n",
    "            total_words += seq_len\n",
    "            cnt_corr_words += seq_len - cnt_wrong\n",
    "            \n",
    "            # score3_f1\n",
    "            for j in range(seq_len):\n",
    "                table[_y[j],_p[j]] += 1\n",
    "\n",
    "    table = table.to(device)\n",
    "    tp = torch.tensor([table[i,i] for i in range(c)], device=device)[2:]\n",
    "    d0sum = table[2:,2:].sum(dim=0)\n",
    "    d1sum = table[2:,2:].sum(dim=1)\n",
    "    allsum = d1sum.sum()\n",
    "    \n",
    "    pr = tp / d0sum\n",
    "    temp = pr != pr\n",
    "    pr[temp] = 0\n",
    "    \n",
    "    re = tp / d1sum\n",
    "    temp = re != re\n",
    "    re[temp] = 0\n",
    "    \n",
    "    f1 = 2 * pr * re / (pr + re)\n",
    "    temp = f1 != f1\n",
    "    f1[temp] = 0\n",
    "    \n",
    "    avg_f1 = (f1 * d1sum).sum() / allsum\n",
    "    \n",
    "    return (cnt_corr_samples / num_samples,\n",
    "            cnt_corr_words / total_words,\n",
    "            avg_f1.item())"
   ]
  },
  {
   "cell_type": "code",
   "execution_count": 9,
   "id": "wanted-guyana",
   "metadata": {},
   "outputs": [],
   "source": [
    "def train_losses_scores(model, optimizer, datasets, batch_size, num_epoch):\n",
    "\n",
    "    dict_losses={'train': [],\n",
    "                 'dev': [],\n",
    "                 'test': []\n",
    "                }\n",
    "    \n",
    "    dict_scores={'train': [[],[],[]],\n",
    "                 'dev': [[],[],[]],\n",
    "                 'test': [[],[],[]]\n",
    "                }\n",
    "    best_dev_f1 = 0.0\n",
    "    for epoch_i in range(1,num_epoch+1):\n",
    "        dataloader = DataLoader(datasets['train'], batch_size=batch_size, shuffle=True)\n",
    "        dataloader_dev = DataLoader(datasets['dev'], batch_size=batch_size, shuffle=True)\n",
    "        dataloader_test = DataLoader(datasets['test'], batch_size=batch_size, shuffle=True)\n",
    "        print(f'\\r{epoch_i}', end='')\n",
    "        temp = epoch(model, optimizer, dataloader)\n",
    "        dict_losses['train'].extend(temp)\n",
    "        dict_losses['dev'].append(evaluate(model, dataloader_dev))\n",
    "        dict_losses['test'].append(evaluate(model, dataloader_test))\n",
    "\n",
    "        s_train = scores(model, datasets['train'], 100)\n",
    "        s_dev = scores(model, datasets['dev'], 100)\n",
    "        s_test = scores(model, datasets['test'], 100)\n",
    "        \n",
    "        dict_scores['train'][0].append(s_train[0])\n",
    "        dict_scores['train'][1].append(s_train[1])\n",
    "        dict_scores['train'][2].append(s_train[2])\n",
    "        dict_scores['dev'][0].append(s_dev[0])\n",
    "        dict_scores['dev'][1].append(s_dev[1])\n",
    "        dict_scores['dev'][2].append(s_dev[2])\n",
    "        dict_scores['test'][0].append(s_test[0])\n",
    "        dict_scores['test'][1].append(s_test[1])\n",
    "        dict_scores['test'][2].append(s_test[2])\n",
    "        \n",
    "        if s_dev[2] > best_dev_f1:\n",
    "            print(f' epoch Dev F1 score: {best_dev_f1:.6} -> {s_dev[2]:.6}')\n",
    "            best_dev_f1 = s_dev[2]\n",
    "            torch.save(model, 'best_char_bilstm_crf_pos.pt')\n",
    "    print()\n",
    "    return dict_losses, dict_scores"
   ]
  },
  {
   "cell_type": "code",
   "execution_count": 10,
   "id": "determined-compiler",
   "metadata": {},
   "outputs": [],
   "source": [
    "def pos_tagging(model, input_seq):\n",
    "    model.eval()\n",
    "    o = model(engdict, device, input_seq, lossmode=False)\n",
    "#     print(o)\n",
    "#     __tagged, tagged = torch.max(o, dim=-1)\n",
    "    return o"
   ]
  },
  {
   "cell_type": "code",
   "execution_count": 11,
   "id": "increased-preference",
   "metadata": {},
   "outputs": [],
   "source": [
    "def calc(model, input_seq, target_seq=None):\n",
    "    # input_seq = engdict.tensorFromSentence(input_seq, device)\n",
    "    # input_list = engdict.sentenceFromIndexes(input_seq.tolist())\n",
    "    input_list = input_seq.split()\n",
    "\n",
    "    # print(input_list)\n",
    "    # print(sentenceFromIndexes(posdict, target_seq.tolist()))\n",
    "    output_list = posdict.sentenceFromIndexes(pos_tagging(model, [input_seq])[0])\n",
    "    \n",
    "    target_list = None\n",
    "    if target_seq is not None:\n",
    "        target_list = posdict.sentenceFromIndexes(target_seq.tolist())\n",
    "\n",
    "#     print(output_list)\n",
    "    showParallel(input_list, output_list, target_list)"
   ]
  },
  {
   "cell_type": "code",
   "execution_count": 12,
   "id": "compatible-artist",
   "metadata": {},
   "outputs": [],
   "source": [
    "# embedding_dim = 100\n",
    "char_dim = 10\n",
    "word_dim = 50\n",
    "size_hidden = 50\n",
    "num_layers = 1\n",
    "size_out = num_poss\n",
    "size_batch = 100\n",
    "# criterion  = nn.CrossEntropyLoss().to(device)\n",
    "# criterion  = nn.CrossEntropyLoss(ignore_index=tag_PAD).to(device)"
   ]
  },
  {
   "cell_type": "code",
   "execution_count": 13,
   "id": "warming-timing",
   "metadata": {},
   "outputs": [
    {
     "name": "stdout",
     "output_type": "stream",
     "text": [
      "1 epoch Dev F1 score: 0.0 -> 0.724431\n",
      "2 epoch Dev F1 score: 0.724431 -> 0.879587\n",
      "3 epoch Dev F1 score: 0.879587 -> 0.922072\n",
      "4 epoch Dev F1 score: 0.922072 -> 0.941145\n",
      "5 epoch Dev F1 score: 0.941145 -> 0.949183\n",
      "6 epoch Dev F1 score: 0.949183 -> 0.955991\n",
      "7 epoch Dev F1 score: 0.955991 -> 0.959138\n",
      "8 epoch Dev F1 score: 0.959138 -> 0.962302\n",
      "9 epoch Dev F1 score: 0.962302 -> 0.965019\n",
      "11 epoch Dev F1 score: 0.965019 -> 0.968889\n",
      "13 epoch Dev F1 score: 0.968889 -> 0.971269\n",
      "15 epoch Dev F1 score: 0.971269 -> 0.971572\n",
      "16 epoch Dev F1 score: 0.971572 -> 0.97269\n",
      "18 epoch Dev F1 score: 0.97269 -> 0.974337\n",
      "21 epoch Dev F1 score: 0.974337 -> 0.974427\n",
      "22 epoch Dev F1 score: 0.974427 -> 0.975207\n",
      "60\n",
      "\t5365.371846437454\n"
     ]
    }
   ],
   "source": [
    "model = CharBiLSTMCRF(num_chars, num_words, char_dim, word_dim, size_hidden, size_out, num_layers, tag_PAD).to(device)\n",
    "optimizer = optim.Adam(model.parameters(), lr=0.01)\n",
    "\n",
    "num_epoch = 60\n",
    "st = time.time()\n",
    "dict_losses, dict_scores = train_losses_scores(model, optimizer, datasets, size_batch, num_epoch)\n",
    "print(f'\\t{time.time()-st:5}')"
   ]
  },
  {
   "cell_type": "code",
   "execution_count": 14,
   "id": "employed-attitude",
   "metadata": {},
   "outputs": [
    {
     "data": {
      "image/png": "[encoded data removed]",
      "text/plain": [
       "<Figure size 936x936 with 5 Axes>"
      ]
     },
     "metadata": {
      "needs_background": "light"
     },
     "output_type": "display_data"
    }
   ],
   "source": [
    "showGraph(dict_losses, dict_scores)"
   ]
  },
  {
   "cell_type": "code",
   "execution_count": 15,
   "id": "played-bishop",
   "metadata": {},
   "outputs": [
    {
     "name": "stdout",
     "output_type": "stream",
     "text": [
      "0.70665   0.7244   0.71497\n",
      "0.8733   0.8796   0.87447\n",
      "0.92235   0.9221   0.91986\n",
      "0.94272   0.9411   0.93875\n",
      "0.95169   0.9492   0.94897\n",
      "0.96041   0.956   0.95539\n",
      "0.96422   0.9591   0.95544\n",
      "0.96849   0.9623   0.95936\n",
      "0.97183   0.965   0.96144\n",
      "0.97262   0.9645   0.96178\n",
      "0.97614   0.9689   0.96409\n",
      "0.97838   0.9684   0.96517\n",
      "0.97958   0.9713   0.9662\n",
      "0.98148   0.9709   0.96632\n",
      "0.9823   0.9716   0.96778\n",
      "0.98298   0.9727   0.96768\n",
      "0.98457   0.9727   0.96805\n",
      "0.9862   0.9743   0.96883\n",
      "0.98693   0.9735   0.96953\n",
      "0.98698   0.974   0.96921\n",
      "0.98814   0.9744   0.9703\n",
      "0.98929   0.9752   0.97074\n",
      "0.98958   0.9752   0.97058\n",
      "0.98982   0.9749   0.97112\n",
      "0.98973   0.9742   0.97009\n",
      "0.88267   0.8883   0.88177\n",
      "0.95752   0.9534   0.94991\n",
      "0.96842   0.9618   0.95786\n",
      "0.97256   0.9641   0.95968\n",
      "0.97686   0.9667   0.9628\n",
      "0.97918   0.9689   0.96355\n",
      "0.98228   0.9693   0.96505\n",
      "0.98374   0.9701   0.96627\n",
      "0.98518   0.9707   0.96594\n",
      "0.98553   0.9715   0.96703\n",
      "0.98664   0.9704   0.96654\n",
      "0.98786   0.9722   0.96621\n",
      "0.98893   0.972   0.9676\n",
      "0.98968   0.9721   0.9678\n",
      "0.99013   0.9726   0.96799\n",
      "0.99024   0.9726   0.96754\n",
      "0.99033   0.9719   0.96801\n",
      "0.99122   0.9721   0.96788\n",
      "0.99197   0.9731   0.96872\n",
      "0.99191   0.9735   0.96852\n",
      "0.99278   0.9733   0.96843\n",
      "0.99268   0.9729   0.96871\n",
      "0.99284   0.9743   0.96824\n",
      "0.99296   0.9741   0.96798\n",
      "0.99364   0.9736   0.96899\n",
      "0.99371   0.9733   0.96848\n",
      "0.99376   0.9734   0.96902\n",
      "0.99428   0.9729   0.96858\n",
      "0.99431   0.9738   0.96949\n",
      "0.99428   0.9744   0.96944\n",
      "0.99456   0.9747   0.96902\n",
      "0.99474   0.9739   0.96904\n",
      "0.99477   0.9747   0.9687\n",
      "0.99538   0.974   0.96871\n",
      "0.99503   0.9747   0.96947\n"
     ]
    }
   ],
   "source": [
    "score_type=2\n",
    "for i in range(len(dict_scores[\"train\"][score_type])):\n",
    "    print(f'{dict_scores[\"train\"][score_type][i]:<.5}   {dict_scores[\"dev\"][score_type][i]:<05.4}   {dict_scores[\"test\"][score_type][i]:.5}')"
   ]
  },
  {
   "cell_type": "code",
   "execution_count": 16,
   "id": "worth-copper",
   "metadata": {},
   "outputs": [
    {
     "name": "stdout",
     "output_type": "stream",
     "text": [
      "words               tags    targets\n",
      "\u001b[0mPublic              JJ      JJ\u001b[0m\n",
      "\u001b[0mprotests            NNS     NNS\u001b[0m\n",
      "\u001b[0magainst             IN      IN\u001b[0m\n",
      "\u001b[0mhim                 PRP     PRP\u001b[0m\n",
      "\u001b[0mwere                VBD     VBD\u001b[0m\n",
      "\u001b[0mtriggered           VBN     VBN\u001b[0m\n",
      "\u001b[0min                  IN      IN\u001b[0m\n",
      "\u001b[0mJune                NNP     NNP\u001b[0m\n",
      "\u001b[0m1987                CD      CD\u001b[0m\n",
      "\u001b[0mdue                 JJ      JJ\u001b[0m\n",
      "\u001b[0mto                  TO      TO\u001b[0m\n",
      "\u001b[0mcharges             NNS     NNS\u001b[0m\n",
      "\u001b[0mby                  IN      IN\u001b[0m\n",
      "\u001b[0mDiaz                NNP     NNP\u001b[0m\n",
      "\u001b[0mHerrera             NNP     NNP\u001b[0m\n",
      "\u001b[0m,                   ,       ,\u001b[0m\n",
      "\u001b[0mhis                 PRP$    PRP$\u001b[0m\n",
      "\u001b[0mformer              JJ      JJ\u001b[0m\n",
      "\u001b[0mchief               NN      NN\u001b[0m\n",
      "\u001b[0mof                  IN      IN\u001b[0m\n",
      "\u001b[0mstaff               NN      NN\u001b[0m\n",
      "\u001b[0m,                   ,       ,\u001b[0m\n",
      "\u001b[0mthat                IN      IN\u001b[0m\n",
      "\u001b[0mMr.                 NNP     NNP\u001b[0m\n",
      "\u001b[0mNoriega             NNP     NNP\u001b[0m\n",
      "\u001b[0mhad                 VBD     VBD\u001b[0m\n",
      "\u001b[0mstolen              VBN     VBN\u001b[0m\n",
      "\u001b[0mthe                 DT      DT\u001b[0m\n",
      "\u001b[0m1984                CD      CD\u001b[0m\n",
      "\u001b[0melection            NN      NN\u001b[0m\n",
      "\u001b[0mand                 CC      CC\u001b[0m\n",
      "\u001b[0mhad                 VBD     VBD\u001b[0m\n",
      "\u001b[0mordered             VBN     VBN\u001b[0m\n",
      "\u001b[0mthe                 DT      DT\u001b[0m\n",
      "\u001b[0mkilling             NN      NN\u001b[0m\n",
      "\u001b[0mof                  IN      IN\u001b[0m\n",
      "\u001b[0mMessrs.             NNP     NNP\u001b[0m\n",
      "\u001b[0mSpadafora           NNP     NNP\u001b[0m\n",
      "\u001b[0mand                 CC      CC\u001b[0m\n",
      "\u001b[0mTorrijos            NNP     NNP\u001b[0m\n",
      "\u001b[0m.                   .       .\u001b[0m\n"
     ]
    }
   ],
   "source": [
    "testset = datasets['test']\n",
    "for ii in range(len(testset)):\n",
    "    i = 300\n",
    "    input_seq = testset.x_data[i]\n",
    "    target_seq = testset.y_data[i]\n",
    "    calc(model, input_seq, target_seq)\n",
    "    break\n",
    "#     print(target_seq)"
   ]
  },
  {
   "cell_type": "code",
   "execution_count": 17,
   "id": "returning-survey",
   "metadata": {},
   "outputs": [
    {
     "name": "stdout",
     "output_type": "stream",
     "text": [
      "words               tags\n",
      "I                   PRP\n",
      "am                  VBP\n",
      "your                PRP$\n",
      "father              NN\n",
      ".                   .\n"
     ]
    }
   ],
   "source": [
    "sen = 'I am your father .'\n",
    "# in_sen = torch.tensor(engdict.indexesFromSentence(sen), device=device)\n",
    "\n",
    "# sen2 = [4609,   25,   35,  116, 4610, 1562,   74,  115, 4611,   49, 4612, 1456,\n",
    "#         4613,  224,  691,    6, 4614,   76,   30, 1742, 4615,  308,  107, 4614,\n",
    "#          116, 4616, 4617,   17]\n",
    "# in_sen = torch.tensor(sen2, device=device)\n",
    "\n",
    "calc(model, sen)"
   ]
  },
  {
   "cell_type": "code",
   "execution_count": null,
   "id": "blond-vessel",
   "metadata": {},
   "outputs": [],
   "source": []
  },
  {
   "cell_type": "code",
   "execution_count": 18,
   "id": "crude-harvest",
   "metadata": {},
   "outputs": [
    {
     "name": "stdout",
     "output_type": "stream",
     "text": [
      "(0.6004273504273504, 0.975255391600454, 0.9752067923545837)\n",
      "(0.5482107355864811, 0.9707030837748275, 0.9707372188568115)\n"
     ]
    }
   ],
   "source": [
    "best_model = torch.load('best_char_bilstm_crf_pos.pt')\n",
    "s_dev = scores(best_model, datasets['dev'], 100)\n",
    "s_test = scores(best_model, datasets['test'], 100)\n",
    "print(s_dev)\n",
    "print(s_test)"
   ]
  },
  {
   "cell_type": "code",
   "execution_count": null,
   "id": "organized-strike",
   "metadata": {},
   "outputs": [],
   "source": []
  }
 ],
 "metadata": {
  "kernelspec": {
   "display_name": "Python 3",
   "language": "python",
   "name": "python3"
  },
  "language_info": {
   "codemirror_mode": {
    "name": "ipython",
    "version": 3
   },
   "file_extension": ".py",
   "mimetype": "text/x-python",
   "name": "python",
   "nbconvert_exporter": "python",
   "pygments_lexer": "ipython3",
   "version": "3.8.5"
  }
 },
 "nbformat": 4,
 "nbformat_minor": 5
}
