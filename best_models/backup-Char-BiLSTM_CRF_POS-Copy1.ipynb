{
 "cells": [
  {
   "cell_type": "code",
   "execution_count": 1,
   "id": "introductory-orlando",
   "metadata": {},
   "outputs": [],
   "source": [
    "%matplotlib inline"
   ]
  },
  {
   "cell_type": "code",
   "execution_count": 2,
   "id": "welsh-impossible",
   "metadata": {},
   "outputs": [],
   "source": [
    "import time\n",
    "import matplotlib.pyplot as plt \n",
    "import torch\n",
    "from torch import optim\n",
    "from torch.utils.data import DataLoader\n",
    "from dataload import lang, localdata\n",
    "from tagger.charbilstmcrf import CharBiLSTMCRF\n",
    "from etc.customUtil import showGraph, showParallel"
   ]
  },
  {
   "cell_type": "code",
   "execution_count": 3,
   "id": "efficient-hunter",
   "metadata": {},
   "outputs": [
    {
     "name": "stdout",
     "output_type": "stream",
     "text": [
      "cuda\n"
     ]
    }
   ],
   "source": [
    "device = torch.device(\"cuda\" if torch.cuda.is_available() else \"cpu\")\n",
    "print(device)"
   ]
  },
  {
   "cell_type": "code",
   "execution_count": 4,
   "id": "legal-drinking",
   "metadata": {},
   "outputs": [
    {
     "name": "stdout",
     "output_type": "stream",
     "text": [
      "21591\n",
      "82\n",
      "46\n",
      "54\n",
      "78\n",
      "4\n",
      "78\n",
      "936\n",
      "2012\n",
      "8000\n"
     ]
    }
   ],
   "source": [
    "tag_PAD = lang.tag_PAD\n",
    "tag_UNK = lang.tag_UNK\n",
    "\n",
    "datasets, engdict, posdict = localdata.load_eng_pos(device, strmode=True) # , charmode=True)\n",
    "num_words = engdict.n_words\n",
    "num_chars = engdict.n_chars\n",
    "num_poss = posdict.n_words\n",
    "print(num_words)\n",
    "print(num_chars)\n",
    "print(num_poss)\n",
    "# print(MAX_LENGTH)\n",
    "print(engdict.max_len_char)\n",
    "print(engdict.max_len_word)\n",
    "print(posdict.max_len_char)\n",
    "print(posdict.max_len_word)\n",
    "\n",
    "print(len(datasets['dev'].y_data))\n",
    "print(len(datasets['test'].y_data))\n",
    "print(len(datasets['train'].y_data))"
   ]
  },
  {
   "cell_type": "code",
   "execution_count": 5,
   "id": "appropriate-childhood",
   "metadata": {},
   "outputs": [],
   "source": [
    "def iteration(samples, optimizer):\n",
    "    x_train, y_train = samples\n",
    "\n",
    "    optimizer.zero_grad()\n",
    "\n",
    "    loss = model(engdict, device, x_train, y_train)\n",
    "    \n",
    "    loss.backward()\n",
    "    optimizer.step()\n",
    "\n",
    "    return loss"
   ]
  },
  {
   "cell_type": "code",
   "execution_count": 6,
   "id": "suspended-nudist",
   "metadata": {},
   "outputs": [],
   "source": [
    "def epoch(model, optimizer, dataloader):\n",
    "    model.train()\n",
    "    list_loss = []\n",
    "    for batch_idx, samples in enumerate(dataloader):\n",
    "        loss = iteration(samples, optimizer)\n",
    "        list_loss.append(loss.item())\n",
    "    return list_loss"
   ]
  },
  {
   "cell_type": "code",
   "execution_count": 7,
   "id": "antique-bunch",
   "metadata": {},
   "outputs": [],
   "source": [
    "def evaluate(model, dataloader):\n",
    "    model.eval()\n",
    "    total_loss = 0\n",
    "    for batch_idx, samples in enumerate(dataloader):\n",
    "        x_train, y_train = samples\n",
    "\n",
    "        loss = model(engdict, device, x_train, y_train, lossmode=True)\n",
    "        \n",
    "        total_loss += loss.item()\n",
    "\n",
    "        # if batch_idx % 100 == 0:\n",
    "            # print(batch_idx, loss.item())\n",
    "            \n",
    "    # print(batch_idx, loss.item())\n",
    "    return total_loss / (batch_idx+1)"
   ]
  },
  {
   "cell_type": "code",
   "execution_count": 8,
   "id": "partial-positive",
   "metadata": {},
   "outputs": [],
   "source": [
    "def scores(model, dataset, batch_size):\n",
    "    model.eval()\n",
    "    dataloader = DataLoader(dataset, batch_size=batch_size, shuffle=True)\n",
    "    \n",
    "    num_samples = len(dataset)\n",
    "    cnt_corr_samples = 0\n",
    "    total_words = 0\n",
    "    cnt_corr_words = 0\n",
    "    c = posdict.n_words\n",
    "    table = torch.zeros(c,c)\n",
    "    \n",
    "    for batch_idx, samples in enumerate(dataloader):\n",
    "        x_train, y_train = samples\n",
    "        \n",
    "        tagged = model(engdict, device, x_train, lossmode=False)\n",
    "        tagged = torch.tensor(tagged, device=device)\n",
    "        \n",
    "        for i in range(y_train.size(0)):\n",
    "            l = y_train[i].tolist()\n",
    "            if tag_PAD in l:\n",
    "                seq_len = l.index(tag_PAD)\n",
    "            else:\n",
    "                seq_len = len(l)\n",
    "            \n",
    "            _y = y_train[i,:seq_len]\n",
    "            _p = tagged[i,:seq_len]\n",
    "            d = _p!=_y\n",
    "            cnt_wrong = _p[d].size()[0]\n",
    "            \n",
    "            # score1_acc_sample\n",
    "            if cnt_wrong == 0:\n",
    "                cnt_corr_samples +=1\n",
    "                \n",
    "            # score2_acc_word\n",
    "            total_words += seq_len\n",
    "            cnt_corr_words += seq_len - cnt_wrong\n",
    "            \n",
    "            # score3_f1\n",
    "            for j in range(seq_len):\n",
    "                table[_y[j],_p[j]] += 1\n",
    "\n",
    "    tp = torch.tensor([table[i,i] for i in range(c)])[2:]\n",
    "    d0sum = table[2:,2:].sum(dim=0)\n",
    "    d1sum = table[2:,2:].sum(dim=1)\n",
    "    allsum = d1sum.sum()\n",
    "    \n",
    "    pr = tp / d0sum\n",
    "    temp = pr != pr\n",
    "    pr[temp] = 0\n",
    "    \n",
    "    re = tp / d1sum\n",
    "    temp = re != re\n",
    "    re[temp] = 0\n",
    "    \n",
    "    f1 = 2 * pr * re / (pr + re)\n",
    "    temp = f1 != f1\n",
    "    f1[temp] = 0\n",
    "    \n",
    "    avg_f1 = (f1 * d1sum).sum() / allsum\n",
    "    \n",
    "    return (cnt_corr_samples / num_samples,\n",
    "            cnt_corr_words / total_words,\n",
    "            avg_f1.item())"
   ]
  },
  {
   "cell_type": "code",
   "execution_count": 9,
   "id": "enclosed-component",
   "metadata": {},
   "outputs": [],
   "source": [
    "def train_losses_scores(model, optimizer, datasets, batch_size, num_epoch):\n",
    "\n",
    "    dict_losses={'train': [],\n",
    "                 'dev': [],\n",
    "                 'test': []\n",
    "                }\n",
    "    \n",
    "    dict_scores={'train': [[],[],[]],\n",
    "                 'dev': [[],[],[]],\n",
    "                 'test': [[],[],[]]\n",
    "                }\n",
    "    best_dev_f1 = 0.0\n",
    "    for epoch_i in range(1,num_epoch+1):\n",
    "        dataloader = DataLoader(datasets['train'], batch_size=batch_size, shuffle=True)\n",
    "        dataloader_dev = DataLoader(datasets['dev'], batch_size=batch_size, shuffle=True)\n",
    "        dataloader_test = DataLoader(datasets['test'], batch_size=batch_size, shuffle=True)\n",
    "        print(f'\\r{epoch_i}', end='')\n",
    "        temp = epoch(model, optimizer, dataloader)\n",
    "        dict_losses['train'].extend(temp)\n",
    "        dict_losses['dev'].append(evaluate(model, dataloader_dev))\n",
    "        dict_losses['test'].append(evaluate(model, dataloader_test))\n",
    "\n",
    "        s_train = scores(model, datasets['train'], 100)\n",
    "        s_dev = scores(model, datasets['dev'], 100)\n",
    "        s_test = scores(model, datasets['test'], 100)\n",
    "        \n",
    "        dict_scores['train'][0].append(s_train[0])\n",
    "        dict_scores['train'][1].append(s_train[1])\n",
    "        dict_scores['train'][2].append(s_train[2])\n",
    "        dict_scores['dev'][0].append(s_dev[0])\n",
    "        dict_scores['dev'][1].append(s_dev[1])\n",
    "        dict_scores['dev'][2].append(s_dev[2])\n",
    "        dict_scores['test'][0].append(s_test[0])\n",
    "        dict_scores['test'][1].append(s_test[1])\n",
    "        dict_scores['test'][2].append(s_test[2])\n",
    "        \n",
    "        if s_dev[2] > best_dev_f1:\n",
    "            print(f' epoch Dev F1 score: {best_dev_f1:.6} -> {s_dev[2]:.6}')\n",
    "            best_dev_f1 = s_dev[2]\n",
    "            torch.save(model, 'best_char_bilstm_crf_pos.pt')\n",
    "    print()\n",
    "    return dict_losses, dict_scores"
   ]
  },
  {
   "cell_type": "code",
   "execution_count": 10,
   "id": "aggregate-inspiration",
   "metadata": {},
   "outputs": [],
   "source": [
    "def pos_tagging(model, input_seq):\n",
    "    model.eval()\n",
    "    o = model(engdict, device, input_seq, lossmode=False)\n",
    "#     print(o)\n",
    "#     __tagged, tagged = torch.max(o, dim=-1)\n",
    "    return o"
   ]
  },
  {
   "cell_type": "code",
   "execution_count": 11,
   "id": "bacterial-variance",
   "metadata": {},
   "outputs": [],
   "source": [
    "def calc(model, input_seq, target_seq=None):\n",
    "    # input_seq = engdict.tensorFromSentence(input_seq, device)\n",
    "    # input_list = engdict.sentenceFromIndexes(input_seq.tolist())\n",
    "    input_list = input_seq.split()\n",
    "\n",
    "    # print(input_list)\n",
    "    # print(sentenceFromIndexes(posdict, target_seq.tolist()))\n",
    "    output_list = posdict.sentenceFromIndexes(pos_tagging(model, [input_seq])[0])\n",
    "    \n",
    "    target_list = None\n",
    "    if target_seq is not None:\n",
    "        target_list = posdict.sentenceFromIndexes(target_seq.tolist())\n",
    "\n",
    "#     print(output_list)\n",
    "    showParallel(input_list, output_list, target_list)"
   ]
  },
  {
   "cell_type": "code",
   "execution_count": 12,
   "id": "fallen-youth",
   "metadata": {},
   "outputs": [],
   "source": [
    "# embedding_dim = 100\n",
    "char_dim = 10\n",
    "word_dim = 50\n",
    "size_hidden = 50\n",
    "num_layers = 1\n",
    "size_out = num_poss\n",
    "size_batch = 100\n",
    "# criterion  = nn.CrossEntropyLoss().to(device)\n",
    "# criterion  = nn.CrossEntropyLoss(ignore_index=tag_PAD).to(device)"
   ]
  },
  {
   "cell_type": "code",
   "execution_count": 13,
   "id": "inclusive-progressive",
   "metadata": {},
   "outputs": [
    {
     "name": "stdout",
     "output_type": "stream",
     "text": [
      "1 epoch Dev F1 score: 0.0 -> 0.663027\n",
      "2 epoch Dev F1 score: 0.663027 -> 0.872286\n",
      "3 epoch Dev F1 score: 0.872286 -> 0.920989\n",
      "4 epoch Dev F1 score: 0.920989 -> 0.939578\n",
      "5 epoch Dev F1 score: 0.939578 -> 0.951794\n",
      "6 epoch Dev F1 score: 0.951794 -> 0.958038\n",
      "7 epoch Dev F1 score: 0.958038 -> 0.962995\n",
      "8 epoch Dev F1 score: 0.962995 -> 0.963141\n",
      "9 epoch Dev F1 score: 0.963141 -> 0.96671\n",
      "10 epoch Dev F1 score: 0.96671 -> 0.968503\n",
      "12 epoch Dev F1 score: 0.968503 -> 0.96922\n",
      "13 epoch Dev F1 score: 0.96922 -> 0.971576\n",
      "16 epoch Dev F1 score: 0.971576 -> 0.973381\n",
      "17 epoch Dev F1 score: 0.973381 -> 0.974268\n",
      "20 epoch Dev F1 score: 0.974268 -> 0.974899\n",
      "21 epoch Dev F1 score: 0.974899 -> 0.976274\n",
      "26 epoch Dev F1 score: 0.976274 -> 0.977303\n",
      "29 epoch Dev F1 score: 0.977303 -> 0.97786\n",
      "60\n",
      "\t7606.289155483246\n"
     ]
    }
   ],
   "source": [
    "model = CharBiLSTMCRF(num_chars, num_words, char_dim, word_dim, size_hidden, size_out, num_layers, tag_PAD).to(device)\n",
    "optimizer = optim.Adam(model.parameters(), lr=0.01)\n",
    "\n",
    "num_epoch = 60\n",
    "st = time.time()\n",
    "dict_losses, dict_scores = train_losses_scores(model, optimizer, datasets, size_batch, num_epoch)\n",
    "print(f'\\t{time.time()-st:5}')"
   ]
  },
  {
   "cell_type": "code",
   "execution_count": 14,
   "id": "russian-chemical",
   "metadata": {},
   "outputs": [
    {
     "data": {
      "image/png": "[encoded data removed]",
      "text/plain": [
       "<Figure size 936x936 with 5 Axes>"
      ]
     },
     "metadata": {
      "needs_background": "light"
     },
     "output_type": "display_data"
    }
   ],
   "source": [
    "showGraph(dict_losses, dict_scores)"
   ]
  },
  {
   "cell_type": "code",
   "execution_count": 15,
   "id": "finite-howard",
   "metadata": {},
   "outputs": [
    {
     "name": "stdout",
     "output_type": "stream",
     "text": [
      "0.64251   0.663   0.65108\n",
      "0.86577   0.8723   0.86968\n",
      "0.92062   0.921   0.92075\n",
      "0.94191   0.9396   0.93898\n",
      "0.9533   0.9518   0.94874\n",
      "0.96092   0.958   0.95575\n",
      "0.96567   0.963   0.9592\n",
      "0.96849   0.9631   0.96023\n",
      "0.97142   0.9667   0.96213\n",
      "0.97386   0.9685   0.96496\n",
      "0.97525   0.9677   0.965\n",
      "0.97696   0.9692   0.96552\n",
      "0.97928   0.9716   0.96712\n",
      "0.9802   0.9712   0.96692\n",
      "0.98142   0.9711   0.96684\n",
      "0.98253   0.9734   0.968\n",
      "0.98322   0.9743   0.96872\n",
      "0.9846   0.973   0.96903\n",
      "0.98544   0.9743   0.96966\n",
      "0.98612   0.9749   0.97011\n",
      "0.98814   0.9763   0.97018\n",
      "0.98812   0.9756   0.97071\n",
      "0.9882   0.9759   0.96973\n",
      "0.9887   0.9743   0.96993\n",
      "0.98957   0.9742   0.97116\n",
      "0.99055   0.9773   0.97092\n",
      "0.98999   0.975   0.97164\n",
      "0.98999   0.9747   0.97064\n",
      "0.99088   0.9779   0.97128\n",
      "0.9917   0.9774   0.97223\n",
      "0.99138   0.9749   0.97075\n",
      "0.993   0.9756   0.97143\n",
      "0.99235   0.9778   0.97148\n",
      "0.99239   0.9763   0.97143\n",
      "0.99244   0.9753   0.97168\n",
      "0.99241   0.9755   0.97076\n",
      "0.99295   0.9768   0.97146\n",
      "0.99257   0.9759   0.9716\n",
      "0.9937   0.9773   0.97163\n",
      "0.99282   0.9752   0.97274\n",
      "0.99351   0.9756   0.9726\n",
      "0.99126   0.9733   0.96974\n",
      "0.99411   0.9756   0.97094\n",
      "0.99495   0.9758   0.97235\n",
      "0.99515   0.977   0.97214\n",
      "0.99414   0.9749   0.97221\n",
      "0.99326   0.9753   0.97212\n",
      "0.99481   0.9752   0.97286\n",
      "0.99441   0.9772   0.9721\n",
      "0.9947   0.9765   0.97247\n",
      "0.9932   0.9753   0.97084\n",
      "0.99534   0.9764   0.97135\n",
      "0.99512   0.9765   0.97181\n",
      "0.99463   0.976   0.97144\n",
      "0.99433   0.9764   0.97146\n",
      "0.99448   0.9747   0.97129\n",
      "0.99358   0.9739   0.96966\n",
      "0.99512   0.9757   0.97114\n",
      "0.9953   0.9769   0.97257\n",
      "0.9959   0.9767   0.97175\n"
     ]
    }
   ],
   "source": [
    "score_type=2\n",
    "for i in range(len(dict_scores[\"train\"][score_type])):\n",
    "    print(f'{dict_scores[\"train\"][score_type][i]:<.5}   {dict_scores[\"dev\"][score_type][i]:<05.4}   {dict_scores[\"test\"][score_type][i]:.5}')"
   ]
  },
  {
   "cell_type": "code",
   "execution_count": 16,
   "id": "printable-price",
   "metadata": {},
   "outputs": [
    {
     "name": "stdout",
     "output_type": "stream",
     "text": [
      "words               tags    targets\n",
      "\u001b[0mPublic              JJ      JJ\u001b[0m\n",
      "\u001b[0mprotests            NNS     NNS\u001b[0m\n",
      "\u001b[0magainst             IN      IN\u001b[0m\n",
      "\u001b[0mhim                 PRP     PRP\u001b[0m\n",
      "\u001b[0mwere                VBD     VBD\u001b[0m\n",
      "\u001b[0mtriggered           VBN     VBN\u001b[0m\n",
      "\u001b[0min                  IN      IN\u001b[0m\n",
      "\u001b[0mJune                NNP     NNP\u001b[0m\n",
      "\u001b[0m1987                CD      CD\u001b[0m\n",
      "\u001b[0mdue                 JJ      JJ\u001b[0m\n",
      "\u001b[0mto                  TO      TO\u001b[0m\n",
      "\u001b[0mcharges             NNS     NNS\u001b[0m\n",
      "\u001b[0mby                  IN      IN\u001b[0m\n",
      "\u001b[0mDiaz                NNP     NNP\u001b[0m\n",
      "\u001b[0mHerrera             NNP     NNP\u001b[0m\n",
      "\u001b[0m,                   ,       ,\u001b[0m\n",
      "\u001b[0mhis                 PRP$    PRP$\u001b[0m\n",
      "\u001b[0mformer              JJ      JJ\u001b[0m\n",
      "\u001b[0mchief               NN      NN\u001b[0m\n",
      "\u001b[0mof                  IN      IN\u001b[0m\n",
      "\u001b[0mstaff               NN      NN\u001b[0m\n",
      "\u001b[0m,                   ,       ,\u001b[0m\n",
      "\u001b[0mthat                IN      IN\u001b[0m\n",
      "\u001b[0mMr.                 NNP     NNP\u001b[0m\n",
      "\u001b[0mNoriega             NNP     NNP\u001b[0m\n",
      "\u001b[0mhad                 VBD     VBD\u001b[0m\n",
      "\u001b[0mstolen              VBN     VBN\u001b[0m\n",
      "\u001b[0mthe                 DT      DT\u001b[0m\n",
      "\u001b[0m1984                CD      CD\u001b[0m\n",
      "\u001b[0melection            NN      NN\u001b[0m\n",
      "\u001b[0mand                 CC      CC\u001b[0m\n",
      "\u001b[0mhad                 VBD     VBD\u001b[0m\n",
      "\u001b[0mordered             VBN     VBN\u001b[0m\n",
      "\u001b[0mthe                 DT      DT\u001b[0m\n",
      "\u001b[0mkilling             NN      NN\u001b[0m\n",
      "\u001b[0mof                  IN      IN\u001b[0m\n",
      "\u001b[0mMessrs.             NNP     NNP\u001b[0m\n",
      "\u001b[0mSpadafora           NNP     NNP\u001b[0m\n",
      "\u001b[0mand                 CC      CC\u001b[0m\n",
      "\u001b[0mTorrijos            NNP     NNP\u001b[0m\n",
      "\u001b[0m.                   .       .\u001b[0m\n"
     ]
    }
   ],
   "source": [
    "testset = datasets['test']\n",
    "for ii in range(len(testset)):\n",
    "    i = 300\n",
    "    input_seq = testset.x_data[i]\n",
    "    target_seq = testset.y_data[i]\n",
    "    calc(model, input_seq, target_seq)\n",
    "    break\n",
    "#     print(target_seq)"
   ]
  },
  {
   "cell_type": "code",
   "execution_count": 17,
   "id": "round-northeast",
   "metadata": {},
   "outputs": [
    {
     "name": "stdout",
     "output_type": "stream",
     "text": [
      "words               tags\n",
      "I                   PRP\n",
      "am                  VBP\n",
      "your                PRP$\n",
      "father              NN\n",
      ".                   .\n"
     ]
    }
   ],
   "source": [
    "sen = 'I am your father .'\n",
    "# in_sen = torch.tensor(engdict.indexesFromSentence(sen), device=device)\n",
    "\n",
    "# sen2 = [4609,   25,   35,  116, 4610, 1562,   74,  115, 4611,   49, 4612, 1456,\n",
    "#         4613,  224,  691,    6, 4614,   76,   30, 1742, 4615,  308,  107, 4614,\n",
    "#          116, 4616, 4617,   17]\n",
    "# in_sen = torch.tensor(sen2, device=device)\n",
    "\n",
    "calc(model, sen)"
   ]
  },
  {
   "cell_type": "code",
   "execution_count": null,
   "id": "incredible-tender",
   "metadata": {},
   "outputs": [],
   "source": []
  },
  {
   "cell_type": "code",
   "execution_count": 18,
   "id": "higher-response",
   "metadata": {},
   "outputs": [
    {
     "name": "stdout",
     "output_type": "stream",
     "text": [
      "(0.6164529914529915, 0.9779341657207719, 0.9778600931167603)\n",
      "(0.562624254473161, 0.9713996242902674, 0.9712810516357422)\n"
     ]
    }
   ],
   "source": [
    "best_model = torch.load('best_char_bilstm_crf_pos.pt')\n",
    "s_dev = scores(best_model, datasets['dev'], 100)\n",
    "s_test = scores(best_model, datasets['test'], 100)\n",
    "print(s_dev)\n",
    "print(s_test)"
   ]
  },
  {
   "cell_type": "code",
   "execution_count": null,
   "id": "applicable-fault",
   "metadata": {},
   "outputs": [],
   "source": []
  }
 ],
 "metadata": {
  "kernelspec": {
   "display_name": "Python 3",
   "language": "python",
   "name": "python3"
  },
  "language_info": {
   "codemirror_mode": {
    "name": "ipython",
    "version": 3
   },
   "file_extension": ".py",
   "mimetype": "text/x-python",
   "name": "python",
   "nbconvert_exporter": "python",
   "pygments_lexer": "ipython3",
   "version": "3.8.5"
  }
 },
 "nbformat": 4,
 "nbformat_minor": 5
}
