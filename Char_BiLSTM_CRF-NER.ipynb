{
 "cells": [
  {
   "cell_type": "code",
   "execution_count": 1,
   "id": "technical-click",
   "metadata": {},
   "outputs": [],
   "source": [
    "%matplotlib inline"
   ]
  },
  {
   "cell_type": "code",
   "execution_count": 2,
   "id": "federal-marsh",
   "metadata": {},
   "outputs": [],
   "source": [
    "import time\n",
    "import matplotlib.pyplot as plt \n",
    "import torch\n",
    "from torch import optim\n",
    "from torch.utils.data import DataLoader\n",
    "from dataload import lang, localdata\n",
    "from tagger.charbilstmcrf import CharBiLSTMCRF\n",
    "from etc.customUtil import showGraph, showParallel\n",
    "from etc import defaultsetting as ds"
   ]
  },
  {
   "cell_type": "code",
   "execution_count": 3,
   "id": "remarkable-experiment",
   "metadata": {},
   "outputs": [
    {
     "name": "stdout",
     "output_type": "stream",
     "text": [
      "cuda\n"
     ]
    }
   ],
   "source": [
    "device = torch.device(\"cuda\" if torch.cuda.is_available() else \"cpu\")\n",
    "print(device)"
   ]
  },
  {
   "cell_type": "code",
   "execution_count": 4,
   "id": "thirty-handling",
   "metadata": {},
   "outputs": [
    {
     "name": "stdout",
     "output_type": "stream",
     "text": [
      "14096\n",
      "1446\n",
      "23\n",
      "13\n",
      "245\n",
      "4\n",
      "245\n",
      "250\n",
      "500\n",
      "4250\n"
     ]
    }
   ],
   "source": [
    "tag_PAD = ds.TOKKEN_PAD_IDX\n",
    "tag_UNK = ds.TOKKEN_UNK_IDX\n",
    "\n",
    "datasets, engdict, posdict = localdata.load_kor_ner(device, strmode=True) # , charmode=True)\n",
    "num_words = engdict.n_words\n",
    "num_chars = engdict.n_chars\n",
    "num_poss = posdict.n_words\n",
    "print(num_words)\n",
    "print(num_chars)\n",
    "print(num_poss)\n",
    "# print(MAX_LENGTH)\n",
    "print(engdict.max_len_char)\n",
    "print(engdict.max_len_word)\n",
    "print(posdict.max_len_char)\n",
    "print(posdict.max_len_word)\n",
    "\n",
    "print(len(datasets['dev'].y_data))\n",
    "print(len(datasets['test'].y_data))\n",
    "print(len(datasets['train'].y_data))"
   ]
  },
  {
   "cell_type": "code",
   "execution_count": 5,
   "id": "early-botswana",
   "metadata": {},
   "outputs": [],
   "source": [
    "def iteration(samples, optimizer):\n",
    "    x_train, y_train = samples\n",
    "\n",
    "    optimizer.zero_grad()\n",
    "\n",
    "    loss = model(engdict, device, x_train, y_train)\n",
    "    \n",
    "    loss.backward()\n",
    "    optimizer.step()\n",
    "\n",
    "    return loss"
   ]
  },
  {
   "cell_type": "code",
   "execution_count": 6,
   "id": "controlled-revelation",
   "metadata": {},
   "outputs": [],
   "source": [
    "def epoch(model, optimizer, dataloader):\n",
    "    model.train()\n",
    "    list_loss = []\n",
    "    for batch_idx, samples in enumerate(dataloader):\n",
    "        loss = iteration(samples, optimizer)\n",
    "        list_loss.append(loss.item())\n",
    "    return list_loss"
   ]
  },
  {
   "cell_type": "code",
   "execution_count": 7,
   "id": "wireless-chrome",
   "metadata": {},
   "outputs": [],
   "source": [
    "def evaluate(model, dataloader):\n",
    "    model.eval()\n",
    "    total_loss = 0\n",
    "    for batch_idx, samples in enumerate(dataloader):\n",
    "        x_train, y_train = samples\n",
    "\n",
    "        loss = model(engdict, device, x_train, y_train, lossmode=True)\n",
    "        \n",
    "        total_loss += loss.item()\n",
    "\n",
    "        # if batch_idx % 100 == 0:\n",
    "            # print(batch_idx, loss.item())\n",
    "            \n",
    "    # print(batch_idx, loss.item())\n",
    "    return total_loss / (batch_idx+1)"
   ]
  },
  {
   "cell_type": "code",
   "execution_count": 8,
   "id": "interpreted-representative",
   "metadata": {},
   "outputs": [],
   "source": [
    "def scores(model, dataset, batch_size):\n",
    "    model.eval()\n",
    "    dataloader = DataLoader(dataset, batch_size=batch_size, shuffle=True)\n",
    "    \n",
    "    num_samples = len(dataset)\n",
    "    cnt_corr_samples = 0\n",
    "    total_words = 0\n",
    "    cnt_corr_words = 0\n",
    "    c = posdict.n_words\n",
    "    table = torch.zeros(c,c)\n",
    "    \n",
    "    for batch_idx, samples in enumerate(dataloader):\n",
    "        x_train, y_train = samples\n",
    "        \n",
    "        tagged = model(engdict, device, x_train, lossmode=False)\n",
    "        tagged = torch.tensor(tagged, device=device)\n",
    "        \n",
    "        for i in range(y_train.size(0)):\n",
    "            l = y_train[i].tolist()\n",
    "            if tag_PAD in l:\n",
    "                seq_len = l.index(tag_PAD)\n",
    "            else:\n",
    "                seq_len = len(l)\n",
    "            \n",
    "            _y = y_train[i,:seq_len]\n",
    "            _p = tagged[i,:seq_len]\n",
    "            d = _p!=_y\n",
    "            cnt_wrong = _p[d].size()[0]\n",
    "            \n",
    "            # score1_acc_sample\n",
    "            if cnt_wrong == 0:\n",
    "                cnt_corr_samples +=1\n",
    "                \n",
    "            # score2_acc_word\n",
    "            total_words += seq_len\n",
    "            cnt_corr_words += seq_len - cnt_wrong\n",
    "            \n",
    "            # score3_f1\n",
    "            for j in range(seq_len):\n",
    "                table[_y[j],_p[j]] += 1\n",
    "\n",
    "    tp = torch.tensor([table[i,i] for i in range(c)])[2:]\n",
    "    d0sum = table[2:,2:].sum(dim=0)\n",
    "    d1sum = table[2:,2:].sum(dim=1)\n",
    "    allsum = d1sum.sum()\n",
    "    \n",
    "    pr = tp / d0sum\n",
    "    temp = pr != pr\n",
    "    pr[temp] = 0\n",
    "    \n",
    "    re = tp / d1sum\n",
    "    temp = re != re\n",
    "    re[temp] = 0\n",
    "    \n",
    "    f1 = 2 * pr * re / (pr + re)\n",
    "    temp = f1 != f1\n",
    "    f1[temp] = 0\n",
    "    \n",
    "    avg_f1 = (f1 * d1sum).sum() / allsum\n",
    "    \n",
    "    return (cnt_corr_samples / num_samples,\n",
    "            cnt_corr_words / total_words,\n",
    "            avg_f1.item())"
   ]
  },
  {
   "cell_type": "code",
   "execution_count": 9,
   "id": "secret-collective",
   "metadata": {},
   "outputs": [],
   "source": [
    "def train_losses_scores(model, optimizer, datasets, batch_size, num_epoch):\n",
    "\n",
    "    dict_losses={'train': [],\n",
    "                 'dev': [],\n",
    "                 'test': []\n",
    "                }\n",
    "    \n",
    "    dict_scores={'train': [[],[],[]],\n",
    "                 'dev': [[],[],[]],\n",
    "                 'test': [[],[],[]]\n",
    "                }\n",
    "    best_dev_f1 = 0.0\n",
    "    for epoch_i in range(1,num_epoch+1):\n",
    "        dataloader = DataLoader(datasets['train'], batch_size=batch_size, shuffle=True)\n",
    "        dataloader_dev = DataLoader(datasets['dev'], batch_size=batch_size, shuffle=True)\n",
    "        dataloader_test = DataLoader(datasets['test'], batch_size=batch_size, shuffle=True)\n",
    "        print(f'\\r{epoch_i}', end='')\n",
    "        temp = epoch(model, optimizer, dataloader)\n",
    "        dict_losses['train'].extend(temp)\n",
    "        dict_losses['dev'].append(evaluate(model, dataloader_dev))\n",
    "        dict_losses['test'].append(evaluate(model, dataloader_test))\n",
    "\n",
    "        s_train = scores(model, datasets['train'], 100)\n",
    "        s_dev = scores(model, datasets['dev'], 100)\n",
    "        s_test = scores(model, datasets['test'], 100)\n",
    "        \n",
    "        dict_scores['train'][0].append(s_train[0])\n",
    "        dict_scores['train'][1].append(s_train[1])\n",
    "        dict_scores['train'][2].append(s_train[2])\n",
    "        dict_scores['dev'][0].append(s_dev[0])\n",
    "        dict_scores['dev'][1].append(s_dev[1])\n",
    "        dict_scores['dev'][2].append(s_dev[2])\n",
    "        dict_scores['test'][0].append(s_test[0])\n",
    "        dict_scores['test'][1].append(s_test[1])\n",
    "        dict_scores['test'][2].append(s_test[2])\n",
    "        \n",
    "        if s_dev[2] > best_dev_f1:\n",
    "            print(f' epoch Dev F1 score: {best_dev_f1:.6} -> {s_dev[2]:.6}')\n",
    "            best_dev_f1 = s_dev[2]\n",
    "            torch.save(model, 'best_char_bilstm_crf_ner.pt')\n",
    "    print()\n",
    "    return dict_losses, dict_scores"
   ]
  },
  {
   "cell_type": "code",
   "execution_count": 10,
   "id": "harmful-conversion",
   "metadata": {},
   "outputs": [],
   "source": [
    "def pos_tagging(model, input_seq):\n",
    "    model.eval()\n",
    "    o = model(engdict, device, input_seq, lossmode=False)\n",
    "#     print(o)\n",
    "#     __tagged, tagged = torch.max(o, dim=-1)\n",
    "    return o"
   ]
  },
  {
   "cell_type": "code",
   "execution_count": 11,
   "id": "willing-genetics",
   "metadata": {},
   "outputs": [],
   "source": [
    "def calc(model, input_seq, target_seq=None):\n",
    "    # input_seq = engdict.tensorFromSentence(input_seq, device)\n",
    "    # input_list = engdict.sentenceFromIndexes(input_seq.tolist())\n",
    "    input_list = input_seq.split()\n",
    "\n",
    "    # print(input_list)\n",
    "    # print(sentenceFromIndexes(posdict, target_seq.tolist()))\n",
    "    output_list = posdict.sentenceFromIndexes(pos_tagging(model, [input_seq])[0])\n",
    "    \n",
    "    target_list = None\n",
    "    if target_seq is not None:\n",
    "        target_list = posdict.sentenceFromIndexes(target_seq.tolist())\n",
    "\n",
    "#     print(output_list)\n",
    "    showParallel(input_list, output_list, target_list)"
   ]
  },
  {
   "cell_type": "code",
   "execution_count": 12,
   "id": "alone-headset",
   "metadata": {},
   "outputs": [],
   "source": [
    "# embedding_dim = 100\n",
    "char_dim = 10\n",
    "word_dim = 50\n",
    "size_hidden = 50\n",
    "num_layers = 1\n",
    "size_out = num_poss\n",
    "size_batch = 100\n",
    "# criterion  = nn.CrossEntropyLoss().to(device)\n",
    "# criterion  = nn.CrossEntropyLoss(ignore_index=tag_PAD).to(device)"
   ]
  },
  {
   "cell_type": "code",
   "execution_count": 13,
   "id": "baking-praise",
   "metadata": {},
   "outputs": [
    {
     "name": "stdout",
     "output_type": "stream",
     "text": [
      "1 epoch Dev F1 score: 0.0 -> 0.8032\n",
      "2 epoch Dev F1 score: 0.8032 -> 0.815312\n",
      "3 epoch Dev F1 score: 0.815312 -> 0.852358\n",
      "4 epoch Dev F1 score: 0.852358 -> 0.87814\n",
      "5 epoch Dev F1 score: 0.87814 -> 0.92065\n",
      "6 epoch Dev F1 score: 0.92065 -> 0.931755\n",
      "7 epoch Dev F1 score: 0.931755 -> 0.942536\n",
      "8 epoch Dev F1 score: 0.942536 -> 0.949525\n",
      "10 epoch Dev F1 score: 0.949525 -> 0.954744\n",
      "11 epoch Dev F1 score: 0.954744 -> 0.958325\n",
      "12 epoch Dev F1 score: 0.958325 -> 0.960986\n",
      "14 epoch Dev F1 score: 0.960986 -> 0.962567\n",
      "15 epoch Dev F1 score: 0.962567 -> 0.963257\n",
      "18 epoch Dev F1 score: 0.963257 -> 0.964967\n",
      "19 epoch Dev F1 score: 0.964967 -> 0.965425\n",
      "24 epoch Dev F1 score: 0.965425 -> 0.96602\n",
      "30 epoch Dev F1 score: 0.96602 -> 0.966527\n",
      "36 epoch Dev F1 score: 0.966527 -> 0.966646\n",
      "38 epoch Dev F1 score: 0.966646 -> 0.966683\n",
      "47 epoch Dev F1 score: 0.966683 -> 0.967006\n",
      "48 epoch Dev F1 score: 0.967006 -> 0.967566\n",
      "60\n",
      "\t5787.774711847305\n"
     ]
    }
   ],
   "source": [
    "model = CharBiLSTMCRF(num_chars, num_words, char_dim, word_dim, size_hidden, size_out, num_layers, tag_PAD).to(device)\n",
    "optimizer = optim.Adam(model.parameters(), lr=0.01)\n",
    "\n",
    "num_epoch = 60\n",
    "st = time.time()\n",
    "dict_losses, dict_scores = train_losses_scores(model, optimizer, datasets, size_batch, num_epoch)\n",
    "print(f'\\t{time.time()-st:5}')"
   ]
  },
  {
   "cell_type": "code",
   "execution_count": 14,
   "id": "hidden-beijing",
   "metadata": {},
   "outputs": [
    {
     "data": {
      "image/png": "[encoded data removed]",
      "text/plain": [
       "<Figure size 936x936 with 5 Axes>"
      ]
     },
     "metadata": {
      "needs_background": "light"
     },
     "output_type": "display_data"
    }
   ],
   "source": [
    "showGraph(dict_losses, dict_scores)"
   ]
  },
  {
   "cell_type": "code",
   "execution_count": 15,
   "id": "upper-singing",
   "metadata": {},
   "outputs": [
    {
     "name": "stdout",
     "output_type": "stream",
     "text": [
      "0.78461   0.8032   0.79326\n",
      "0.80036   0.8153   0.80858\n",
      "0.84223   0.8524   0.84151\n",
      "0.87572   0.8781   0.86942\n",
      "0.90967   0.9206   0.90838\n",
      "0.92594   0.9318   0.92264\n",
      "0.93853   0.9425   0.93046\n",
      "0.9429   0.9495   0.93655\n",
      "0.94333   0.9492   0.93655\n",
      "0.95616   0.9547   0.94811\n",
      "0.95851   0.9583   0.94813\n",
      "0.96266   0.961   0.9511\n",
      "0.96576   0.9606   0.95382\n",
      "0.968   0.9626   0.9567\n",
      "0.97068   0.9633   0.95717\n",
      "0.9743   0.9616   0.95706\n",
      "0.97452   0.954   0.95379\n",
      "0.97638   0.965   0.95963\n",
      "0.97908   0.9654   0.95953\n",
      "0.98141   0.963   0.9613\n",
      "0.98189   0.9592   0.95787\n",
      "0.98473   0.9644   0.96299\n",
      "0.98491   0.9643   0.95997\n",
      "0.98759   0.966   0.95952\n",
      "0.98783   0.965   0.96005\n",
      "0.98804   0.9637   0.95947\n",
      "0.98895   0.9645   0.96082\n",
      "0.99076   0.9643   0.96054\n",
      "0.99112   0.9652   0.96251\n",
      "0.99174   0.9665   0.96214\n",
      "0.99234   0.9645   0.96144\n",
      "0.99265   0.9652   0.96089\n",
      "0.99282   0.9647   0.9628\n",
      "0.99389   0.9658   0.96209\n",
      "0.99467   0.964   0.96154\n",
      "0.99513   0.9666   0.96263\n",
      "0.99452   0.9636   0.95948\n",
      "0.99513   0.9667   0.96204\n",
      "0.99488   0.9654   0.95691\n",
      "0.99643   0.9665   0.96242\n",
      "0.99626   0.9645   0.96356\n",
      "0.99674   0.9653   0.96124\n",
      "0.9969   0.966   0.96222\n",
      "0.99668   0.9644   0.96033\n",
      "0.99707   0.9659   0.96113\n",
      "0.99555   0.9647   0.96146\n",
      "0.99683   0.967   0.96342\n",
      "0.9973   0.9676   0.96191\n",
      "0.99757   0.9664   0.96062\n",
      "0.9973   0.9637   0.96105\n",
      "0.99658   0.9655   0.96039\n",
      "0.99835   0.9664   0.96102\n",
      "0.99857   0.9674   0.96344\n",
      "0.9986   0.9657   0.96131\n",
      "0.99871   0.9667   0.96166\n",
      "0.99821   0.967   0.96103\n",
      "0.99837   0.9671   0.95971\n",
      "0.99843   0.9664   0.96098\n",
      "0.99818   0.9642   0.96055\n",
      "0.99829   0.9675   0.96057\n"
     ]
    }
   ],
   "source": [
    "score_type=2\n",
    "for i in range(len(dict_scores[\"train\"][score_type])):\n",
    "    print(f'{dict_scores[\"train\"][score_type][i]:<.5}   {dict_scores[\"dev\"][score_type][i]:<05.4}   {dict_scores[\"test\"][score_type][i]:.5}')"
   ]
  },
  {
   "cell_type": "code",
   "execution_count": 50,
   "id": "wireless-projector",
   "metadata": {},
   "outputs": [
    {
     "name": "stdout",
     "output_type": "stream",
     "text": [
      "words               tags    targets\n",
      "\u001b[0m지난                  O       O\u001b[0m\n",
      "\u001b[0m1                   O       O\u001b[0m\n",
      "\u001b[0m차                   O       O\u001b[0m\n",
      "\u001b[0m전                   O       O\u001b[0m\n",
      "\u001b[0m에서                  O       O\u001b[0m\n",
      "\u001b[0m심판                  O       O\u001b[0m\n",
      "\u001b[0m판정                  O       O\u001b[0m\n",
      "\u001b[0m에                   O       O\u001b[0m\n",
      "\u001b[0m대한                  O       O\u001b[0m\n",
      "\u001b[0m불만                  O       O\u001b[0m\n",
      "\u001b[0m으로                  O       O\u001b[0m\n",
      "\u001b[0m퇴장                  O       O\u001b[0m\n",
      "\u001b[0m을                   O       O\u001b[0m\n",
      "\u001b[0m당하                  O       O\u001b[0m\n",
      "\u001b[0m는                   O       O\u001b[0m\n",
      "\u001b[0m등                   O       O\u001b[0m\n",
      "\u001b[0m제                   O       O\u001b[0m\n",
      "\u001b[0m몫                   O       O\u001b[0m\n",
      "\u001b[0m을                   O       O\u001b[0m\n",
      "\u001b[0m하                   O       O\u001b[0m\n",
      "\u001b[0m지                   O       O\u001b[0m\n",
      "\u001b[0m못했                  O       O\u001b[0m\n",
      "\u001b[0m던                   O       O\u001b[0m\n",
      "\u001b[0mKCC                 B-OG    B-OG\u001b[0m\n",
      "\u001b[0m의                   O       O\u001b[0m\n",
      "\u001b[0m서장훈                 B-PS    B-PS\u001b[0m\n",
      "\u001b[0m은                   O       O\u001b[0m\n",
      "\u001b[0m25                  O       O\u001b[0m\n",
      "\u001b[0m점                   O       O\u001b[0m\n",
      "\u001b[0m6                   O       O\u001b[0m\n",
      "\u001b[0m리                   O       O\u001b[0m\n",
      "\u001b[0m바운드                 O       O\u001b[0m\n",
      "\u001b[0m로                   O       O\u001b[0m\n",
      "\u001b[0m분전                  O       O\u001b[0m\n",
      "\u001b[0m했                   O       O\u001b[0m\n",
      "\u001b[0m으나                  O       O\u001b[0m\n",
      "\u001b[0m팀                   O       O\u001b[0m\n",
      "\u001b[0m패배                  O       O\u001b[0m\n",
      "\u001b[0m로                   O       O\u001b[0m\n",
      "\u001b[0m빛                   O       O\u001b[0m\n",
      "\u001b[0m이                   O       O\u001b[0m\n",
      "\u001b[0m바랬                  O       O\u001b[0m\n",
      "\u001b[0m다                   O       O\u001b[0m\n",
      "\u001b[0m.                   O       O\u001b[0m\n"
     ]
    }
   ],
   "source": [
    "testset = datasets['test']\n",
    "for ii in range(len(testset)):\n",
    "    i = 42\n",
    "    input_seq = testset.x_data[i]\n",
    "    target_seq = testset.y_data[i]\n",
    "    calc(model, input_seq, target_seq)\n",
    "    break\n",
    "#     print(target_seq)"
   ]
  },
  {
   "cell_type": "code",
   "execution_count": 18,
   "id": "reported-antique",
   "metadata": {},
   "outputs": [],
   "source": [
    "# sen = 'I am your father .'\n",
    "# # in_sen = torch.tensor(engdict.indexesFromSentence(sen), device=device)\n",
    "\n",
    "# # sen2 = [4609,   25,   35,  116, 4610, 1562,   74,  115, 4611,   49, 4612, 1456,\n",
    "# #         4613,  224,  691,    6, 4614,   76,   30, 1742, 4615,  308,  107, 4614,\n",
    "# #          116, 4616, 4617,   17]\n",
    "# # in_sen = torch.tensor(sen2, device=device)\n",
    "\n",
    "# calc(model, sen)"
   ]
  },
  {
   "cell_type": "code",
   "execution_count": null,
   "id": "marked-intake",
   "metadata": {},
   "outputs": [],
   "source": []
  },
  {
   "cell_type": "code",
   "execution_count": 19,
   "id": "aggregate-romantic",
   "metadata": {},
   "outputs": [
    {
     "name": "stdout",
     "output_type": "stream",
     "text": [
      "(0.568, 0.9683345780433159, 0.9675662517547607)\n",
      "(0.564, 0.9633843140209448, 0.9619127511978149)\n"
     ]
    }
   ],
   "source": [
    "best_model = torch.load('best_char_bilstm_crf_ner.pt')\n",
    "s_dev = scores(best_model, datasets['dev'], 100)\n",
    "s_test = scores(best_model, datasets['test'], 100)\n",
    "print(s_dev)\n",
    "print(s_test)"
   ]
  },
  {
   "cell_type": "code",
   "execution_count": null,
   "id": "german-relative",
   "metadata": {},
   "outputs": [],
   "source": []
  }
 ],
 "metadata": {
  "kernelspec": {
   "display_name": "Python 3",
   "language": "python",
   "name": "python3"
  },
  "language_info": {
   "codemirror_mode": {
    "name": "ipython",
    "version": 3
   },
   "file_extension": ".py",
   "mimetype": "text/x-python",
   "name": "python",
   "nbconvert_exporter": "python",
   "pygments_lexer": "ipython3",
   "version": "3.8.5"
  }
 },
 "nbformat": 4,
 "nbformat_minor": 5
}
