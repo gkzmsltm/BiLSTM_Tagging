{
 "cells": [
  {
   "cell_type": "code",
   "execution_count": 2,
   "id": "first-england",
   "metadata": {},
   "outputs": [
    {
     "data": {
      "text/plain": [
       "{'a': 0, 'b': 1, 'c': 2}"
      ]
     },
     "execution_count": 2,
     "metadata": {},
     "output_type": "execute_result"
    }
   ],
   "source": [
    "d = {'a': 0, 'b': 1, 'c': 2}\n",
    "d"
   ]
  },
  {
   "cell_type": "code",
   "execution_count": 3,
   "id": "thick-american",
   "metadata": {},
   "outputs": [
    {
     "data": {
      "text/plain": [
       "['a']"
      ]
     },
     "execution_count": 3,
     "metadata": {},
     "output_type": "execute_result"
    }
   ],
   "source": [
    "w = ['a']\n",
    "w"
   ]
  },
  {
   "cell_type": "code",
   "execution_count": 4,
   "id": "moral-travel",
   "metadata": {},
   "outputs": [
    {
     "data": {
      "text/plain": [
       "0"
      ]
     },
     "execution_count": 4,
     "metadata": {},
     "output_type": "execute_result"
    }
   ],
   "source": [
    "d['a']"
   ]
  },
  {
   "cell_type": "code",
   "execution_count": 7,
   "id": "corrected-america",
   "metadata": {},
   "outputs": [
    {
     "data": {
      "text/plain": [
       "19"
      ]
     },
     "execution_count": 7,
     "metadata": {},
     "output_type": "execute_result"
    }
   ],
   "source": [
    "a = range(10,20)\n",
    "max(a)"
   ]
  },
  {
   "cell_type": "code",
   "execution_count": 1,
   "id": "funded-pollution",
   "metadata": {},
   "outputs": [],
   "source": [
    "filenames2 = {'dev': 'data/korean_ner_data/dev.txt',\n",
    "              'test': 'data/korean_ner_data/test.txt',\n",
    "              'train': 'data/korean_ner_data/train.txt'}\n",
    "filenames3 = {'dev': 'data/korean_ner_data/dev.dat',\n",
    "              'test': 'data/korean_ner_data/test.dat',\n",
    "              'train': 'data/korean_ner_data/train.dat'}"
   ]
  },
  {
   "cell_type": "code",
   "execution_count": 31,
   "id": "headed-afghanistan",
   "metadata": {},
   "outputs": [],
   "source": []
  },
  {
   "cell_type": "code",
   "execution_count": 32,
   "id": "effective-legend",
   "metadata": {},
   "outputs": [
    {
     "name": "stdout",
     "output_type": "stream",
     "text": [
      "data/korean_ner_data/dev.dat\n",
      "data/korean_ner_data/test.dat\n",
      "data/korean_ner_data/train.dat\n"
     ]
    }
   ],
   "source": [
    "tt()"
   ]
  },
  {
   "cell_type": "code",
   "execution_count": 3,
   "id": "blessed-lemon",
   "metadata": {},
   "outputs": [
    {
     "name": "stdout",
     "output_type": "stream",
     "text": [
      "              precision    recall  f1-score   support\n",
      "\n",
      "          NP       1.00      1.00      1.00         1\n",
      "\n",
      "   micro avg       1.00      1.00      1.00         1\n",
      "   macro avg       1.00      1.00      1.00         1\n",
      "weighted avg       1.00      1.00      1.00         1\n",
      "\n",
      "              precision    recall  f1-score   support\n",
      "\n",
      "          NP       0.00      0.00      0.00         1\n",
      "\n",
      "   micro avg       0.00      0.00      0.00         1\n",
      "   macro avg       0.00      0.00      0.00         1\n",
      "weighted avg       0.00      0.00      0.00         1\n",
      "\n"
     ]
    }
   ],
   "source": [
    "from seqeval.metrics import classification_report\n",
    "from seqeval.scheme import IOB2\n",
    "y_true = [['B-NP', 'I-NP', 'O']]\n",
    "y_pred = [['I-NP', 'I-NP', 'O']]\n",
    "print(classification_report(y_true, y_pred))\n",
    "#               precision    recall  f1-score   support\n",
    "#           NP       1.00      1.00      1.00         1\n",
    "#    micro avg       1.00      1.00      1.00         1\n",
    "#    macro avg       1.00      1.00      1.00         1\n",
    "# weighted avg       1.00      1.00      1.00         1\n",
    "print(classification_report(y_true, y_pred, mode='strict', scheme=IOB2))\n",
    "# classification_report(y_true, y_pred, mode='strict', scheme=IOB2)\n",
    "#               precision    recall  f1-score   support\n",
    "#           NP       0.00      0.00      0.00         1\n",
    "#    micro avg       0.00      0.00      0.00         1\n",
    "#    macro avg       0.00      0.00      0.00         1\n",
    "# weighted avg       0.00      0.00      0.00         1"
   ]
  },
  {
   "cell_type": "code",
   "execution_count": null,
   "id": "tropical-spouse",
   "metadata": {},
   "outputs": [],
   "source": []
  }
 ],
 "metadata": {
  "kernelspec": {
   "display_name": "Python 3",
   "language": "python",
   "name": "python3"
  },
  "language_info": {
   "codemirror_mode": {
    "name": "ipython",
    "version": 3
   },
   "file_extension": ".py",
   "mimetype": "text/x-python",
   "name": "python",
   "nbconvert_exporter": "python",
   "pygments_lexer": "ipython3",
   "version": "3.8.5"
  }
 },
 "nbformat": 4,
 "nbformat_minor": 5
}
