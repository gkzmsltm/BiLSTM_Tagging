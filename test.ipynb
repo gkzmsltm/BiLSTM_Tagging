{
 "cells": [
  {
   "cell_type": "code",
   "execution_count": 2,
   "id": "productive-emergency",
   "metadata": {},
   "outputs": [
    {
     "data": {
      "text/plain": [
       "{'a': 0, 'b': 1, 'c': 2}"
      ]
     },
     "execution_count": 2,
     "metadata": {},
     "output_type": "execute_result"
    }
   ],
   "source": [
    "d = {'a': 0, 'b': 1, 'c': 2}\n",
    "d"
   ]
  },
  {
   "cell_type": "code",
   "execution_count": 3,
   "id": "resistant-homeless",
   "metadata": {},
   "outputs": [
    {
     "data": {
      "text/plain": [
       "['a']"
      ]
     },
     "execution_count": 3,
     "metadata": {},
     "output_type": "execute_result"
    }
   ],
   "source": [
    "w = ['a']\n",
    "w"
   ]
  },
  {
   "cell_type": "code",
   "execution_count": 4,
   "id": "caroline-spray",
   "metadata": {},
   "outputs": [
    {
     "data": {
      "text/plain": [
       "0"
      ]
     },
     "execution_count": 4,
     "metadata": {},
     "output_type": "execute_result"
    }
   ],
   "source": [
    "d['a']"
   ]
  },
  {
   "cell_type": "code",
   "execution_count": 7,
   "id": "affiliated-oregon",
   "metadata": {},
   "outputs": [
    {
     "data": {
      "text/plain": [
       "19"
      ]
     },
     "execution_count": 7,
     "metadata": {},
     "output_type": "execute_result"
    }
   ],
   "source": [
    "a = range(10,20)\n",
    "max(a)"
   ]
  },
  {
   "cell_type": "code",
   "execution_count": 1,
   "id": "republican-organ",
   "metadata": {},
   "outputs": [],
   "source": [
    "filenames2 = {'dev': 'data/korean_ner_data/dev.txt',\n",
    "              'test': 'data/korean_ner_data/test.txt',\n",
    "              'train': 'data/korean_ner_data/train.txt'}\n",
    "filenames3 = {'dev': 'data/korean_ner_data/dev.dat',\n",
    "              'test': 'data/korean_ner_data/test.dat',\n",
    "              'train': 'data/korean_ner_data/train.dat'}"
   ]
  },
  {
   "cell_type": "code",
   "execution_count": 31,
   "id": "perceived-scenario",
   "metadata": {},
   "outputs": [],
   "source": []
  },
  {
   "cell_type": "code",
   "execution_count": 32,
   "id": "contemporary-investment",
   "metadata": {},
   "outputs": [
    {
     "name": "stdout",
     "output_type": "stream",
     "text": [
      "data/korean_ner_data/dev.dat\n",
      "data/korean_ner_data/test.dat\n",
      "data/korean_ner_data/train.dat\n"
     ]
    }
   ],
   "source": [
    "tt()"
   ]
  },
  {
   "cell_type": "code",
   "execution_count": 17,
   "id": "integral-burden",
   "metadata": {},
   "outputs": [
    {
     "name": "stdout",
     "output_type": "stream",
     "text": [
      "0.6\n",
      "1.0\n",
      "0.5\n",
      "              precision    recall  f1-score   support\n",
      "\n",
      "          NP       1.00      1.00      1.00         1\n",
      "          PS       1.00      1.00      1.00         1\n",
      "          zz       1.00      1.00      1.00         1\n",
      "\n",
      "   micro avg       1.00      1.00      1.00         3\n",
      "   macro avg       1.00      1.00      1.00         3\n",
      "weighted avg       1.00      1.00      1.00         3\n",
      "\n",
      "              precision    recall  f1-score   support\n",
      "\n",
      "          NP       1.00      1.00      1.00         1\n",
      "          PS       0.00      0.00      0.00         1\n",
      "          zz       0.00      0.00      0.00         1\n",
      "\n",
      "   micro avg       1.00      0.33      0.50         3\n",
      "   macro avg       0.33      0.33      0.33         3\n",
      "weighted avg       0.33      0.33      0.33         3\n",
      "\n"
     ]
    }
   ],
   "source": [
    "from seqeval.metrics import classification_report,accuracy_score,f1_score\n",
    "from seqeval.scheme import IOB2\n",
    "y_true = [['B-zz', 'B-PS'],['B-NP', 'I-NP', 'O']]\n",
    "y_pred = [['I-zz', 'I-PS'],['B-NP', 'I-NP', 'O']]\n",
    "# y_true = [[0, 1],[0, 1, 2]]\n",
    "# y_pred = [[1, 1],[0, 1, 2]]\n",
    "print(accuracy_score(y_true, y_pred))\n",
    "print(f1_score(y_true, y_pred))\n",
    "print(f1_score(y_true, y_pred, mode='strict', scheme=IOB2))\n",
    "\n",
    "\n",
    "print(classification_report(y_true, y_pred))\n",
    "#               precision    recall  f1-score   support\n",
    "#           NP       1.00      1.00      1.00         1\n",
    "#    micro avg       1.00      1.00      1.00         1\n",
    "#    macro avg       1.00      1.00      1.00         1\n",
    "# weighted avg       1.00      1.00      1.00         1\n",
    "print(classification_report(y_true, y_pred, mode='strict', scheme=IOB2))\n",
    "# classification_report(y_true, y_pred, mode='strict', scheme=IOB2)\n",
    "#               precision    recall  f1-score   support\n",
    "#           NP       0.00      0.00      0.00         1\n",
    "#    micro avg       0.00      0.00      0.00         1\n",
    "#    macro avg       0.00      0.00      0.00         1\n",
    "# weighted avg       0.00      0.00      0.00         1"
   ]
  },
  {
   "cell_type": "code",
   "execution_count": null,
   "id": "rocky-birth",
   "metadata": {},
   "outputs": [],
   "source": []
  }
 ],
 "metadata": {
  "kernelspec": {
   "display_name": "Python 3",
   "language": "python",
   "name": "python3"
  },
  "language_info": {
   "codemirror_mode": {
    "name": "ipython",
    "version": 3
   },
   "file_extension": ".py",
   "mimetype": "text/x-python",
   "name": "python",
   "nbconvert_exporter": "python",
   "pygments_lexer": "ipython3",
   "version": "3.8.5"
  }
 },
 "nbformat": 4,
 "nbformat_minor": 5
}
