{
 "cells": [
  {
   "cell_type": "code",
   "execution_count": 1,
   "id": "cleared-memorabilia",
   "metadata": {},
   "outputs": [],
   "source": [
    "%matplotlib inline"
   ]
  },
  {
   "cell_type": "code",
   "execution_count": 2,
   "id": "trained-longitude",
   "metadata": {},
   "outputs": [],
   "source": [
    "import time\n",
    "import matplotlib.pyplot as plt \n",
    "import torch\n",
    "import torch.nn as nn\n",
    "from torch import optim\n",
    "from torch.utils.data import DataLoader\n",
    "from dataload import lang, localdata\n",
    "from tagger.charbilstm import CharBiLSTM\n",
    "from etc.customUtil import showGraph, showParallel\n",
    "from etc import defaultsetting as ds"
   ]
  },
  {
   "cell_type": "code",
   "execution_count": 3,
   "id": "placed-respondent",
   "metadata": {},
   "outputs": [
    {
     "name": "stdout",
     "output_type": "stream",
     "text": [
      "cuda\n"
     ]
    }
   ],
   "source": [
    "device = torch.device(\"cuda\" if torch.cuda.is_available() else \"cpu\")\n",
    "print(device)"
   ]
  },
  {
   "cell_type": "code",
   "execution_count": 4,
   "id": "varying-daniel",
   "metadata": {},
   "outputs": [
    {
     "name": "stdout",
     "output_type": "stream",
     "text": [
      "14096\n",
      "1446\n",
      "23\n",
      "13\n",
      "245\n",
      "4\n",
      "245\n",
      "250\n",
      "500\n",
      "4250\n"
     ]
    }
   ],
   "source": [
    "tag_PAD = ds.TOKKEN_PAD_IDX\n",
    "tag_UNK = ds.TOKKEN_UNK_IDX\n",
    "\n",
    "datasets, engdict, posdict = localdata.load_kor_ner(device, strmode=True) # , charmode=True)\n",
    "num_words = engdict.n_words\n",
    "num_chars = engdict.n_chars\n",
    "num_poss = posdict.n_words\n",
    "print(num_words)\n",
    "print(num_chars)\n",
    "print(num_poss)\n",
    "# print(MAX_LENGTH)\n",
    "print(engdict.max_len_char)\n",
    "print(engdict.max_len_word)\n",
    "print(posdict.max_len_char)\n",
    "print(posdict.max_len_word)\n",
    "\n",
    "print(len(datasets['dev'].y_data))\n",
    "print(len(datasets['test'].y_data))\n",
    "print(len(datasets['train'].y_data))"
   ]
  },
  {
   "cell_type": "code",
   "execution_count": 5,
   "id": "mineral-damages",
   "metadata": {},
   "outputs": [],
   "source": [
    "def iteration(samples, optimizer, criterion):\n",
    "    x_train, y_train = samples\n",
    "        \n",
    "    optimizer.zero_grad()\n",
    "\n",
    "    o = model(engdict, device, x_train)\n",
    "    o = o.view(-1,o.size(-1))\n",
    "    t = y_train.view(-1)\n",
    "\n",
    "    loss = criterion(o, t)\n",
    "    loss.backward()\n",
    "    optimizer.step()\n",
    "\n",
    "    return loss.item()"
   ]
  },
  {
   "cell_type": "code",
   "execution_count": 6,
   "id": "christian-venture",
   "metadata": {},
   "outputs": [],
   "source": [
    "def epoch(model, optimizer, criterion, dataloader):\n",
    "    model.train()\n",
    "    list_loss = []\n",
    "    for batch_idx, samples in enumerate(dataloader):\n",
    "        loss = iteration(samples, optimizer, criterion)\n",
    "        list_loss.append(loss)\n",
    "    return list_loss"
   ]
  },
  {
   "cell_type": "code",
   "execution_count": 7,
   "id": "excess-settlement",
   "metadata": {},
   "outputs": [],
   "source": [
    "def evaluate(model, criterion, dataloader):\n",
    "    model.eval()\n",
    "    total_loss = 0\n",
    "    for batch_idx, samples in enumerate(dataloader):\n",
    "        x_train, y_train = samples\n",
    "\n",
    "        o = model(engdict, device, x_train)\n",
    "        o = o.view(-1,o.size(-1))\n",
    "        t = y_train.view(-1)\n",
    "\n",
    "        total_loss += criterion(o, t).item()\n",
    "\n",
    "        # if batch_idx % 100 == 0:\n",
    "            # print(batch_idx, loss.item())\n",
    "            \n",
    "    # print(batch_idx, loss.item())\n",
    "    return total_loss / (batch_idx+1)"
   ]
  },
  {
   "cell_type": "code",
   "execution_count": 8,
   "id": "concerned-alexandria",
   "metadata": {},
   "outputs": [],
   "source": [
    "def scores(model, dataset, batch_size):\n",
    "    model.eval()\n",
    "    dataloader = DataLoader(dataset, batch_size=batch_size, shuffle=True)\n",
    "    \n",
    "    total_samples = len(dataset)\n",
    "    cnt_corr_samples = 0\n",
    "    total_words = 0\n",
    "    cnt_corr_words = 0\n",
    "    c = posdict.n_words\n",
    "    table = torch.zeros(c,c)\n",
    "    \n",
    "    for batch_idx, samples in enumerate(dataloader):\n",
    "        x_train, y_train = samples\n",
    "        \n",
    "        o = model(engdict, device, x_train)\n",
    "        t = y_train.view(-1)\n",
    "\n",
    "        __tagged, tagged = torch.max(o, dim=-1)\n",
    "        \n",
    "        for i in range(y_train.size(0)):\n",
    "            l = y_train[i].tolist()\n",
    "            if tag_PAD in l:\n",
    "                seq_len = l.index(tag_PAD)\n",
    "            else:\n",
    "                seq_len = len(l)\n",
    "            \n",
    "            _y = y_train[i,:seq_len]\n",
    "            _p = tagged[i,:seq_len]\n",
    "            d = _p!=_y\n",
    "            cnt_wrong = _p[d].size()[0]\n",
    "            \n",
    "            # score1_acc_sample\n",
    "            if cnt_wrong == 0:\n",
    "                cnt_corr_samples +=1\n",
    "                \n",
    "            # score2_acc_word\n",
    "            total_words += seq_len\n",
    "            cnt_corr_words += seq_len - cnt_wrong\n",
    "            \n",
    "            # score3_f1\n",
    "            for j in range(seq_len):\n",
    "                table[_y[j],_p[j]] += 1\n",
    "\n",
    "    tp = torch.tensor([table[i,i] for i in range(c)])[2:]\n",
    "    d0sum = table[2:,2:].sum(dim=0)\n",
    "    d1sum = table[2:,2:].sum(dim=1)\n",
    "    allsum = d1sum.sum()\n",
    "    \n",
    "    pr = tp / d0sum\n",
    "    temp = pr != pr\n",
    "    pr[temp] = 0\n",
    "    \n",
    "    re = tp / d1sum\n",
    "    temp = re != re\n",
    "    re[temp] = 0\n",
    "    \n",
    "    f1 = 2 * pr * re / (pr + re)\n",
    "    temp = f1 != f1\n",
    "    f1[temp] = 0\n",
    "    \n",
    "    avg_f1 = (f1 * d1sum).sum() / allsum\n",
    "  \n",
    "    return (cnt_corr_samples / total_samples,\n",
    "            cnt_corr_words / total_words,\n",
    "            avg_f1.item())"
   ]
  },
  {
   "cell_type": "code",
   "execution_count": 9,
   "id": "broad-publication",
   "metadata": {},
   "outputs": [],
   "source": [
    "def train_losses_scores(model, optimizer, criterion, datasets, batch_size, num_epoch):\n",
    "\n",
    "    dict_losses={'train': [],\n",
    "                 'dev': [],\n",
    "                 'test': []\n",
    "                }\n",
    "    \n",
    "    dict_scores={'train': [[],[],[]],\n",
    "                 'dev': [[],[],[]],\n",
    "                 'test': [[],[],[]]\n",
    "                }\n",
    "    best_dev_f1 = 0.0\n",
    "    for epoch_i in range(1,num_epoch+1):\n",
    "        dataloader = DataLoader(datasets['train'], batch_size=batch_size, shuffle=True)\n",
    "        dataloader_dev = DataLoader(datasets['dev'], batch_size=batch_size, shuffle=True)\n",
    "        dataloader_test = DataLoader(datasets['test'], batch_size=batch_size, shuffle=True)\n",
    "        print(f'\\r{epoch_i}', end='')\n",
    "        temp = epoch(model, optimizer, criterion, dataloader)\n",
    "        dict_losses['train'].extend(temp)\n",
    "        dict_losses['dev'].append(evaluate(model, criterion, dataloader_dev))\n",
    "        dict_losses['test'].append(evaluate(model, criterion, dataloader_test))\n",
    "\n",
    "        s_train = scores(model, datasets['train'], 100)\n",
    "        s_dev = scores(model, datasets['dev'], 100)\n",
    "        s_test = scores(model, datasets['test'], 100)\n",
    "        \n",
    "        dict_scores['train'][0].append(s_train[0])\n",
    "        dict_scores['train'][1].append(s_train[1])\n",
    "        dict_scores['train'][2].append(s_train[2])\n",
    "        dict_scores['dev'][0].append(s_dev[0])\n",
    "        dict_scores['dev'][1].append(s_dev[1])\n",
    "        dict_scores['dev'][2].append(s_dev[2])\n",
    "        dict_scores['test'][0].append(s_test[0])\n",
    "        dict_scores['test'][1].append(s_test[1])\n",
    "        dict_scores['test'][2].append(s_test[2])\n",
    "        \n",
    "        if s_dev[2] > best_dev_f1:\n",
    "            print(f' epoch Dev F1 score: {best_dev_f1:.6} -> {s_dev[2]:.6}')\n",
    "            best_dev_f1 = s_dev[2]\n",
    "            torch.save(model, 'best_char_bilstm_pos.pt')\n",
    "    print()\n",
    "    return dict_losses, dict_scores"
   ]
  },
  {
   "cell_type": "code",
   "execution_count": 10,
   "id": "chemical-mambo",
   "metadata": {},
   "outputs": [],
   "source": [
    "def pos_tagging(model, input_seq):\n",
    "    model.eval()\n",
    "    o = model(engdict, device, input_seq)\n",
    "    __tagged, tagged = torch.max(o, dim=-1)\n",
    "    return tagged"
   ]
  },
  {
   "cell_type": "code",
   "execution_count": 11,
   "id": "hired-beijing",
   "metadata": {},
   "outputs": [],
   "source": [
    "def calc(model, input_seq, target_seq=None):\n",
    "    # input_seq = engdict.tensorFromSentence(input_seq, device)\n",
    "    # input_list = engdict.sentenceFromIndexes(input_seq.tolist())\n",
    "    input_list = input_seq.split()\n",
    "\n",
    "    # print(input_list)\n",
    "    # print(sentenceFromIndexes(posdict, target_seq.tolist()))\n",
    "    output_list = posdict.sentenceFromIndexes(pos_tagging(model, [input_seq]).view(-1).tolist())\n",
    "    \n",
    "    target_list = None\n",
    "    if target_seq is not None:\n",
    "        target_list = posdict.sentenceFromIndexes(target_seq.tolist())\n",
    "\n",
    "#     print(output_list)\n",
    "    showParallel(input_list, output_list, target_list)"
   ]
  },
  {
   "cell_type": "code",
   "execution_count": 12,
   "id": "transsexual-break",
   "metadata": {},
   "outputs": [],
   "source": [
    "# embedding_dim = 100\n",
    "char_dim = 10\n",
    "word_dim = 50\n",
    "size_hidden = 50\n",
    "num_layers = 1\n",
    "size_out = num_poss\n",
    "size_batch = 100\n",
    "# criterion  = nn.CrossEntropyLoss().to(device)\n",
    "criterion  = nn.CrossEntropyLoss(ignore_index=tag_PAD).to(device)"
   ]
  },
  {
   "cell_type": "code",
   "execution_count": 13,
   "id": "burning-commonwealth",
   "metadata": {},
   "outputs": [
    {
     "name": "stdout",
     "output_type": "stream",
     "text": [
      "1 epoch Dev F1 score: 0.0 -> 0.8032\n",
      "2 epoch Dev F1 score: 0.8032 -> 0.849671\n",
      "3 epoch Dev F1 score: 0.849671 -> 0.87616\n",
      "4 epoch Dev F1 score: 0.87616 -> 0.923926\n",
      "5 epoch Dev F1 score: 0.923926 -> 0.933615\n",
      "6 epoch Dev F1 score: 0.933615 -> 0.946533\n",
      "7 epoch Dev F1 score: 0.946533 -> 0.954033\n",
      "8 epoch Dev F1 score: 0.954033 -> 0.955844\n",
      "9 epoch Dev F1 score: 0.955844 -> 0.958537\n",
      "10 epoch Dev F1 score: 0.958537 -> 0.960778\n",
      "12 epoch Dev F1 score: 0.960778 -> 0.961282\n",
      "14 epoch Dev F1 score: 0.961282 -> 0.961848\n",
      "16 epoch Dev F1 score: 0.961848 -> 0.963491\n",
      "17 epoch Dev F1 score: 0.963491 -> 0.965081\n",
      "45 epoch Dev F1 score: 0.965081 -> 0.965407\n",
      "53 epoch Dev F1 score: 0.965407 -> 0.96544\n",
      "57 epoch Dev F1 score: 0.96544 -> 0.965558\n",
      "60\n",
      "\t1978.3093795776367\n"
     ]
    }
   ],
   "source": [
    "model = CharBiLSTM(num_chars, num_words, char_dim, word_dim, size_hidden, size_out, num_layers, tag_PAD).to(device)\n",
    "optimizer = optim.Adam(model.parameters(), lr=0.01)\n",
    "\n",
    "num_epoch = 60\n",
    "st = time.time()\n",
    "dict_losses, dict_scores = train_losses_scores(model, optimizer, criterion, datasets, size_batch, num_epoch)\n",
    "print(f'\\t{time.time()-st:5}')"
   ]
  },
  {
   "cell_type": "code",
   "execution_count": 14,
   "id": "worse-ticket",
   "metadata": {},
   "outputs": [
    {
     "data": {
      "image/png": "[encoded data removed]",
      "text/plain": [
       "<Figure size 936x936 with 5 Axes>"
      ]
     },
     "metadata": {
      "needs_background": "light"
     },
     "output_type": "display_data"
    }
   ],
   "source": [
    "showGraph(dict_losses, dict_scores)"
   ]
  },
  {
   "cell_type": "code",
   "execution_count": 15,
   "id": "whole-prophet",
   "metadata": {},
   "outputs": [
    {
     "name": "stdout",
     "output_type": "stream",
     "text": [
      "0.78461   0.8032   0.79326\n",
      "0.8392   0.8497   0.84097\n",
      "0.87208   0.8762   0.87039\n",
      "0.91305   0.9239   0.90995\n",
      "0.92583   0.9336   0.92107\n",
      "0.94256   0.9465   0.93288\n",
      "0.95161   0.954   0.94069\n",
      "0.95726   0.9558   0.94402\n",
      "0.96353   0.9585   0.94837\n",
      "0.96851   0.9608   0.95215\n",
      "0.97232   0.9598   0.95262\n",
      "0.97517   0.9613   0.9551\n",
      "0.97563   0.9613   0.95284\n",
      "0.97818   0.9618   0.95664\n",
      "0.98194   0.9618   0.95736\n",
      "0.98348   0.9635   0.95804\n",
      "0.98475   0.9651   0.95732\n",
      "0.98772   0.9627   0.95986\n",
      "0.98932   0.9606   0.95819\n",
      "0.99062   0.963   0.95957\n",
      "0.99162   0.9617   0.96074\n",
      "0.99149   0.9638   0.95783\n",
      "0.99306   0.9628   0.95822\n",
      "0.99395   0.9617   0.95783\n",
      "0.99511   0.9627   0.96045\n",
      "0.99592   0.9628   0.96054\n",
      "0.99646   0.9617   0.95956\n",
      "0.99687   0.9633   0.95954\n",
      "0.99709   0.9637   0.9583\n",
      "0.99787   0.9635   0.96009\n",
      "0.99723   0.9621   0.95967\n",
      "0.99747   0.9615   0.95745\n",
      "0.99725   0.9645   0.95887\n",
      "0.99697   0.9624   0.96073\n",
      "0.99766   0.9635   0.95914\n",
      "0.99842   0.9608   0.95887\n",
      "0.99886   0.9641   0.95852\n",
      "0.99915   0.9651   0.95936\n",
      "0.99939   0.9639   0.95949\n",
      "0.99941   0.9642   0.95788\n",
      "0.99947   0.9648   0.95911\n",
      "0.99966   0.9637   0.9587\n",
      "0.99969   0.9641   0.95858\n",
      "0.99983   0.963   0.95904\n",
      "0.99986   0.9654   0.95897\n",
      "0.99993   0.9651   0.9593\n",
      "0.99994   0.964   0.95902\n",
      "0.99994   0.9644   0.95913\n",
      "0.99998   0.9642   0.95957\n",
      "0.99997   0.9645   0.95967\n",
      "0.99998   0.9643   0.95934\n",
      "0.99999   0.9648   0.95945\n",
      "0.99998   0.9654   0.95973\n",
      "0.99998   0.9645   0.95909\n",
      "0.99999   0.9652   0.95882\n",
      "0.99999   0.9638   0.95903\n",
      "0.99999   0.9656   0.95837\n",
      "0.99999   0.9652   0.95933\n",
      "0.99999   0.9647   0.95862\n",
      "0.99999   0.9645   0.95901\n"
     ]
    }
   ],
   "source": [
    "score_type=2\n",
    "for i in range(len(dict_scores[\"train\"][score_type])):\n",
    "    print(f'{dict_scores[\"train\"][score_type][i]:<.5}   {dict_scores[\"dev\"][score_type][i]:<05.4}   {dict_scores[\"test\"][score_type][i]:.5}')"
   ]
  },
  {
   "cell_type": "code",
   "execution_count": 25,
   "id": "freelance-hacker",
   "metadata": {},
   "outputs": [
    {
     "name": "stdout",
     "output_type": "stream",
     "text": [
      "words               tags    targets\n",
      "\u001b[31m맨시티                 B-PS    B-OG\u001b[0m\n",
      "\u001b[0m의                   O       O\u001b[0m\n",
      "\u001b[31m스벤                  O       B-PS\u001b[0m\n",
      "\u001b[31m예란                  O       I-PS\u001b[0m\n",
      "\u001b[31m에릭손                 B-PS    I-PS\u001b[0m\n",
      "\u001b[0m감독                  O       O\u001b[0m\n",
      "\u001b[0m은                   O       O\u001b[0m\n",
      "\u001b[0m8                   B-DT    B-DT\u001b[0m\n",
      "\u001b[0m일                   I-DT    I-DT\u001b[0m\n",
      "\u001b[0m현지                  O       O\u001b[0m\n",
      "\u001b[0m언론                  O       O\u001b[0m\n",
      "\u001b[0m과                   O       O\u001b[0m\n",
      "\u001b[0m의                   O       O\u001b[0m\n",
      "\u001b[0m인터뷰                 O       O\u001b[0m\n",
      "\u001b[0m에서                  O       O\u001b[0m\n",
      "\u001b[0m호나우지뉴               B-PS    B-PS\u001b[0m\n",
      "\u001b[0m영입                  O       O\u001b[0m\n",
      "\u001b[0m가능                  O       O\u001b[0m\n",
      "\u001b[0m성                   O       O\u001b[0m\n",
      "\u001b[0m에                   O       O\u001b[0m\n",
      "\u001b[0m대해                  O       O\u001b[0m\n",
      "\u001b[0m\"                   O       O\u001b[0m\n",
      "\u001b[0m호나우지뉴               B-PS    B-PS\u001b[0m\n",
      "\u001b[0m의                   O       O\u001b[0m\n",
      "\u001b[0m영입설                 O       O\u001b[0m\n",
      "\u001b[0m은                   O       O\u001b[0m\n",
      "\u001b[0m처음                  O       O\u001b[0m\n",
      "\u001b[0m들                   O       O\u001b[0m\n",
      "\u001b[0m어                   O       O\u001b[0m\n",
      "\u001b[0m보                   O       O\u001b[0m\n",
      "\u001b[0m는                   O       O\u001b[0m\n",
      "\u001b[0m이야기                 O       O\u001b[0m\n",
      "\u001b[0m다                   O       O\u001b[0m\n",
      "\u001b[0m.                   O       O\u001b[0m\n"
     ]
    }
   ],
   "source": [
    "testset = datasets['test']\n",
    "for ii in range(len(testset)):\n",
    "    i = 16\n",
    "    input_seq = testset.x_data[i]\n",
    "    target_seq = testset.y_data[i]\n",
    "    calc(model, input_seq, target_seq)\n",
    "    break\n",
    "#     print(target_seq)"
   ]
  },
  {
   "cell_type": "code",
   "execution_count": 17,
   "id": "moved-jersey",
   "metadata": {},
   "outputs": [
    {
     "name": "stdout",
     "output_type": "stream",
     "text": [
      "words               tags\n",
      "I                   O\n",
      "am                  O\n",
      "your                O\n",
      "father              O\n",
      ".                   O\n"
     ]
    }
   ],
   "source": [
    "# sen = 'I am your father .'\n",
    "# # in_sen = torch.tensor(engdict.indexesFromSentence(sen), device=device)\n",
    "\n",
    "# # sen2 = [4609,   25,   35,  116, 4610, 1562,   74,  115, 4611,   49, 4612, 1456,\n",
    "# #         4613,  224,  691,    6, 4614,   76,   30, 1742, 4615,  308,  107, 4614,\n",
    "# #          116, 4616, 4617,   17]\n",
    "# # in_sen = torch.tensor(sen2, device=device)\n",
    "\n",
    "# calc(model, sen)"
   ]
  },
  {
   "cell_type": "code",
   "execution_count": null,
   "id": "indirect-paintball",
   "metadata": {},
   "outputs": [],
   "source": []
  },
  {
   "cell_type": "code",
   "execution_count": 18,
   "id": "compatible-prayer",
   "metadata": {},
   "outputs": [
    {
     "name": "stdout",
     "output_type": "stream",
     "text": [
      "(0.548, 0.9662434652725915, 0.9655578136444092)\n",
      "(0.502, 0.9599939727265878, 0.958366870880127)\n"
     ]
    }
   ],
   "source": [
    "best_model = torch.load('best_char_bilstm_pos.pt')\n",
    "s_dev = scores(best_model, datasets['dev'], 100)\n",
    "s_test = scores(best_model, datasets['test'], 100)\n",
    "print(s_dev)\n",
    "print(s_test)"
   ]
  },
  {
   "cell_type": "code",
   "execution_count": null,
   "id": "sporting-oasis",
   "metadata": {},
   "outputs": [],
   "source": []
  }
 ],
 "metadata": {
  "kernelspec": {
   "display_name": "Python 3",
   "language": "python",
   "name": "python3"
  },
  "language_info": {
   "codemirror_mode": {
    "name": "ipython",
    "version": 3
   },
   "file_extension": ".py",
   "mimetype": "text/x-python",
   "name": "python",
   "nbconvert_exporter": "python",
   "pygments_lexer": "ipython3",
   "version": "3.8.5"
  }
 },
 "nbformat": 4,
 "nbformat_minor": 5
}
