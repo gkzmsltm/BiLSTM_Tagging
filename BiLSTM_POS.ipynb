{
 "cells": [
  {
   "cell_type": "code",
   "execution_count": 1,
   "id": "selected-jurisdiction",
   "metadata": {},
   "outputs": [],
   "source": [
    "%matplotlib inline"
   ]
  },
  {
   "cell_type": "code",
   "execution_count": 2,
   "id": "aggregate-cricket",
   "metadata": {},
   "outputs": [],
   "source": [
    "import time\n",
    "import matplotlib.pyplot as plt \n",
    "import torch\n",
    "import torch.nn as nn\n",
    "from torch import optim\n",
    "from torch.utils.data import DataLoader\n",
    "from dataload import lang, localdata\n",
    "from tagger.bilstm import BiLSTM\n",
    "from etc.customUtil import showGraph, showParallel"
   ]
  },
  {
   "cell_type": "code",
   "execution_count": 3,
   "id": "split-portsmouth",
   "metadata": {},
   "outputs": [
    {
     "name": "stdout",
     "output_type": "stream",
     "text": [
      "cuda\n"
     ]
    }
   ],
   "source": [
    "device = torch.device(\"cuda\" if torch.cuda.is_available() else \"cpu\")\n",
    "print(device)"
   ]
  },
  {
   "cell_type": "code",
   "execution_count": 4,
   "id": "noted-aside",
   "metadata": {},
   "outputs": [
    {
     "name": "stdout",
     "output_type": "stream",
     "text": [
      "21591\n",
      "82\n",
      "46\n",
      "54\n",
      "78\n",
      "4\n",
      "78\n",
      "936\n",
      "2012\n",
      "8000\n"
     ]
    }
   ],
   "source": [
    "tag_PAD = lang.tag_PAD\n",
    "tag_UNK = lang.tag_UNK\n",
    "\n",
    "datasets, engdict, posdict = localdata.load_eng_pos(device)\n",
    "num_words = engdict.n_words\n",
    "num_chars = engdict.n_chars\n",
    "num_poss = posdict.n_words\n",
    "print(num_words)\n",
    "print(num_chars)\n",
    "print(num_poss)\n",
    "# print(MAX_LENGTH)\n",
    "print(engdict.max_len_char)\n",
    "print(engdict.max_len_word)\n",
    "print(posdict.max_len_char)\n",
    "print(posdict.max_len_word)\n",
    "\n",
    "print(len(datasets['dev'].y_data))\n",
    "print(len(datasets['test'].y_data)) \n",
    "print(len(datasets['train'].y_data))"
   ]
  },
  {
   "cell_type": "code",
   "execution_count": 5,
   "id": "serious-memorabilia",
   "metadata": {},
   "outputs": [],
   "source": [
    "def iteration(samples, optimizer, criterion):\n",
    "    x_train, y_train = samples\n",
    "        \n",
    "    optimizer.zero_grad()\n",
    "\n",
    "    o = model(x_train)\n",
    "    o = o.view(-1,o.size(-1))\n",
    "    t = y_train.view(-1)\n",
    "\n",
    "    loss = criterion(o, t)\n",
    "    loss.backward()\n",
    "    optimizer.step()\n",
    "\n",
    "    return loss.item()"
   ]
  },
  {
   "cell_type": "code",
   "execution_count": 6,
   "id": "joined-islam",
   "metadata": {},
   "outputs": [],
   "source": [
    "def epoch(model, optimizer, criterion, dataloader):\n",
    "    model.train()\n",
    "    list_loss = []\n",
    "    for batch_idx, samples in enumerate(dataloader):\n",
    "        loss = iteration(samples, optimizer, criterion)\n",
    "        list_loss.append(loss)\n",
    "    return list_loss"
   ]
  },
  {
   "cell_type": "code",
   "execution_count": 7,
   "id": "swedish-pixel",
   "metadata": {},
   "outputs": [],
   "source": [
    "def evaluate(model, criterion, dataloader):\n",
    "    model.eval()\n",
    "    total_loss = 0\n",
    "    for batch_idx, samples in enumerate(dataloader):\n",
    "        x_train, y_train = samples\n",
    "\n",
    "        o = model(x_train)\n",
    "        o = o.view(-1,o.size(-1))\n",
    "        t = y_train.view(-1)\n",
    "\n",
    "        total_loss += criterion(o, t).item()\n",
    "\n",
    "        # if batch_idx % 100 == 0:\n",
    "            # print(batch_idx, loss.item())\n",
    "            \n",
    "    # print(batch_idx, loss.item())\n",
    "    return total_loss / (batch_idx+1)"
   ]
  },
  {
   "cell_type": "code",
   "execution_count": 8,
   "id": "fiscal-payday",
   "metadata": {},
   "outputs": [],
   "source": [
    "def scores(model, dataset, batch_size):\n",
    "    model.eval()\n",
    "    dataloader = DataLoader(dataset, batch_size=batch_size, shuffle=True)\n",
    "    \n",
    "    total_samples = len(dataset)\n",
    "    cnt_corr_samples = 0\n",
    "    total_words = 0\n",
    "    cnt_corr_words = 0\n",
    "    c = posdict.n_words\n",
    "    table = torch.zeros(c,c)\n",
    "    \n",
    "    for batch_idx, samples in enumerate(dataloader):\n",
    "        x_train, y_train = samples\n",
    "        \n",
    "        o = model(x_train)\n",
    "        t = y_train.view(-1)\n",
    "\n",
    "        __tagged, tagged = torch.max(o, dim=-1)\n",
    "        \n",
    "        for i in range(x_train.size(0)):\n",
    "            l = y_train[i].tolist()\n",
    "            if tag_PAD in l:\n",
    "                seq_len = l.index(tag_PAD)\n",
    "            else:\n",
    "                seq_len = len(l)\n",
    "            \n",
    "            _y = y_train[i,:seq_len]\n",
    "            _p = tagged[i,:seq_len]\n",
    "            d = _p!=_y\n",
    "            cnt_wrong = _p[d].size()[0]\n",
    "            \n",
    "            # score1_acc_sample\n",
    "            if cnt_wrong == 0:\n",
    "                cnt_corr_samples +=1\n",
    "                \n",
    "            # score2_acc_word\n",
    "            total_words += seq_len\n",
    "            cnt_corr_words += seq_len - cnt_wrong\n",
    "            \n",
    "            # score3_f1\n",
    "            for j in range(seq_len):\n",
    "                table[_y[j],_p[j]] += 1\n",
    "\n",
    "    tp = torch.tensor([table[i,i] for i in range(c)])[2:]\n",
    "    d0sum = table[2:,2:].sum(dim=0)\n",
    "    d1sum = table[2:,2:].sum(dim=1)\n",
    "    allsum = d1sum.sum()\n",
    "    \n",
    "    pr = tp / d0sum\n",
    "    temp = pr != pr\n",
    "    pr[temp] = 0\n",
    "    \n",
    "    re = tp / d1sum\n",
    "    temp = re != re\n",
    "    re[temp] = 0\n",
    "    \n",
    "    f1 = 2 * pr * re / (pr + re)\n",
    "    temp = f1 != f1\n",
    "    f1[temp] = 0\n",
    "    \n",
    "    avg_f1 = (f1 * d1sum).sum() / allsum\n",
    "  \n",
    "    return (cnt_corr_samples / total_samples,\n",
    "            cnt_corr_words / total_words,\n",
    "            avg_f1.item())"
   ]
  },
  {
   "cell_type": "code",
   "execution_count": 9,
   "id": "civilian-explosion",
   "metadata": {},
   "outputs": [],
   "source": [
    "def train_losses_scores(model, optimizer, criterion, datasets, batch_size, num_epoch):\n",
    "\n",
    "    dict_losses={'train': [],\n",
    "                 'dev': [],\n",
    "                 'test': []\n",
    "                }\n",
    "    \n",
    "    dict_scores={'train': [[],[],[]],\n",
    "                 'dev': [[],[],[]],\n",
    "                 'test': [[],[],[]]\n",
    "                }\n",
    "    best_dev_f1 = 0.0\n",
    "    for epoch_i in range(1,num_epoch+1):\n",
    "        dataloader = DataLoader(datasets['train'], batch_size=batch_size, shuffle=True)\n",
    "        dataloader_dev = DataLoader(datasets['dev'], batch_size=len(datasets['dev']), shuffle=True)\n",
    "        dataloader_test = DataLoader(datasets['test'], batch_size=len(datasets['test']), shuffle=True)\n",
    "        print(f'\\r{epoch_i}', end='')\n",
    "        temp = epoch(model, optimizer, criterion, dataloader)\n",
    "        dict_losses['train'].extend(temp)\n",
    "        dict_losses['dev'].append(evaluate(model, criterion, dataloader_dev))\n",
    "        dict_losses['test'].append(evaluate(model, criterion, dataloader_test))\n",
    "\n",
    "        s_train = scores(model, datasets['train'], 100)\n",
    "        s_dev = scores(model, datasets['dev'], 100)\n",
    "        s_test = scores(model, datasets['test'], 100)\n",
    "        \n",
    "        dict_scores['train'][0].append(s_train[0])\n",
    "        dict_scores['train'][1].append(s_train[1])\n",
    "        dict_scores['train'][2].append(s_train[2])\n",
    "        dict_scores['dev'][0].append(s_dev[0])\n",
    "        dict_scores['dev'][1].append(s_dev[1])\n",
    "        dict_scores['dev'][2].append(s_dev[2])\n",
    "        dict_scores['test'][0].append(s_test[0])\n",
    "        dict_scores['test'][1].append(s_test[1])\n",
    "        dict_scores['test'][2].append(s_test[2])\n",
    "\n",
    "        if s_dev[2] > best_dev_f1:\n",
    "            print(f' epoch Dev F1 score: {best_dev_f1:.6} -> {s_dev[2]:.6}')\n",
    "            best_dev_f1 = s_dev[2]\n",
    "            torch.save(model, 'best_bilstm_pos.pt')\n",
    "    print()\n",
    "    return dict_losses, dict_scores"
   ]
  },
  {
   "cell_type": "code",
   "execution_count": 10,
   "id": "separate-leonard",
   "metadata": {},
   "outputs": [],
   "source": [
    "def pos_tagging(model, input_seq):\n",
    "    model.eval()\n",
    "    o = model(input_seq)\n",
    "    __tagged, tagged = torch.max(o, dim=-1)\n",
    "    return tagged"
   ]
  },
  {
   "cell_type": "code",
   "execution_count": 11,
   "id": "peaceful-appearance",
   "metadata": {},
   "outputs": [],
   "source": [
    "def calc(model, input_seq, target_seq=None):\n",
    "    input_list = engdict.sentenceFromIndexes(input_seq.tolist())\n",
    "#     print(input_list)\n",
    "    # print(sentenceFromIndexes(posdict, target_seq.tolist()))\n",
    "    output_list = posdict.sentenceFromIndexes(pos_tagging(model, input_seq.unsqueeze(0)).view(-1).tolist())\n",
    "    \n",
    "    target_list = None\n",
    "    if target_seq is not None:\n",
    "        target_list = posdict.sentenceFromIndexes(target_seq.tolist())\n",
    "\n",
    "#     print(output_list)\n",
    "    showParallel(input_list, output_list, target_list)"
   ]
  },
  {
   "cell_type": "code",
   "execution_count": 12,
   "id": "tutorial-thailand",
   "metadata": {},
   "outputs": [],
   "source": [
    "embedding_dim = 100\n",
    "size_hidden = 50\n",
    "num_layers = 1\n",
    "size_out = num_poss\n",
    "size_batch = 100\n",
    "# criterion  = nn.CrossEntropyLoss().to(device)\n",
    "criterion  = nn.CrossEntropyLoss(ignore_index=tag_PAD).to(device)"
   ]
  },
  {
   "cell_type": "code",
   "execution_count": 13,
   "id": "departmental-oasis",
   "metadata": {},
   "outputs": [
    {
     "name": "stdout",
     "output_type": "stream",
     "text": [
      "1 epoch Dev F1 score: 0.0 -> 0.885205\n",
      "2 epoch Dev F1 score: 0.885205 -> 0.933306\n",
      "3 epoch Dev F1 score: 0.933306 -> 0.943903\n",
      "4 epoch Dev F1 score: 0.943903 -> 0.947567\n",
      "5 epoch Dev F1 score: 0.947567 -> 0.948836\n",
      "6 epoch Dev F1 score: 0.948836 -> 0.949221\n",
      "7 epoch Dev F1 score: 0.949221 -> 0.950923\n",
      "9 epoch Dev F1 score: 0.950923 -> 0.952555\n",
      "19 epoch Dev F1 score: 0.952555 -> 0.952752\n",
      "40 epoch Dev F1 score: 0.952752 -> 0.953151\n",
      "60\n",
      "\t3198.7626843452454\n"
     ]
    }
   ],
   "source": [
    "model = BiLSTM(num_words, embedding_dim, size_hidden, size_out, num_layers, tag_PAD).to(device)\n",
    "optimizer = optim.Adam(model.parameters(), lr=0.01)\n",
    "\n",
    "num_epoch = 60\n",
    "st = time.time()\n",
    "dict_losses, dict_scores = train_losses_scores(model, optimizer, criterion, datasets, size_batch, num_epoch)\n",
    "print(f'\\t{time.time()-st:5}')"
   ]
  },
  {
   "cell_type": "code",
   "execution_count": 14,
   "id": "timely-consultancy",
   "metadata": {},
   "outputs": [
    {
     "data": {
      "image/png": "[encoded data removed]",
      "text/plain": [
       "<Figure size 936x936 with 5 Axes>"
      ]
     },
     "metadata": {
      "needs_background": "light"
     },
     "output_type": "display_data"
    }
   ],
   "source": [
    "showGraph(dict_losses, dict_scores)"
   ]
  },
  {
   "cell_type": "code",
   "execution_count": 18,
   "id": "bottom-regression",
   "metadata": {},
   "outputs": [
    {
     "name": "stdout",
     "output_type": "stream",
     "text": [
      "0.90526   0.8852   0.8722\n",
      "0.96811   0.9333   0.91983\n",
      "0.98658   0.9439   0.93153\n",
      "0.9939   0.9476   0.93579\n",
      "0.9967   0.9488   0.93749\n",
      "0.99832   0.9492   0.93824\n",
      "0.999   0.9509   0.93856\n",
      "0.99928   0.9505   0.93926\n",
      "0.99936   0.9526   0.93966\n",
      "0.99963   0.9518   0.93919\n",
      "0.99972   0.9507   0.93864\n",
      "0.99978   0.9518   0.93906\n",
      "0.99976   0.9519   0.93926\n",
      "0.9998   0.9524   0.93913\n",
      "0.99987   0.9517   0.93944\n",
      "0.99977   0.9513   0.93843\n",
      "0.99989   0.9518   0.93913\n",
      "0.99983   0.9516   0.93835\n",
      "0.99982   0.9528   0.93864\n",
      "0.99976   0.9518   0.93957\n",
      "0.9998   0.9516   0.93919\n",
      "0.99976   0.9506   0.93938\n",
      "0.99977   0.9505   0.93944\n",
      "0.99977   0.9513   0.93914\n",
      "0.99972   0.9515   0.93902\n",
      "0.99968   0.9514   0.93843\n",
      "0.99978   0.9511   0.93831\n",
      "0.99979   0.9522   0.93876\n",
      "0.99979   0.9516   0.93918\n",
      "0.99977   0.9512   0.93886\n",
      "0.99983   0.9512   0.93834\n",
      "0.99988   0.9512   0.93829\n",
      "0.9998   0.9516   0.93848\n",
      "0.99981   0.9508   0.93887\n",
      "0.99986   0.9511   0.93897\n",
      "0.9999   0.9514   0.93901\n",
      "0.99976   0.9522   0.93823\n",
      "0.99978   0.9509   0.93933\n",
      "0.99984   0.9522   0.93954\n",
      "0.99985   0.9532   0.94002\n",
      "0.99985   0.951   0.9398\n",
      "0.99987   0.9507   0.93952\n",
      "0.99986   0.9525   0.93986\n",
      "0.99987   0.9521   0.93958\n",
      "0.99991   0.9521   0.93896\n",
      "0.99987   0.9513   0.93941\n",
      "0.99989   0.9511   0.9389\n",
      "0.99985   0.9512   0.93906\n",
      "0.99984   0.9515   0.93945\n",
      "0.99996   0.9512   0.93972\n",
      "0.99987   0.9506   0.93914\n",
      "0.99984   0.9511   0.93885\n",
      "0.99986   0.9509   0.93937\n",
      "0.99977   0.9508   0.93864\n",
      "0.99984   0.9508   0.93853\n",
      "0.99982   0.9513   0.93778\n",
      "0.99982   0.9509   0.93802\n",
      "0.99986   0.9514   0.93854\n",
      "0.99991   0.9523   0.93873\n",
      "0.99982   0.950   0.93756\n"
     ]
    }
   ],
   "source": [
    "score_type=2\n",
    "for i in range(len(dict_scores[\"train\"][score_type])):\n",
    "    print(f'{dict_scores[\"train\"][score_type][i]:<.5}   {dict_scores[\"dev\"][score_type][i]:<05.4}   {dict_scores[\"test\"][score_type][i]:.5}')"
   ]
  },
  {
   "cell_type": "code",
   "execution_count": 19,
   "id": "willing-norway",
   "metadata": {},
   "outputs": [
    {
     "name": "stdout",
     "output_type": "stream",
     "text": [
      "words               tags    targets\n",
      "\u001b[31mPublic              NNP     JJ\u001b[0m\n",
      "\u001b[31mprotests            NNP     NNS\u001b[0m\n",
      "\u001b[0magainst             IN      IN\u001b[0m\n",
      "\u001b[0mhim                 PRP     PRP\u001b[0m\n",
      "\u001b[0mwere                VBD     VBD\u001b[0m\n",
      "\u001b[0mtriggered           VBN     VBN\u001b[0m\n",
      "\u001b[0min                  IN      IN\u001b[0m\n",
      "\u001b[0mJune                NNP     NNP\u001b[0m\n",
      "\u001b[0m1987                CD      CD\u001b[0m\n",
      "\u001b[0mdue                 JJ      JJ\u001b[0m\n",
      "\u001b[0mto                  TO      TO\u001b[0m\n",
      "\u001b[0mcharges             NNS     NNS\u001b[0m\n",
      "\u001b[0mby                  IN      IN\u001b[0m\n",
      "\u001b[31mDiaz                JJ      NNP\u001b[0m\n",
      "\u001b[31mHerrera             NNS     NNP\u001b[0m\n",
      "\u001b[0m,                   ,       ,\u001b[0m\n",
      "\u001b[0mhis                 PRP$    PRP$\u001b[0m\n",
      "\u001b[0mformer              JJ      JJ\u001b[0m\n",
      "\u001b[0mchief               NN      NN\u001b[0m\n",
      "\u001b[0mof                  IN      IN\u001b[0m\n",
      "\u001b[0mstaff               NN      NN\u001b[0m\n",
      "\u001b[0m,                   ,       ,\u001b[0m\n",
      "\u001b[0mthat                IN      IN\u001b[0m\n",
      "\u001b[0mMr.                 NNP     NNP\u001b[0m\n",
      "\u001b[0mNoriega             NNP     NNP\u001b[0m\n",
      "\u001b[0mhad                 VBD     VBD\u001b[0m\n",
      "\u001b[0mstolen              VBN     VBN\u001b[0m\n",
      "\u001b[0mthe                 DT      DT\u001b[0m\n",
      "\u001b[0m1984                CD      CD\u001b[0m\n",
      "\u001b[0melection            NN      NN\u001b[0m\n",
      "\u001b[0mand                 CC      CC\u001b[0m\n",
      "\u001b[0mhad                 VBD     VBD\u001b[0m\n",
      "\u001b[31mordered             VBD     VBN\u001b[0m\n",
      "\u001b[0mthe                 DT      DT\u001b[0m\n",
      "\u001b[0mkilling             NN      NN\u001b[0m\n",
      "\u001b[0mof                  IN      IN\u001b[0m\n",
      "\u001b[0mMessrs.             NNP     NNP\u001b[0m\n",
      "\u001b[31mSpadafora           PRP     NNP\u001b[0m\n",
      "\u001b[0mand                 CC      CC\u001b[0m\n",
      "\u001b[31mTorrijos            NN      NNP\u001b[0m\n",
      "\u001b[0m.                   .       .\u001b[0m\n"
     ]
    }
   ],
   "source": [
    "testset = datasets['test']\n",
    "for ii in range(len(testset)):\n",
    "    i = 300\n",
    "    input_seq = testset.x_data[i]\n",
    "    target_seq = testset.y_data[i]\n",
    "    calc(model, input_seq, target_seq)\n",
    "    break\n",
    "#     print(target_seq)"
   ]
  },
  {
   "cell_type": "code",
   "execution_count": 17,
   "id": "mediterranean-doubt",
   "metadata": {},
   "outputs": [
    {
     "name": "stdout",
     "output_type": "stream",
     "text": [
      "words               tags\n",
      "I                   PRP\n",
      "am                  VBP\n",
      "your                PRP$\n",
      "father              NN\n",
      ".                   .\n"
     ]
    }
   ],
   "source": [
    "sen = 'I am your father .'\n",
    "in_sen = torch.tensor(engdict.indexesFromSentence(sen), device=device)\n",
    "\n",
    "sen2 = [4609,   25,   35,  116, 4610, 1562,   74,  115, 4611,   49, 4612, 1456,\n",
    "        4613,  224,  691,    6, 4614,   76,   30, 1742, 4615,  308,  107, 4614,\n",
    "         116, 4616, 4617,   17]\n",
    "in_sen2 = torch.tensor(sen2, device=device)\n",
    "\n",
    "calc(model, in_sen)"
   ]
  },
  {
   "cell_type": "code",
   "execution_count": null,
   "id": "organizational-annex",
   "metadata": {},
   "outputs": [],
   "source": []
  },
  {
   "cell_type": "code",
   "execution_count": null,
   "id": "wooden-publicity",
   "metadata": {},
   "outputs": [],
   "source": []
  }
 ],
 "metadata": {
  "kernelspec": {
   "display_name": "Python 3",
   "language": "python",
   "name": "python3"
  },
  "language_info": {
   "codemirror_mode": {
    "name": "ipython",
    "version": 3
   },
   "file_extension": ".py",
   "mimetype": "text/x-python",
   "name": "python",
   "nbconvert_exporter": "python",
   "pygments_lexer": "ipython3",
   "version": "3.8.5"
  }
 },
 "nbformat": 4,
 "nbformat_minor": 5
}
