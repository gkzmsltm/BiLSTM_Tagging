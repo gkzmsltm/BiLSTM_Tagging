{
 "cells": [
  {
   "cell_type": "code",
   "execution_count": 1,
   "id": "practical-mouth",
   "metadata": {},
   "outputs": [],
   "source": [
    "%matplotlib inline"
   ]
  },
  {
   "cell_type": "code",
   "execution_count": 2,
   "id": "southern-concern",
   "metadata": {},
   "outputs": [],
   "source": [
    "import time\n",
    "import matplotlib.pyplot as plt \n",
    "import torch\n",
    "import torch.nn as nn\n",
    "from torch import optim\n",
    "from torch.utils.data import DataLoader\n",
    "from dataload import lang, localdata\n",
    "from tagger.bilstm import BiLSTM\n",
    "from etc.customUtil import showGraph, showParallel"
   ]
  },
  {
   "cell_type": "code",
   "execution_count": 3,
   "id": "answering-worker",
   "metadata": {},
   "outputs": [
    {
     "name": "stdout",
     "output_type": "stream",
     "text": [
      "cuda\n"
     ]
    }
   ],
   "source": [
    "device = torch.device(\"cuda\" if torch.cuda.is_available() else \"cpu\")\n",
    "print(device)"
   ]
  },
  {
   "cell_type": "code",
   "execution_count": 4,
   "id": "destroyed-resident",
   "metadata": {},
   "outputs": [
    {
     "name": "stdout",
     "output_type": "stream",
     "text": [
      "21591\n",
      "82\n",
      "46\n",
      "54\n",
      "78\n",
      "4\n",
      "78\n",
      "936\n",
      "2012\n",
      "8000\n"
     ]
    }
   ],
   "source": [
    "tag_PAD = lang.tag_PAD\n",
    "tag_UNK = lang.tag_UNK\n",
    "\n",
    "datasets, engdict, posdict = localdata.load_eng_pos(device)\n",
    "num_words = engdict.n_words\n",
    "num_chars = engdict.n_chars\n",
    "num_poss = posdict.n_words\n",
    "print(num_words)\n",
    "print(num_chars)\n",
    "print(num_poss)\n",
    "# print(MAX_LENGTH)\n",
    "print(engdict.max_len_char)\n",
    "print(engdict.max_len_word)\n",
    "print(posdict.max_len_char)\n",
    "print(posdict.max_len_word)\n",
    "\n",
    "print(len(datasets['dev'].y_data))\n",
    "print(len(datasets['test'].y_data)) \n",
    "print(len(datasets['train'].y_data))"
   ]
  },
  {
   "cell_type": "code",
   "execution_count": 5,
   "id": "oriental-contractor",
   "metadata": {},
   "outputs": [],
   "source": [
    "def iteration(samples, optimizer, criterion):\n",
    "    x_train, y_train = samples\n",
    "        \n",
    "    optimizer.zero_grad()\n",
    "\n",
    "    o = model(x_train)\n",
    "    o = o.view(-1,o.size(-1))\n",
    "    t = y_train.view(-1)\n",
    "\n",
    "    loss = criterion(o, t)\n",
    "    loss.backward()\n",
    "    optimizer.step()\n",
    "\n",
    "    return loss.item()"
   ]
  },
  {
   "cell_type": "code",
   "execution_count": 6,
   "id": "secondary-manchester",
   "metadata": {},
   "outputs": [],
   "source": [
    "def epoch(model, optimizer, criterion, dataloader):\n",
    "    model.train()\n",
    "    list_loss = []\n",
    "    for batch_idx, samples in enumerate(dataloader):\n",
    "        loss = iteration(samples, optimizer, criterion)\n",
    "        list_loss.append(loss)\n",
    "    return list_loss"
   ]
  },
  {
   "cell_type": "code",
   "execution_count": 7,
   "id": "deadly-precipitation",
   "metadata": {},
   "outputs": [],
   "source": [
    "def evaluate(model, criterion, dataloader):\n",
    "    model.eval()\n",
    "    total_loss = 0\n",
    "    for batch_idx, samples in enumerate(dataloader):\n",
    "        x_train, y_train = samples\n",
    "\n",
    "        o = model(x_train)\n",
    "        o = o.view(-1,o.size(-1))\n",
    "        t = y_train.view(-1)\n",
    "\n",
    "        total_loss += criterion(o, t).item()\n",
    "\n",
    "        # if batch_idx % 100 == 0:\n",
    "            # print(batch_idx, loss.item())\n",
    "            \n",
    "    # print(batch_idx, loss.item())\n",
    "    return total_loss / (batch_idx+1)"
   ]
  },
  {
   "cell_type": "code",
   "execution_count": 8,
   "id": "progressive-reading",
   "metadata": {},
   "outputs": [],
   "source": [
    "def scores(model, dataset, batch_size):\n",
    "    model.eval()\n",
    "    dataloader = DataLoader(dataset, batch_size=batch_size, shuffle=True)\n",
    "    \n",
    "    total_samples = len(dataset)\n",
    "    cnt_corr_samples = 0\n",
    "    total_words = 0\n",
    "    cnt_corr_words = 0\n",
    "    c = posdict.n_words\n",
    "    table = torch.zeros(c,c)\n",
    "    \n",
    "    for batch_idx, samples in enumerate(dataloader):\n",
    "        x_train, y_train = samples\n",
    "        \n",
    "        o = model(x_train)\n",
    "        t = y_train.view(-1)\n",
    "\n",
    "        __tagged, tagged = torch.max(o, dim=-1)\n",
    "        \n",
    "        for i in range(x_train.size(0)):\n",
    "            l = y_train[i].tolist()\n",
    "            if tag_PAD in l:\n",
    "                seq_len = l.index(tag_PAD)\n",
    "            else:\n",
    "                seq_len = len(l)\n",
    "            \n",
    "            _y = y_train[i,:seq_len]\n",
    "            _p = tagged[i,:seq_len]\n",
    "            d = _p!=_y\n",
    "            cnt_wrong = _p[d].size()[0]\n",
    "            \n",
    "            # score1_acc_sample\n",
    "            if cnt_wrong == 0:\n",
    "                cnt_corr_samples +=1\n",
    "                \n",
    "            # score2_acc_word\n",
    "            total_words += seq_len\n",
    "            cnt_corr_words += seq_len - cnt_wrong\n",
    "            \n",
    "            # score3_f1\n",
    "            for j in range(seq_len):\n",
    "                table[_y[j],_p[j]] += 1\n",
    "\n",
    "    tp = torch.tensor([table[i,i] for i in range(c)])[2:]\n",
    "    d0sum = table[2:,2:].sum(dim=0)\n",
    "    d1sum = table[2:,2:].sum(dim=1)\n",
    "    allsum = d1sum.sum()\n",
    "    \n",
    "    pr = tp / d0sum\n",
    "    temp = pr != pr\n",
    "    pr[temp] = 0\n",
    "    \n",
    "    re = tp / d1sum\n",
    "    temp = re != re\n",
    "    re[temp] = 0\n",
    "    \n",
    "    f1 = 2 * pr * re / (pr + re)\n",
    "    temp = f1 != f1\n",
    "    f1[temp] = 0\n",
    "    \n",
    "    avg_f1 = (f1 * d1sum).sum() / allsum\n",
    "  \n",
    "    return (cnt_corr_samples / total_samples,\n",
    "            cnt_corr_words / total_words,\n",
    "            avg_f1.item())"
   ]
  },
  {
   "cell_type": "code",
   "execution_count": 9,
   "id": "liable-builder",
   "metadata": {},
   "outputs": [],
   "source": [
    "def train_losses_scores(model, optimizer, criterion, datasets, batch_size, num_epoch):\n",
    "\n",
    "    dict_losses={'train': [],\n",
    "                 'dev': [],\n",
    "                 'test': []\n",
    "                }\n",
    "    \n",
    "    dict_scores={'train': [[],[],[]],\n",
    "                 'dev': [[],[],[]],\n",
    "                 'test': [[],[],[]]\n",
    "                }\n",
    "    best_dev_f1 = 0.0\n",
    "    for epoch_i in range(1,num_epoch+1):\n",
    "        dataloader = DataLoader(datasets['train'], batch_size=batch_size, shuffle=True)\n",
    "        dataloader_dev = DataLoader(datasets['dev'], batch_size=len(datasets['dev']), shuffle=True)\n",
    "        dataloader_test = DataLoader(datasets['test'], batch_size=len(datasets['test']), shuffle=True)\n",
    "        print(f'\\r{epoch_i}', end='')\n",
    "        temp = epoch(model, optimizer, criterion, dataloader)\n",
    "        dict_losses['train'].extend(temp)\n",
    "        dict_losses['dev'].append(evaluate(model, criterion, dataloader_dev))\n",
    "        dict_losses['test'].append(evaluate(model, criterion, dataloader_test))\n",
    "\n",
    "        s_train = scores(model, datasets['train'], 100)\n",
    "        s_dev = scores(model, datasets['dev'], 100)\n",
    "        s_test = scores(model, datasets['test'], 100)\n",
    "        \n",
    "        dict_scores['train'][0].append(s_train[0])\n",
    "        dict_scores['train'][1].append(s_train[1])\n",
    "        dict_scores['train'][2].append(s_train[2])\n",
    "        dict_scores['dev'][0].append(s_dev[0])\n",
    "        dict_scores['dev'][1].append(s_dev[1])\n",
    "        dict_scores['dev'][2].append(s_dev[2])\n",
    "        dict_scores['test'][0].append(s_test[0])\n",
    "        dict_scores['test'][1].append(s_test[1])\n",
    "        dict_scores['test'][2].append(s_test[2])\n",
    "\n",
    "        if s_dev[2] > best_dev_f1:\n",
    "            print(f' epoch Dev F1 score: {best_dev_f1:.6} -> {s_dev[2]:.6}')\n",
    "            best_dev_f1 = s_dev[2]\n",
    "            torch.save(model, 'best_bilstm_pos.pt')\n",
    "    print()\n",
    "    return dict_losses, dict_scores"
   ]
  },
  {
   "cell_type": "code",
   "execution_count": 10,
   "id": "plastic-spiritual",
   "metadata": {},
   "outputs": [],
   "source": [
    "def pos_tagging(model, input_seq):\n",
    "    model.eval()\n",
    "    o = model(input_seq)\n",
    "    __tagged, tagged = torch.max(o, dim=-1)\n",
    "    return tagged"
   ]
  },
  {
   "cell_type": "code",
   "execution_count": 11,
   "id": "hollow-stanley",
   "metadata": {},
   "outputs": [],
   "source": [
    "def calc(model, input_seq, target_seq=None):\n",
    "    input_list = engdict.sentenceFromIndexes(input_seq.tolist())\n",
    "#     print(input_list)\n",
    "    # print(sentenceFromIndexes(posdict, target_seq.tolist()))\n",
    "    output_list = posdict.sentenceFromIndexes(pos_tagging(model, input_seq.unsqueeze(0)).view(-1).tolist())\n",
    "    \n",
    "    target_list = None\n",
    "    if target_seq is not None:\n",
    "        target_list = posdict.sentenceFromIndexes(target_seq.tolist())\n",
    "\n",
    "#     print(output_list)\n",
    "    showParallel(input_list, output_list, target_list)"
   ]
  },
  {
   "cell_type": "code",
   "execution_count": 12,
   "id": "center-transfer",
   "metadata": {},
   "outputs": [],
   "source": [
    "embedding_dim = 100\n",
    "size_hidden = 50\n",
    "num_layers = 1\n",
    "size_out = num_poss\n",
    "size_batch = 100\n",
    "# criterion  = nn.CrossEntropyLoss().to(device)\n",
    "criterion  = nn.CrossEntropyLoss(ignore_index=tag_PAD).to(device)"
   ]
  },
  {
   "cell_type": "code",
   "execution_count": 13,
   "id": "precious-produce",
   "metadata": {},
   "outputs": [
    {
     "name": "stdout",
     "output_type": "stream",
     "text": [
      "1 epoch Dev F1 score: 0.0 -> 0.884158\n",
      "2 epoch Dev F1 score: 0.884158 -> 0.933617\n",
      "3 epoch Dev F1 score: 0.933617 -> 0.945804\n",
      "4 epoch Dev F1 score: 0.945804 -> 0.950227\n",
      "5 epoch Dev F1 score: 0.950227 -> 0.950599\n",
      "6 epoch Dev F1 score: 0.950599 -> 0.951287\n",
      "7 epoch Dev F1 score: 0.951287 -> 0.95188\n",
      "8 epoch Dev F1 score: 0.95188 -> 0.952095\n",
      "9 epoch Dev F1 score: 0.952095 -> 0.953156\n",
      "13 epoch Dev F1 score: 0.953156 -> 0.953282\n",
      "16 epoch Dev F1 score: 0.953282 -> 0.953964\n",
      "37 epoch Dev F1 score: 0.953964 -> 0.954431\n",
      "60\n"
     ]
    }
   ],
   "source": [
    "model = BiLSTM(num_words, embedding_dim, size_hidden, size_out, num_layers, tag_PAD).to(device)\n",
    "optimizer = optim.Adam(model.parameters(), lr=0.01)\n",
    "\n",
    "num_epoch = 60\n",
    "st = time.time()\n",
    "dict_losses, dict_scores = train_losses_scores(model, optimizer, criterion, datasets, size_batch, num_epoch)\n",
    "print(f'\\t{time.time()-st:5}')"
   ]
  },
  {
   "cell_type": "code",
   "execution_count": 14,
   "id": "continued-candy",
   "metadata": {},
   "outputs": [
    {
     "data": {
      "image/png": "[encoded data removed]",
      "text/plain": [
       "<Figure size 936x936 with 5 Axes>"
      ]
     },
     "metadata": {
      "needs_background": "light"
     },
     "output_type": "display_data"
    }
   ],
   "source": [
    "showGraph(dict_losses, dict_scores)"
   ]
  },
  {
   "cell_type": "code",
   "execution_count": 15,
   "id": "thorough-integrity",
   "metadata": {},
   "outputs": [
    {
     "name": "stdout",
     "output_type": "stream",
     "text": [
      "0.90929   0.8863   0.87523\n",
      "0.96774   0.9339   0.92076\n",
      "0.9869   0.9459   0.93322\n",
      "0.9942   0.9503   0.93704\n",
      "0.99688   0.9506   0.93881\n",
      "0.99825   0.9513   0.9398\n",
      "0.99896   0.9518   0.93997\n",
      "0.99922   0.952   0.93976\n",
      "0.99962   0.9531   0.94139\n",
      "0.99971   0.9526   0.94082\n",
      "0.9997   0.953   0.94039\n",
      "0.99973   0.9527   0.9412\n",
      "0.99974   0.9533   0.94039\n",
      "0.9998   0.9532   0.94022\n",
      "0.99984   0.9527   0.9401\n",
      "0.99982   0.954   0.94041\n",
      "0.99983   0.9523   0.94027\n",
      "0.99986   0.9527   0.94022\n",
      "0.99984   0.9533   0.94046\n",
      "0.99976   0.9534   0.93989\n",
      "0.99979   0.9527   0.94098\n",
      "0.9998   0.9526   0.94101\n",
      "0.99982   0.9526   0.94033\n",
      "0.99983   0.953   0.94113\n",
      "0.99979   0.952   0.94035\n",
      "0.99972   0.9521   0.93894\n",
      "0.99962   0.9525   0.93904\n",
      "0.99974   0.9527   0.93854\n",
      "0.99968   0.953   0.93934\n",
      "0.9998   0.9522   0.93883\n",
      "0.99977   0.9511   0.9393\n",
      "0.99987   0.9515   0.94025\n",
      "0.99983   0.9506   0.94018\n",
      "0.99989   0.9528   0.93987\n",
      "0.99981   0.9529   0.93921\n",
      "0.99991   0.953   0.93955\n",
      "0.99986   0.9545   0.93961\n",
      "0.99986   0.9529   0.93999\n",
      "0.99989   0.9532   0.94037\n",
      "0.99989   0.9532   0.93949\n",
      "0.99987   0.9536   0.93896\n",
      "0.99994   0.9522   0.93925\n",
      "0.99992   0.9514   0.93875\n",
      "0.99982   0.9515   0.93887\n",
      "0.99988   0.9531   0.93921\n",
      "0.99983   0.9527   0.93862\n",
      "0.99982   0.952   0.93841\n",
      "0.99978   0.9517   0.93794\n",
      "0.99975   0.9517   0.9375\n",
      "0.99979   0.9525   0.93731\n",
      "0.99979   0.952   0.93714\n",
      "0.99976   0.9513   0.93763\n",
      "0.99982   0.952   0.93676\n",
      "0.99966   0.9516   0.93786\n",
      "0.99981   0.9514   0.93881\n",
      "0.99974   0.9529   0.93792\n",
      "0.99984   0.9535   0.93856\n",
      "0.99986   0.9529   0.93837\n",
      "0.99977   0.9517   0.93778\n",
      "0.99983   0.9533   0.93936\n"
     ]
    }
   ],
   "source": [
    "score_type=1\n",
    "for i in range(len(dict_scores[\"train\"][score_type])):\n",
    "    print(f'{dict_scores[\"train\"][score_type][i]:<.5}   {dict_scores[\"dev\"][score_type][i]:<05.4}   {dict_scores[\"test\"][score_type][i]:.5}')"
   ]
  },
  {
   "cell_type": "code",
   "execution_count": 21,
   "id": "little-israel",
   "metadata": {},
   "outputs": [
    {
     "name": "stdout",
     "output_type": "stream",
     "text": [
      "words               tags    targets\n",
      "\u001b[0mUnder               IN      IN\u001b[0m\n",
      "\u001b[0mthe                 DT      DT\u001b[0m\n",
      "\u001b[0mexisting            VBG     VBG\u001b[0m\n",
      "\u001b[0mcontract            NN      NN\u001b[0m\n",
      "\u001b[0m,                   ,       ,\u001b[0m\n",
      "\u001b[31mRockwell            NN      NNP\u001b[0m\n",
      "\u001b[0msaid                VBD     VBD\u001b[0m\n",
      "\u001b[0m,                   ,       ,\u001b[0m\n",
      "\u001b[0mit                  PRP     PRP\u001b[0m\n",
      "\u001b[0mhas                 VBZ     VBZ\u001b[0m\n",
      "\u001b[0malready             RB      RB\u001b[0m\n",
      "\u001b[0mdelivered           VBN     VBN\u001b[0m\n",
      "\u001b[31m793                 NNS     CD\u001b[0m\n",
      "\u001b[0mof                  IN      IN\u001b[0m\n",
      "\u001b[0mthe                 DT      DT\u001b[0m\n",
      "\u001b[0mshipsets            NNS     NNS\u001b[0m\n",
      "\u001b[0mto                  TO      TO\u001b[0m\n",
      "\u001b[0mBoeing              NNP     NNP\u001b[0m\n",
      "\u001b[0m.                   .       .\u001b[0m\n"
     ]
    }
   ],
   "source": [
    "testset = datasets['test']\n",
    "for ii in range(len(testset)):\n",
    "    i = 3\n",
    "    input_seq = testset.x_data[i]\n",
    "    target_seq = testset.y_data[i]\n",
    "    calc(model, input_seq, target_seq)\n",
    "    break\n",
    "#     print(target_seq)"
   ]
  },
  {
   "cell_type": "code",
   "execution_count": 17,
   "id": "certified-penalty",
   "metadata": {},
   "outputs": [
    {
     "name": "stdout",
     "output_type": "stream",
     "text": [
      "words               tags\n",
      "I                   PRP\n",
      "am                  VBP\n",
      "your                PRP$\n",
      "father              NN\n",
      ".                   .\n"
     ]
    }
   ],
   "source": [
    "sen = 'I am your father .'\n",
    "in_sen = torch.tensor(engdict.indexesFromSentence(sen), device=device)\n",
    "\n",
    "sen2 = [4609,   25,   35,  116, 4610, 1562,   74,  115, 4611,   49, 4612, 1456,\n",
    "        4613,  224,  691,    6, 4614,   76,   30, 1742, 4615,  308,  107, 4614,\n",
    "         116, 4616, 4617,   17]\n",
    "in_sen2 = torch.tensor(sen2, device=device)\n",
    "\n",
    "calc(model, in_sen)"
   ]
  },
  {
   "cell_type": "code",
   "execution_count": null,
   "id": "korean-figure",
   "metadata": {},
   "outputs": [],
   "source": []
  },
  {
   "cell_type": "code",
   "execution_count": null,
   "id": "forced-neighbor",
   "metadata": {},
   "outputs": [],
   "source": []
  }
 ],
 "metadata": {
  "kernelspec": {
   "display_name": "Python 3",
   "language": "python",
   "name": "python3"
  },
  "language_info": {
   "codemirror_mode": {
    "name": "ipython",
    "version": 3
   },
   "file_extension": ".py",
   "mimetype": "text/x-python",
   "name": "python",
   "nbconvert_exporter": "python",
   "pygments_lexer": "ipython3",
   "version": "3.8.5"
  }
 },
 "nbformat": 4,
 "nbformat_minor": 5
}
