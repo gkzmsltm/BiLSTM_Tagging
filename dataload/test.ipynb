{
 "cells": [
  {
   "cell_type": "code",
   "execution_count": 3,
   "id": "multiple-renewal",
   "metadata": {},
   "outputs": [],
   "source": [
    "import torch"
   ]
  },
  {
   "cell_type": "code",
   "execution_count": 10,
   "id": "close-membrane",
   "metadata": {},
   "outputs": [],
   "source": [
    "a=[[1,1,1],[1,1,1],[1,1,1]]"
   ]
  },
  {
   "cell_type": "code",
   "execution_count": 11,
   "id": "minute-arrival",
   "metadata": {},
   "outputs": [],
   "source": [
    "b=torch.tensor(a)"
   ]
  },
  {
   "cell_type": "code",
   "execution_count": 12,
   "id": "harmful-forwarding",
   "metadata": {},
   "outputs": [
    {
     "data": {
      "text/plain": [
       "tensor([[1, 1, 1],\n",
       "        [1, 1, 1],\n",
       "        [1, 1, 1]])"
      ]
     },
     "execution_count": 12,
     "metadata": {},
     "output_type": "execute_result"
    }
   ],
   "source": [
    "b"
   ]
  },
  {
   "cell_type": "code",
   "execution_count": 4,
   "id": "hollow-brain",
   "metadata": {},
   "outputs": [],
   "source": [
    "a=123456789.21655425362"
   ]
  },
  {
   "cell_type": "code",
   "execution_count": 21,
   "id": "premier-partner",
   "metadata": {},
   "outputs": [
    {
     "data": {
      "text/plain": [
       "'123456789.21655'"
      ]
     },
     "execution_count": 21,
     "metadata": {},
     "output_type": "execute_result"
    }
   ],
   "source": [
    "f'{a:.5f}'"
   ]
  },
  {
   "cell_type": "code",
   "execution_count": null,
   "id": "ethical-assessment",
   "metadata": {},
   "outputs": [],
   "source": []
  }
 ],
 "metadata": {
  "kernelspec": {
   "display_name": "Python 3",
   "language": "python",
   "name": "python3"
  },
  "language_info": {
   "codemirror_mode": {
    "name": "ipython",
    "version": 3
   },
   "file_extension": ".py",
   "mimetype": "text/x-python",
   "name": "python",
   "nbconvert_exporter": "python",
   "pygments_lexer": "ipython3",
   "version": "3.8.5"
  }
 },
 "nbformat": 4,
 "nbformat_minor": 5
}
