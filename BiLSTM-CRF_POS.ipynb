{
 "cells": [
  {
   "cell_type": "code",
   "execution_count": 1,
   "id": "modern-session",
   "metadata": {},
   "outputs": [],
   "source": [
    "%matplotlib inline"
   ]
  },
  {
   "cell_type": "code",
   "execution_count": 2,
   "id": "consecutive-thesaurus",
   "metadata": {},
   "outputs": [],
   "source": [
    "import time\n",
    "import matplotlib.pyplot as plt\n",
    "import torch\n",
    "import torch.nn as nn\n",
    "from torch import optim\n",
    "from torch.utils.data import DataLoader\n",
    "from dataload import lang, localdata\n",
    "from tagger.bilstmcrf import BiLSTMCRF\n",
    "from etc.customUtil import showGraph, showParallel"
   ]
  },
  {
   "cell_type": "code",
   "execution_count": 3,
   "id": "unsigned-newcastle",
   "metadata": {},
   "outputs": [
    {
     "name": "stdout",
     "output_type": "stream",
     "text": [
      "cuda\n"
     ]
    }
   ],
   "source": [
    "device = torch.device(\"cuda\" if torch.cuda.is_available() else \"cpu\")\n",
    "print(device)"
   ]
  },
  {
   "cell_type": "code",
   "execution_count": 4,
   "id": "mounted-attempt",
   "metadata": {},
   "outputs": [
    {
     "name": "stdout",
     "output_type": "stream",
     "text": [
      "21591\n",
      "82\n",
      "46\n",
      "54\n",
      "78\n",
      "4\n",
      "78\n",
      "936\n",
      "2012\n",
      "8000\n"
     ]
    }
   ],
   "source": [
    "tag_PAD = lang.tag_PAD\n",
    "tag_UNK = lang.tag_UNK\n",
    "\n",
    "datasets, engdict, posdict = localdata.load_eng_pos(device)\n",
    "num_words = engdict.n_words\n",
    "num_chars = engdict.n_chars\n",
    "num_poss = posdict.n_words\n",
    "print(num_words)\n",
    "print(num_chars)\n",
    "print(num_poss)\n",
    "# print(MAX_LENGTH)\n",
    "print(engdict.max_len_char)\n",
    "print(engdict.max_len_word)\n",
    "print(posdict.max_len_char)\n",
    "print(posdict.max_len_word)\n",
    "\n",
    "print(len(datasets['dev'].y_data))\n",
    "print(len(datasets['test'].y_data))\n",
    "print(len(datasets['train'].y_data))"
   ]
  },
  {
   "cell_type": "code",
   "execution_count": 5,
   "id": "searching-convenience",
   "metadata": {},
   "outputs": [],
   "source": [
    "def iteration(samples, optimizer):\n",
    "    x_train, y_train = samples\n",
    "\n",
    "    optimizer.zero_grad()\n",
    "\n",
    "    loss = model(x_train, y_train)\n",
    "    \n",
    "    loss.backward()\n",
    "    optimizer.step()\n",
    "\n",
    "    return loss"
   ]
  },
  {
   "cell_type": "code",
   "execution_count": 6,
   "id": "neural-robinson",
   "metadata": {},
   "outputs": [],
   "source": [
    "def epoch(model, optimizer, dataloader):\n",
    "    model.train()\n",
    "    list_loss = []\n",
    "    for batch_idx, samples in enumerate(dataloader):\n",
    "        loss = iteration(samples, optimizer)\n",
    "        list_loss.append(loss.item())\n",
    "    return list_loss"
   ]
  },
  {
   "cell_type": "code",
   "execution_count": 7,
   "id": "generic-defensive",
   "metadata": {},
   "outputs": [],
   "source": [
    "def evaluate(model, dataloader):\n",
    "    model.eval()\n",
    "    total_loss = 0\n",
    "    for batch_idx, samples in enumerate(dataloader):\n",
    "        x_train, y_train = samples\n",
    "\n",
    "        loss = model(x_train, y_train, lossmode=True)\n",
    "        \n",
    "        total_loss += loss.item()\n",
    "\n",
    "        # if batch_idx % 100 == 0:\n",
    "            # print(batch_idx, loss.item())\n",
    "            \n",
    "    # print(batch_idx, loss.item())\n",
    "    return total_loss / (batch_idx+1)"
   ]
  },
  {
   "cell_type": "code",
   "execution_count": 8,
   "id": "impressive-chair",
   "metadata": {},
   "outputs": [],
   "source": [
    "def scores(model, dataset, batch_size):\n",
    "    model.eval()\n",
    "    dataloader = DataLoader(dataset, batch_size=batch_size, shuffle=True)\n",
    "    \n",
    "    num_samples = len(dataset)\n",
    "    cnt_corr_samples = 0\n",
    "    total_words = 0\n",
    "    cnt_corr_words = 0\n",
    "    c = posdict.n_words\n",
    "    table = torch.zeros(c,c)\n",
    "    \n",
    "    for batch_idx, samples in enumerate(dataloader):\n",
    "        x_train, y_train = samples\n",
    "        \n",
    "        tagged = model(x_train, lossmode=False)\n",
    "        tagged = torch.tensor(tagged, device=device)\n",
    "        \n",
    "        for i in range(x_train.size(0)):\n",
    "            l = y_train[i].tolist()\n",
    "            if tag_PAD in l:\n",
    "                seq_len = l.index(tag_PAD)\n",
    "            else:\n",
    "                seq_len = len(l)\n",
    "            \n",
    "            _y = y_train[i,:seq_len]\n",
    "            _p = tagged[i,:seq_len]\n",
    "            d = _p!=_y\n",
    "            cnt_wrong = _p[d].size()[0]\n",
    "            \n",
    "            # score1_acc_sample\n",
    "            if cnt_wrong == 0:\n",
    "                cnt_corr_samples +=1\n",
    "                \n",
    "            # score2_acc_word\n",
    "            total_words += seq_len\n",
    "            cnt_corr_words += seq_len - cnt_wrong\n",
    "            \n",
    "            # score3_f1\n",
    "            for j in range(seq_len):\n",
    "                table[_y[j],_p[j]] += 1\n",
    "\n",
    "    tp = torch.tensor([table[i,i] for i in range(c)])[2:]\n",
    "    d0sum = table[2:,2:].sum(dim=0)\n",
    "    d1sum = table[2:,2:].sum(dim=1)\n",
    "    allsum = d1sum.sum()\n",
    "    \n",
    "    pr = tp / d0sum\n",
    "    temp = pr != pr\n",
    "    pr[temp] = 0\n",
    "    \n",
    "    re = tp / d1sum\n",
    "    temp = re != re\n",
    "    re[temp] = 0\n",
    "    \n",
    "    f1 = 2 * pr * re / (pr + re)\n",
    "    temp = f1 != f1\n",
    "    f1[temp] = 0\n",
    "    \n",
    "    avg_f1 = (f1 * d1sum).sum() / allsum\n",
    "  \n",
    "    return (cnt_corr_samples / num_samples,\n",
    "            cnt_corr_words / total_words,\n",
    "            avg_f1.item())"
   ]
  },
  {
   "cell_type": "code",
   "execution_count": 9,
   "id": "further-spectrum",
   "metadata": {},
   "outputs": [],
   "source": [
    "def train_losses_scores(model, optimizer, datasets, batch_size, num_epoch):\n",
    "\n",
    "    dict_losses={'train': [],\n",
    "                 'dev': [],\n",
    "                 'test': []}\n",
    "    \n",
    "    dict_scores={'train': [[],[],[]],\n",
    "                 'dev': [[],[],[]],\n",
    "                 'test': [[],[],[]]}\n",
    "    best_dev_f1 = 0.0\n",
    "    for epoch_i in range(1,num_epoch+1):\n",
    "        dataloader = DataLoader(datasets['train'], batch_size=batch_size, shuffle=True)\n",
    "        dataloader_dev = DataLoader(datasets['dev'], batch_size=len(datasets['dev']), shuffle=True)\n",
    "        dataloader_test = DataLoader(datasets['test'], batch_size=len(datasets['test']), shuffle=True)\n",
    "        print(f'\\r{epoch_i}', end='')\n",
    "        temp = epoch(model, optimizer, dataloader)\n",
    "        dict_losses['train'].extend(temp)\n",
    "        dict_losses['dev'].append(evaluate(model, dataloader_dev))\n",
    "        dict_losses['test'].append(evaluate(model, dataloader_test))\n",
    "\n",
    "        s_train = scores(model, datasets['train'], 100)\n",
    "        s_dev = scores(model, datasets['dev'], 100)\n",
    "        s_test = scores(model, datasets['test'], 100)\n",
    "        \n",
    "        dict_scores['train'][0].append(s_train[0])\n",
    "        dict_scores['train'][1].append(s_train[1])\n",
    "        dict_scores['train'][2].append(s_train[2])\n",
    "        dict_scores['dev'][0].append(s_dev[0])\n",
    "        dict_scores['dev'][1].append(s_dev[1])\n",
    "        dict_scores['dev'][2].append(s_dev[2])\n",
    "        dict_scores['test'][0].append(s_test[0])\n",
    "        dict_scores['test'][1].append(s_test[1])\n",
    "        dict_scores['test'][2].append(s_test[2])\n",
    "        \n",
    "        if s_dev[2] > best_dev_f1:\n",
    "            print(f' epoch Dev F1 score: {best_dev_f1:.6} -> {s_dev[2]:.6}')\n",
    "            best_dev_f1 = s_dev[2]\n",
    "            torch.save(model, 'best_bilstm_crf_pos.pt')\n",
    "    print()\n",
    "    return dict_losses, dict_scores"
   ]
  },
  {
   "cell_type": "code",
   "execution_count": 10,
   "id": "international-catalyst",
   "metadata": {},
   "outputs": [],
   "source": [
    "def pos_tagging(model, input_seq):\n",
    "    model.eval()\n",
    "    o = model(input_seq, lossmode=False)\n",
    "#     print(o)\n",
    "#     __tagged, tagged = torch.max(o, dim=-1)\n",
    "    return o"
   ]
  },
  {
   "cell_type": "code",
   "execution_count": 11,
   "id": "imposed-parade",
   "metadata": {},
   "outputs": [],
   "source": [
    "def calc(model, input_seq, target_seq=None):\n",
    "    input_list = engdict.sentenceFromIndexes(input_seq.tolist())\n",
    "#     print(input_list)\n",
    "    # print(sentenceFromIndexes(posdict, target_seq.tolist()))\n",
    "    output_list = posdict.sentenceFromIndexes(pos_tagging(model, input_seq.unsqueeze(0))[0])\n",
    "    \n",
    "    target_list = None\n",
    "    if target_seq is not None:\n",
    "        target_list = posdict.sentenceFromIndexes(target_seq.tolist())\n",
    "\n",
    "#     print(output_list)\n",
    "    showParallel(input_list, output_list, target_list)"
   ]
  },
  {
   "cell_type": "code",
   "execution_count": 12,
   "id": "norman-burst",
   "metadata": {},
   "outputs": [],
   "source": [
    "embedding_dim = 100\n",
    "size_hidden = 50\n",
    "num_layers = 1\n",
    "size_out = num_poss\n",
    "size_batch = 100\n",
    "# criterion  = nn.CrossEntropyLoss().to(device)\n",
    "# criterion  = nn.CrossEntropyLoss(ignore_index=tag_PAD).to(device)"
   ]
  },
  {
   "cell_type": "code",
   "execution_count": 13,
   "id": "southwest-uruguay",
   "metadata": {},
   "outputs": [
    {
     "name": "stdout",
     "output_type": "stream",
     "text": [
      "1 epoch Dev F1 score: 0.0 -> 0.897873\n",
      "2 epoch Dev F1 score: 0.897873 -> 0.939689\n",
      "3 epoch Dev F1 score: 0.939689 -> 0.951081\n",
      "4 epoch Dev F1 score: 0.951081 -> 0.952788\n",
      "5 epoch Dev F1 score: 0.952788 -> 0.954985\n",
      "8 epoch Dev F1 score: 0.954985 -> 0.955692\n",
      "10 epoch Dev F1 score: 0.955692 -> 0.95631\n",
      "11 epoch Dev F1 score: 0.95631 -> 0.956657\n",
      "12 epoch Dev F1 score: 0.956657 -> 0.957004\n",
      "13 epoch Dev F1 score: 0.957004 -> 0.957021\n",
      "60\n",
      "\t6378.414083957672\n"
     ]
    }
   ],
   "source": [
    "model = BiLSTMCRF(num_words, embedding_dim, size_hidden, size_out, num_layers, tag_PAD).to(device)\n",
    "optimizer = optim.Adam(model.parameters(), lr=0.01)\n",
    "\n",
    "num_epoch = 60\n",
    "st = time.time()\n",
    "dict_losses, dict_scores = train_losses_scores(model, optimizer, datasets, size_batch, num_epoch)\n",
    "print(f'\\t{time.time()-st:5}')"
   ]
  },
  {
   "cell_type": "code",
   "execution_count": 14,
   "id": "monthly-contribution",
   "metadata": {},
   "outputs": [
    {
     "data": {
      "image/png": "[encoded data removed]",
      "text/plain": [
       "<Figure size 936x936 with 5 Axes>"
      ]
     },
     "metadata": {
      "needs_background": "light"
     },
     "output_type": "display_data"
    }
   ],
   "source": [
    "showGraph(dict_losses, dict_scores)"
   ]
  },
  {
   "cell_type": "code",
   "execution_count": 15,
   "id": "blessed-confirmation",
   "metadata": {},
   "outputs": [
    {
     "name": "stdout",
     "output_type": "stream",
     "text": [
      "0.91729   0.8993   0.88321\n",
      "0.97224   0.9399   0.92418\n",
      "0.98866   0.9511   0.93558\n",
      "0.99495   0.9529   0.93904\n",
      "0.99749   0.9551   0.9402\n",
      "0.99853   0.955   0.94109\n",
      "0.99884   0.9546   0.94065\n",
      "0.99946   0.9557   0.9409\n",
      "0.99958   0.9556   0.94151\n",
      "0.9997   0.9563   0.942\n",
      "0.99983   0.9567   0.9416\n",
      "0.99987   0.957   0.94153\n",
      "0.99991   0.957   0.94198\n",
      "0.9999   0.9566   0.94153\n",
      "0.99994   0.9566   0.9421\n",
      "0.99993   0.9565   0.94105\n",
      "0.99982   0.9562   0.94103\n",
      "0.99993   0.9565   0.94096\n",
      "0.99997   0.957   0.94058\n",
      "0.99988   0.9559   0.94075\n",
      "0.99989   0.957   0.94141\n",
      "0.99985   0.9562   0.94052\n",
      "0.99984   0.9565   0.94107\n",
      "0.99975   0.9555   0.93987\n",
      "0.99979   0.956   0.94151\n",
      "0.99988   0.9559   0.94006\n",
      "0.99979   0.956   0.94058\n",
      "0.99986   0.9556   0.94035\n",
      "0.99988   0.954   0.93974\n",
      "0.99987   0.9556   0.94048\n",
      "0.9999   0.9558   0.94035\n",
      "0.99993   0.9547   0.94001\n",
      "0.99989   0.9557   0.94006\n",
      "0.99991   0.9554   0.93961\n",
      "0.99991   0.956   0.93978\n",
      "0.99993   0.9561   0.93976\n",
      "0.99994   0.9559   0.93942\n",
      "0.99992   0.9564   0.93942\n",
      "0.99989   0.9551   0.93999\n",
      "0.99985   0.9548   0.93972\n",
      "0.99983   0.9539   0.93921\n",
      "0.99995   0.9546   0.9402\n",
      "0.99994   0.9538   0.94037\n",
      "0.99993   0.9533   0.93984\n",
      "0.99987   0.9536   0.93963\n",
      "0.99993   0.9541   0.93961\n",
      "0.99986   0.954   0.93999\n",
      "0.99992   0.9533   0.93885\n",
      "0.99992   0.9536   0.94016\n",
      "0.99993   0.954   0.93961\n",
      "0.9999   0.9544   0.94001\n",
      "0.99995   0.9551   0.93972\n",
      "0.99994   0.9564   0.94039\n",
      "0.99993   0.9552   0.93972\n",
      "0.99989   0.9544   0.93936\n",
      "0.99994   0.9544   0.94029\n",
      "0.9999   0.9543   0.93904\n",
      "0.99988   0.9532   0.93866\n",
      "0.99987   0.9541   0.93934\n",
      "0.99985   0.9545   0.93881\n"
     ]
    }
   ],
   "source": [
    "score_type=1\n",
    "for i in range(len(dict_scores[\"train\"][score_type])):\n",
    "    print(f'{dict_scores[\"train\"][score_type][i]:<.5}   {dict_scores[\"dev\"][score_type][i]:<05.4}   {dict_scores[\"test\"][score_type][i]:.5}')"
   ]
  },
  {
   "cell_type": "code",
   "execution_count": 20,
   "id": "atomic-india",
   "metadata": {},
   "outputs": [
    {
     "name": "stdout",
     "output_type": "stream",
     "text": [
      "words               tags    targets\n",
      "\u001b[0mRockwell            NNP     NNP\u001b[0m\n",
      "\u001b[0mInternational       NNP     NNP\u001b[0m\n",
      "\u001b[0mCorp.               NNP     NNP\u001b[0m\n",
      "\u001b[0m's                  POS     POS\u001b[0m\n",
      "\u001b[0mTulsa               NNP     NNP\u001b[0m\n",
      "\u001b[0munit                NN      NN\u001b[0m\n",
      "\u001b[0msaid                VBD     VBD\u001b[0m\n",
      "\u001b[0mit                  PRP     PRP\u001b[0m\n",
      "\u001b[0msigned              VBD     VBD\u001b[0m\n",
      "\u001b[0ma                   DT      DT\u001b[0m\n",
      "\u001b[0mtentative           JJ      JJ\u001b[0m\n",
      "\u001b[0magreement           NN      NN\u001b[0m\n",
      "\u001b[31mextending           VBZ     VBG\u001b[0m\n",
      "\u001b[0mits                 PRP$    PRP$\u001b[0m\n",
      "\u001b[0mcontract            NN      NN\u001b[0m\n",
      "\u001b[0mwith                IN      IN\u001b[0m\n",
      "\u001b[0mBoeing              NNP     NNP\u001b[0m\n",
      "\u001b[0mCo.                 NNP     NNP\u001b[0m\n",
      "\u001b[0mto                  TO      TO\u001b[0m\n",
      "\u001b[0mprovide             VB      VB\u001b[0m\n",
      "\u001b[0mstructural          JJ      JJ\u001b[0m\n",
      "\u001b[0mparts               NNS     NNS\u001b[0m\n",
      "\u001b[0mfor                 IN      IN\u001b[0m\n",
      "\u001b[0mBoeing              NNP     NNP\u001b[0m\n",
      "\u001b[0m's                  POS     POS\u001b[0m\n",
      "\u001b[0m747                 CD      CD\u001b[0m\n",
      "\u001b[31mjetliners           NN      NNS\u001b[0m\n",
      "\u001b[0m.                   .       .\u001b[0m\n"
     ]
    }
   ],
   "source": [
    "testset = datasets['test']\n",
    "for ii in range(len(testset)):\n",
    "    i = 0\n",
    "    input_seq = testset.x_data[i]\n",
    "    target_seq = testset.y_data[i]\n",
    "    calc(model, input_seq, target_seq)\n",
    "    break\n",
    "#     print(target_seq)"
   ]
  },
  {
   "cell_type": "code",
   "execution_count": 17,
   "id": "hollow-offset",
   "metadata": {},
   "outputs": [
    {
     "name": "stdout",
     "output_type": "stream",
     "text": [
      "words               tags\n",
      "I                   PRP\n",
      "am                  VBP\n",
      "your                PRP$\n",
      "father              NN\n",
      ".                   .\n"
     ]
    }
   ],
   "source": [
    "sen = 'I am your father .'\n",
    "in_sen = torch.tensor(engdict.indexesFromSentence(sen), device=device)\n",
    "\n",
    "sen2 = [4609,   25,   35,  116, 4610, 1562,   74,  115, 4611,   49, 4612, 1456,\n",
    "        4613,  224,  691,    6, 4614,   76,   30, 1742, 4615,  308,  107, 4614,\n",
    "         116, 4616, 4617,   17]\n",
    "in_sen2 = torch.tensor(sen2, device=device)\n",
    "\n",
    "calc(model, in_sen)"
   ]
  },
  {
   "cell_type": "code",
   "execution_count": null,
   "id": "overhead-reconstruction",
   "metadata": {},
   "outputs": [],
   "source": []
  },
  {
   "cell_type": "code",
   "execution_count": 18,
   "id": "destroyed-feature",
   "metadata": {},
   "outputs": [
    {
     "name": "stdout",
     "output_type": "stream",
     "text": [
      "(0.44764957264957267, 0.9570488081725312, 0.9570211172103882)\n",
      "(0.34542743538767395, 0.9419760643350149, 0.9418697953224182)\n"
     ]
    }
   ],
   "source": [
    "best_model = torch.load('best_bilstm_crf_pos.pt')\n",
    "s_dev = scores(best_model, datasets['dev'], 100)\n",
    "s_test = scores(best_model, datasets['test'], 100)\n",
    "print(s_dev)\n",
    "print(s_test)"
   ]
  },
  {
   "cell_type": "code",
   "execution_count": null,
   "id": "specified-batman",
   "metadata": {},
   "outputs": [],
   "source": []
  }
 ],
 "metadata": {
  "kernelspec": {
   "display_name": "Python 3",
   "language": "python",
   "name": "python3"
  },
  "language_info": {
   "codemirror_mode": {
    "name": "ipython",
    "version": 3
   },
   "file_extension": ".py",
   "mimetype": "text/x-python",
   "name": "python",
   "nbconvert_exporter": "python",
   "pygments_lexer": "ipython3",
   "version": "3.8.5"
  }
 },
 "nbformat": 4,
 "nbformat_minor": 5
}
