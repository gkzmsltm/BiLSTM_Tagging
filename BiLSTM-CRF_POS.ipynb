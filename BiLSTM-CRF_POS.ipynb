{
 "cells": [
  {
   "cell_type": "code",
   "execution_count": 1,
   "id": "missing-uzbekistan",
   "metadata": {},
   "outputs": [],
   "source": [
    "%matplotlib inline"
   ]
  },
  {
   "cell_type": "code",
   "execution_count": 2,
   "id": "postal-certification",
   "metadata": {},
   "outputs": [],
   "source": [
    "import time\n",
    "import matplotlib.pyplot as plt \n",
    "import torch\n",
    "import torch.nn as nn\n",
    "from torch import optim\n",
    "from torch.utils.data import DataLoader\n",
    "from dataload import lang, localdata\n",
    "from tagger.bilstmcrf import BiLSTMCRF"
   ]
  },
  {
   "cell_type": "code",
   "execution_count": 3,
   "id": "burning-coalition",
   "metadata": {},
   "outputs": [
    {
     "name": "stdout",
     "output_type": "stream",
     "text": [
      "cuda\n"
     ]
    }
   ],
   "source": [
    "device = torch.device(\"cuda\" if torch.cuda.is_available() else \"cpu\")\n",
    "print(device)"
   ]
  },
  {
   "cell_type": "code",
   "execution_count": 4,
   "id": "talented-pacific",
   "metadata": {},
   "outputs": [
    {
     "name": "stdout",
     "output_type": "stream",
     "text": [
      "21591\n",
      "46\n",
      "78\n",
      "936\n",
      "2012\n",
      "8000\n"
     ]
    }
   ],
   "source": [
    "tag_PAD = lang.tag_PAD\n",
    "tag_UNK = lang.tag_UNK\n",
    "\n",
    "datasets, engdict, posdict, MAX_LENGTH = localdata.load_eng_pos(device)\n",
    "num_words = engdict.n_words\n",
    "num_poss = posdict.n_words\n",
    "print(num_words)\n",
    "print(num_poss)\n",
    "print(MAX_LENGTH)\n",
    "print(len(datasets['dev'].y_data))\n",
    "print(len(datasets['test'].y_data)) \n",
    "print(len(datasets['train'].y_data))"
   ]
  },
  {
   "cell_type": "code",
   "execution_count": 5,
   "id": "wired-brighton",
   "metadata": {},
   "outputs": [],
   "source": [
    "def iteration(samples, optimizer):\n",
    "    x_train, y_train = samples\n",
    "\n",
    "    optimizer.zero_grad()\n",
    "\n",
    "    loss = model(x_train, y_train)\n",
    "    \n",
    "    loss.backward()\n",
    "    optimizer.step()\n",
    "\n",
    "    return loss"
   ]
  },
  {
   "cell_type": "code",
   "execution_count": 6,
   "id": "selective-assignment",
   "metadata": {},
   "outputs": [],
   "source": [
    "def epoch(model, optimizer, dataloader):\n",
    "    model.train()\n",
    "    list_loss = []\n",
    "    for batch_idx, samples in enumerate(dataloader):\n",
    "        loss = iteration(samples, optimizer)\n",
    "        list_loss.append(loss.item())\n",
    "    return list_loss"
   ]
  },
  {
   "cell_type": "code",
   "execution_count": 7,
   "id": "after-closer",
   "metadata": {},
   "outputs": [],
   "source": [
    "def evaluate(model, dataloader):\n",
    "    model.eval()\n",
    "    total_loss = 0\n",
    "    for batch_idx, samples in enumerate(dataloader):\n",
    "        x_train, y_train = samples\n",
    "\n",
    "        loss = model(x_train, y_train, lossmode=True)\n",
    "        \n",
    "        total_loss += loss.item()\n",
    "\n",
    "        # if batch_idx % 100 == 0:\n",
    "            # print(batch_idx, loss.item())\n",
    "            \n",
    "    # print(batch_idx, loss.item())\n",
    "    return total_loss / (batch_idx+1)"
   ]
  },
  {
   "cell_type": "code",
   "execution_count": 8,
   "id": "postal-microphone",
   "metadata": {},
   "outputs": [],
   "source": [
    "def scores(model, dataset, batch_size):\n",
    "    model.eval()\n",
    "    dataloader = DataLoader(dataset, batch_size=batch_size, shuffle=True)\n",
    "    \n",
    "    num_samples = len(dataset)\n",
    "    cnt_corr_samples = 0\n",
    "    total_words = 0\n",
    "    cnt_corr_words = 0\n",
    "    c = posdict.n_words\n",
    "    table = torch.zeros(c,c)\n",
    "    \n",
    "    for batch_idx, samples in enumerate(dataloader):\n",
    "        x_train, y_train = samples\n",
    "        \n",
    "        tagged = model(x_train, lossmode=False)\n",
    "        tagged = torch.tensor(tagged, device=device)\n",
    "        \n",
    "        for i in range(x_train.size(0)):\n",
    "            l = y_train[i].tolist()\n",
    "            if tag_PAD in l:\n",
    "                seq_len = l.index(tag_PAD)\n",
    "            else:\n",
    "                seq_len = len(l)\n",
    "            \n",
    "            _y = y_train[i,:seq_len]\n",
    "            _p = tagged[i,:seq_len]\n",
    "            d = _p!=_y\n",
    "            cnt_wrong = _p[d].size()[0]\n",
    "            \n",
    "            # score1_acc_sample\n",
    "            if cnt_wrong == 0:\n",
    "                cnt_corr_samples +=1\n",
    "                \n",
    "            # score2_acc_word\n",
    "            total_words += seq_len\n",
    "            cnt_corr_words += seq_len - cnt_wrong\n",
    "            \n",
    "            # score3_f1\n",
    "            for j in range(seq_len):\n",
    "                table[_y[j],_p[j]] += 1\n",
    "\n",
    "    tp = torch.tensor([table[i,i] for i in range(c)])[2:]\n",
    "    d0sum = table[2:,2:].sum(dim=0)\n",
    "    d1sum = table[2:,2:].sum(dim=1)\n",
    "    allsum = d1sum.sum()\n",
    "    \n",
    "    pr = tp / d0sum\n",
    "    temp = pr != pr\n",
    "    pr[temp] = 0\n",
    "    \n",
    "    re = tp / d1sum\n",
    "    temp = re != re\n",
    "    re[temp] = 0\n",
    "    \n",
    "    f1 = 2 * pr * re / (pr + re)\n",
    "    temp = f1 != f1\n",
    "    f1[temp] = 0\n",
    "    \n",
    "    avg_f1 = (f1 * d1sum).sum() / allsum\n",
    "  \n",
    "    return (cnt_corr_samples / num_samples,\n",
    "            cnt_corr_words / total_words,\n",
    "            avg_f1.item())"
   ]
  },
  {
   "cell_type": "code",
   "execution_count": 9,
   "id": "divided-sociology",
   "metadata": {},
   "outputs": [],
   "source": [
    "def train_losses_scores(model, optimizer, datasets, batch_size, num_epoch):\n",
    "\n",
    "    dict_losses={'train': [],\n",
    "                 'dev': [],\n",
    "                 'test': []}\n",
    "    \n",
    "    dict_scores={'train': [[],[],[]],\n",
    "                 'dev': [[],[],[]],\n",
    "                 'test': [[],[],[]]}\n",
    "    \n",
    "    for epoch_i in range(num_epoch):\n",
    "        dataloader = DataLoader(datasets['train'], batch_size=batch_size, shuffle=True)\n",
    "        dataloader_dev = DataLoader(datasets['dev'], batch_size=len(datasets['dev']), shuffle=True)\n",
    "        dataloader_test = DataLoader(datasets['test'], batch_size=len(datasets['test']), shuffle=True)\n",
    "        print(f'\\r{epoch_i}', end='')\n",
    "        temp = epoch(model, optimizer, dataloader)\n",
    "        dict_losses['train'].extend(temp)\n",
    "        dict_losses['dev'].append(evaluate(model, dataloader_dev))\n",
    "        dict_losses['test'].append(evaluate(model, dataloader_test))\n",
    "\n",
    "        s_train = scores(model, datasets['train'], 100)\n",
    "        s_dev = scores(model, datasets['dev'], 100)\n",
    "        s_test = scores(model, datasets['test'], 100)\n",
    "        \n",
    "        dict_scores['train'][0].append(s_train[0])\n",
    "        dict_scores['train'][1].append(s_train[1])\n",
    "        dict_scores['train'][2].append(s_train[2])\n",
    "        dict_scores['dev'][0].append(s_dev[0])\n",
    "        dict_scores['dev'][1].append(s_dev[1])\n",
    "        dict_scores['dev'][2].append(s_dev[2])\n",
    "        dict_scores['test'][0].append(s_test[0])\n",
    "        dict_scores['test'][1].append(s_test[1])\n",
    "        dict_scores['test'][2].append(s_test[2])\n",
    "\n",
    "    print()\n",
    "    return dict_losses, dict_scores"
   ]
  },
  {
   "cell_type": "code",
   "execution_count": 10,
   "id": "median-piece",
   "metadata": {},
   "outputs": [],
   "source": [
    "def showParallel(words, tags, targets=None):\n",
    "    if '<PAD>' in words:\n",
    "        length = words.index('<PAD>')\n",
    "    else:\n",
    "        lengths = [len(words),len(tags)]        \n",
    "        if targets is not None:\n",
    "            lengths.append(len(targets))\n",
    "        length = min(lengths)\n",
    "    \n",
    "    if targets is not None:\n",
    "        print(f'{\"words\":20}{\"tags\":8}targets')\n",
    "        for i in range(length):\n",
    "            color = 31 if tags[i] != targets[i] else 0\n",
    "            print(f'\\033[{color}m{words[i]:20}{tags[i]:8}{targets[i]}\\033[0m')\n",
    "    else:\n",
    "        print(f'{\"words\":20}tags')\n",
    "        for i in range(length):\n",
    "            print(f'{words[i]:20}{tags[i]}')"
   ]
  },
  {
   "cell_type": "code",
   "execution_count": 11,
   "id": "suited-reservoir",
   "metadata": {},
   "outputs": [],
   "source": [
    "def pos_tagging(model, input_seq):\n",
    "    model.eval()\n",
    "    o = model(input_seq, lossmode=False)\n",
    "#     print(o)\n",
    "#     __tagged, tagged = torch.max(o, dim=-1)\n",
    "    return o"
   ]
  },
  {
   "cell_type": "code",
   "execution_count": 12,
   "id": "convertible-azerbaijan",
   "metadata": {},
   "outputs": [],
   "source": [
    "def showGraph(dict_losses, dict_scores):\n",
    "    plt.figure(figsize=(13,13))\n",
    "\n",
    "    plt.subplot(421)\n",
    "    plt.title('Loss')\n",
    "    plt.plot(range(len(dict_losses['train'])), dict_losses['train'], label='train')\n",
    "    plt.xlabel('Iteration')\n",
    "    plt.ylabel('Train Loss')\n",
    "    plt.legend()\n",
    "    plt.subplot(423)\n",
    "    plt.plot(range(1,num_epoch+1), dict_losses['dev'], label='dev')\n",
    "    plt.plot(range(1,num_epoch+1), dict_losses['test'], label='test')\n",
    "    plt.xlabel('Epoch')\n",
    "    plt.ylabel('Dev, Test Loss')\n",
    "    plt.legend()\n",
    "\n",
    "    plt.subplot(222)\n",
    "    plt.plot(range(1,num_epoch+1), dict_scores['train'][0], label='train')\n",
    "    plt.plot(range(1,num_epoch+1), dict_scores['dev'][0], label='dev')\n",
    "    plt.plot(range(1,num_epoch+1), dict_scores['test'][0], label='test')\n",
    "    plt.legend()\n",
    "    plt.title('score1_acc_sample')\n",
    "    plt.xlabel('Epoch')\n",
    "    plt.ylabel('Accuracy')\n",
    "\n",
    "    plt.subplot(223)\n",
    "    plt.plot(range(1,num_epoch+1), dict_scores['train'][1], label='train')\n",
    "    plt.plot(range(1,num_epoch+1), dict_scores['dev'][1], label='dev')\n",
    "    plt.plot(range(1,num_epoch+1), dict_scores['test'][1], label='test')\n",
    "    plt.legend()\n",
    "    plt.title('score2_acc_word')\n",
    "    plt.xlabel('Epoch')\n",
    "    plt.ylabel('Accuracy')\n",
    "\n",
    "    plt.subplot(224)\n",
    "    plt.plot(range(1,num_epoch+1), dict_scores['train'][2], label='train')\n",
    "    plt.plot(range(1,num_epoch+1), dict_scores['dev'][2], label='dev')\n",
    "    plt.plot(range(1,num_epoch+1), dict_scores['test'][2], label='test')\n",
    "    plt.legend()\n",
    "    plt.title('score3_f1')\n",
    "    plt.xlabel('Epoch')\n",
    "    plt.ylabel('Avg F1 Score')\n",
    "\n",
    "    plt.show()"
   ]
  },
  {
   "cell_type": "code",
   "execution_count": 13,
   "id": "outdoor-fundamentals",
   "metadata": {},
   "outputs": [],
   "source": [
    "def calc(model, input_seq, target_seq=None):\n",
    "    input_list = engdict.sentenceFromIndexes(input_seq.tolist())\n",
    "#     print(input_list)\n",
    "    # print(sentenceFromIndexes(posdict, target_seq.tolist()))\n",
    "    output_list = posdict.sentenceFromIndexes(pos_tagging(model, input_seq.unsqueeze(0))[0])\n",
    "    \n",
    "    target_list = None\n",
    "    if target_seq is not None:\n",
    "        target_list = posdict.sentenceFromIndexes(target_seq.tolist())\n",
    "\n",
    "#     print(output_list)\n",
    "    showParallel(input_list, output_list, target_list)"
   ]
  },
  {
   "cell_type": "code",
   "execution_count": 14,
   "id": "hollywood-forth",
   "metadata": {},
   "outputs": [],
   "source": [
    "embedding_dim = 100\n",
    "size_hidden = 100\n",
    "num_layers = 2\n",
    "size_out = num_poss\n",
    "size_batch = 100\n",
    "# criterion  = nn.CrossEntropyLoss().to(device)\n",
    "# criterion  = nn.CrossEntropyLoss(ignore_index=tag_PAD).to(device)"
   ]
  },
  {
   "cell_type": "code",
   "execution_count": 15,
   "id": "guilty-syria",
   "metadata": {},
   "outputs": [
    {
     "name": "stdout",
     "output_type": "stream",
     "text": [
      "9\n",
      "\t898.9514563083649\n"
     ]
    }
   ],
   "source": [
    "model = BiLSTMCRF(num_words, embedding_dim, size_hidden, size_out, num_layers, tag_PAD).to(device)\n",
    "optimizer = optim.Adam(model.parameters(), lr=0.01)\n",
    "\n",
    "num_epoch = 10\n",
    "st = time.time()\n",
    "dict_losses, dict_scores = train_losses_scores(model, optimizer, datasets, size_batch, num_epoch)\n",
    "print(f'\\t{time.time()-st:5}')"
   ]
  },
  {
   "cell_type": "code",
   "execution_count": 16,
   "id": "medium-compression",
   "metadata": {},
   "outputs": [
    {
     "data": {
      "image/png": "[encoded data removed]",
      "text/plain": [
       "<Figure size 936x936 with 5 Axes>"
      ]
     },
     "metadata": {
      "needs_background": "light"
     },
     "output_type": "display_data"
    }
   ],
   "source": [
    "showGraph(dict_losses, dict_scores)"
   ]
  },
  {
   "cell_type": "code",
   "execution_count": 20,
   "id": "joint-change",
   "metadata": {},
   "outputs": [
    {
     "name": "stdout",
     "output_type": "stream",
     "text": [
      "0.93744   0.9102   0.89915\n",
      "0.98526   0.9427   0.93064\n",
      "0.99584   0.9494   0.93687\n",
      "0.99872   0.9514   0.93832\n",
      "0.99939   0.9536   0.93913\n",
      "0.99982   0.9526   0.93953\n",
      "0.9999   0.9537   0.94082\n",
      "0.99996   0.9543   0.94103\n",
      "1.0   0.9534   0.94077\n",
      "1.0   0.9539   0.94141\n"
     ]
    }
   ],
   "source": [
    "score_type=1\n",
    "for i in range(len(dict_scores[\"train\"][score_type])):\n",
    "    print(f'{dict_scores[\"train\"][score_type][i]:<.5}   {dict_scores[\"dev\"][score_type][i]:<05.4}   {dict_scores[\"test\"][score_type][i]:.5}')"
   ]
  },
  {
   "cell_type": "code",
   "execution_count": 18,
   "id": "protecting-seminar",
   "metadata": {},
   "outputs": [
    {
     "name": "stdout",
     "output_type": "stream",
     "text": [
      "words               tags    targets\n",
      "\u001b[0mMr.                 NNP     NNP\u001b[0m\n",
      "\u001b[0mSanford             NNP     NNP\u001b[0m\n",
      "\u001b[0mwas                 VBD     VBD\u001b[0m\n",
      "\u001b[0mtold                VBN     VBN\u001b[0m\n",
      "\u001b[0mMr.                 NNP     NNP\u001b[0m\n",
      "\u001b[0mNoriega             NNP     NNP\u001b[0m\n",
      "\u001b[0m's                  POS     POS\u001b[0m\n",
      "\u001b[0mfriend              NN      NN\u001b[0m\n",
      "\u001b[0m,                   ,       ,\u001b[0m\n",
      "\u001b[0mMr.                 NNP     NNP\u001b[0m\n",
      "\u001b[0mWittgreen           NNP     NNP\u001b[0m\n",
      "\u001b[0m,                   ,       ,\u001b[0m\n",
      "\u001b[0mwould               MD      MD\u001b[0m\n",
      "\u001b[0mbe                  VB      VB\u001b[0m\n",
      "\u001b[0mhandling            VBG     VBG\u001b[0m\n",
      "\u001b[0mthe                 DT      DT\u001b[0m\n",
      "\u001b[0mshah                NN      NN\u001b[0m\n",
      "\u001b[0m's                  POS     POS\u001b[0m\n",
      "\u001b[0msecurity            NN      NN\u001b[0m\n",
      "\u001b[0m.                   .       .\u001b[0m\n"
     ]
    }
   ],
   "source": [
    "testset = datasets['test']\n",
    "for ii in range(len(testset)):\n",
    "    i = 256\n",
    "    input_seq = testset.x_data[i]\n",
    "    target_seq = testset.y_data[i]\n",
    "    calc(model, input_seq, target_seq)\n",
    "    break\n",
    "#     print(target_seq)"
   ]
  },
  {
   "cell_type": "code",
   "execution_count": 19,
   "id": "controlling-corrections",
   "metadata": {},
   "outputs": [
    {
     "name": "stdout",
     "output_type": "stream",
     "text": [
      "words               tags\n",
      "Rockwell            NNP\n",
      "International       NNP\n",
      "Corp.               NNP\n",
      "'s                  POS\n",
      "Tulsa               NNP\n",
      "unit                NN\n",
      "said                VBD\n",
      "it                  PRP\n",
      "signed              VBD\n",
      "a                   DT\n",
      "tentative           JJ\n",
      "agreement           NN\n",
      "extending           NNP\n",
      "its                 PRP$\n",
      "contract            NN\n",
      "with                IN\n",
      "Boeing              NNP\n",
      "Co.                 NNP\n",
      "to                  TO\n",
      "provide             VB\n",
      "structural          JJ\n",
      "parts               NNS\n",
      "for                 IN\n",
      "Boeing              NNP\n",
      "'s                  POS\n",
      "747                 CD\n",
      "jetliners           NN\n",
      ".                   .\n"
     ]
    }
   ],
   "source": [
    "sen = 'I am your father .'\n",
    "in_sen = torch.tensor(engdict.indexesFromSentence(sen), device=device)\n",
    "\n",
    "sen2 = [4609,   25,   35,  116, 4610, 1562,   74,  115, 4611,   49, 4612, 1456,\n",
    "        4613,  224,  691,    6, 4614,   76,   30, 1742, 4615,  308,  107, 4614,\n",
    "         116, 4616, 4617,   17]\n",
    "in_sen = torch.tensor(sen2, device=device)\n",
    "\n",
    "calc(model, in_sen)"
   ]
  },
  {
   "cell_type": "raw",
   "id": "hindu-librarian",
   "metadata": {
    "jupyter": {
     "outputs_hidden": true
    }
   },
   "source": [
    "sen = 'I am your father .'\n",
    "in_sen = torch.tensor(indexesFromSentence(engdict, sen), device=device)\n",
    "print(in_sen)\n",
    "\n",
    "print(in_sen.tolist())\n",
    "print(sentenceFromIndexes(engdict, in_sen.tolist()))\n",
    "# print(sentenceFromIndexes(posdict, target_seq.tolist()))\n",
    "print(sentenceFromIndexes(posdict, pos_tagging(model, in_sen.unsqueeze(0)).view(-1).tolist()))\n"
   ]
  },
  {
   "cell_type": "raw",
   "id": "automated-search",
   "metadata": {
    "jupyter": {
     "outputs_hidden": true
    }
   },
   "source": [
    "sen2 = [4609,   25,   35,  116, 4610, 1562,   74,  115, 4611,   49, 4612, 1456,\n",
    "        4613,  224,  691,    6, 4614,   76,   30, 1742, 4615,  308,  107, 4614,\n",
    "         116, 4616, 4617,   17]\n",
    "# sen2 = input_seq.tolist()\n",
    "print(sen2)\n",
    "print(sentenceFromIndexes(engdict, sen2))\n",
    "in_sen2 = torch.tensor(sen2, device=device)\n",
    "print(in_sen2)\n",
    "print(sentenceFromIndexes(posdict, target_seq.tolist()))\n",
    "print(sentenceFromIndexes(posdict, pos_tagging(model, in_sen2.unsqueeze(0)).view(-1).tolist()))\n",
    "\n"
   ]
  },
  {
   "cell_type": "raw",
   "id": "unique-prison",
   "metadata": {},
   "source": [
    "score1(model, dataset['train'], 100)\n",
    "score2(model, dataset['train'], 100)\n",
    "score3(model, dataset['train'], 100)\n",
    "\n",
    "score1(model, dataset['dev'], 100)\n",
    "score2(model, dataset['dev'], 100)\n",
    "score3(model, dataset['dev'], 100)\n",
    "\n",
    "score1(model, dataset['test'], 100)\n",
    "score2(model, dataset['test'], 100)\n",
    "score3(model, dataset['test'], 100)"
   ]
  },
  {
   "cell_type": "code",
   "execution_count": null,
   "id": "floppy-cross",
   "metadata": {},
   "outputs": [],
   "source": []
  }
 ],
 "metadata": {
  "kernelspec": {
   "display_name": "Python 3",
   "language": "python",
   "name": "python3"
  },
  "language_info": {
   "codemirror_mode": {
    "name": "ipython",
    "version": 3
   },
   "file_extension": ".py",
   "mimetype": "text/x-python",
   "name": "python",
   "nbconvert_exporter": "python",
   "pygments_lexer": "ipython3",
   "version": "3.8.5"
  }
 },
 "nbformat": 4,
 "nbformat_minor": 5
}
