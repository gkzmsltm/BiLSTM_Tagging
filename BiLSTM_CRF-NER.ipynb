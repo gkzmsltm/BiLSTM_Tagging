{
 "cells": [
  {
   "cell_type": "code",
   "execution_count": 1,
   "id": "cathedral-vegetarian",
   "metadata": {},
   "outputs": [],
   "source": [
    "%matplotlib inline"
   ]
  },
  {
   "cell_type": "code",
   "execution_count": 2,
   "id": "planned-bennett",
   "metadata": {},
   "outputs": [],
   "source": [
    "import time\n",
    "import matplotlib.pyplot as plt\n",
    "import torch\n",
    "import torch.nn as nn\n",
    "from torch import optim\n",
    "from torch.utils.data import DataLoader\n",
    "from dataload import lang, localdata\n",
    "from tagger.bilstmcrf import BiLSTMCRF\n",
    "from etc.customUtil import showGraph, showParallel\n",
    "from etc import defaultsetting as ds"
   ]
  },
  {
   "cell_type": "code",
   "execution_count": 3,
   "id": "polish-conversation",
   "metadata": {},
   "outputs": [
    {
     "name": "stdout",
     "output_type": "stream",
     "text": [
      "cuda\n"
     ]
    }
   ],
   "source": [
    "device = torch.device(\"cuda\" if torch.cuda.is_available() else \"cpu\")\n",
    "print(device)"
   ]
  },
  {
   "cell_type": "code",
   "execution_count": 4,
   "id": "understanding-stack",
   "metadata": {},
   "outputs": [
    {
     "name": "stdout",
     "output_type": "stream",
     "text": [
      "14096\n",
      "1446\n",
      "23\n",
      "13\n",
      "245\n",
      "4\n",
      "245\n",
      "250\n",
      "500\n",
      "4250\n"
     ]
    }
   ],
   "source": [
    "tag_PAD = ds.TOKKEN_PAD_IDX\n",
    "tag_UNK = ds.TOKKEN_UNK_IDX\n",
    "\n",
    "datasets, engdict, posdict = localdata.load_kor_ner(device) # , charmode=True)\n",
    "num_words = engdict.n_words\n",
    "num_chars = engdict.n_chars\n",
    "num_poss = posdict.n_words\n",
    "print(num_words)\n",
    "print(num_chars)\n",
    "print(num_poss)\n",
    "# print(MAX_LENGTH)\n",
    "print(engdict.max_len_char)\n",
    "print(engdict.max_len_word)\n",
    "print(posdict.max_len_char)\n",
    "print(posdict.max_len_word)\n",
    "\n",
    "print(len(datasets['dev'].y_data))\n",
    "print(len(datasets['test'].y_data))\n",
    "print(len(datasets['train'].y_data))"
   ]
  },
  {
   "cell_type": "code",
   "execution_count": 5,
   "id": "nuclear-being",
   "metadata": {},
   "outputs": [],
   "source": [
    "def iteration(samples, optimizer):\n",
    "    x_train, y_train = samples\n",
    "\n",
    "    optimizer.zero_grad()\n",
    "\n",
    "    loss = model(x_train, y_train)\n",
    "    \n",
    "    loss.backward()\n",
    "    optimizer.step()\n",
    "\n",
    "    return loss"
   ]
  },
  {
   "cell_type": "code",
   "execution_count": 6,
   "id": "amber-ferry",
   "metadata": {},
   "outputs": [],
   "source": [
    "def epoch(model, optimizer, dataloader):\n",
    "    model.train()\n",
    "    list_loss = []\n",
    "    for batch_idx, samples in enumerate(dataloader):\n",
    "        loss = iteration(samples, optimizer)\n",
    "        list_loss.append(loss.item())\n",
    "    return list_loss"
   ]
  },
  {
   "cell_type": "code",
   "execution_count": 7,
   "id": "marked-physics",
   "metadata": {},
   "outputs": [],
   "source": [
    "def evaluate(model, dataloader):\n",
    "    model.eval()\n",
    "    total_loss = 0\n",
    "    for batch_idx, samples in enumerate(dataloader):\n",
    "        x_train, y_train = samples\n",
    "\n",
    "        loss = model(x_train, y_train, lossmode=True)\n",
    "        \n",
    "        total_loss += loss.item()\n",
    "\n",
    "        # if batch_idx % 100 == 0:\n",
    "            # print(batch_idx, loss.item())\n",
    "            \n",
    "    # print(batch_idx, loss.item())\n",
    "    return total_loss / (batch_idx+1)"
   ]
  },
  {
   "cell_type": "code",
   "execution_count": 8,
   "id": "timely-paradise",
   "metadata": {},
   "outputs": [],
   "source": [
    "def scores(model, dataset, batch_size):\n",
    "    model.eval()\n",
    "    dataloader = DataLoader(dataset, batch_size=batch_size, shuffle=True)\n",
    "    \n",
    "    num_samples = len(dataset)\n",
    "    cnt_corr_samples = 0\n",
    "    total_words = 0\n",
    "    cnt_corr_words = 0\n",
    "    c = posdict.n_words\n",
    "    table = torch.zeros(c,c)\n",
    "    \n",
    "    for batch_idx, samples in enumerate(dataloader):\n",
    "        x_train, y_train = samples\n",
    "        \n",
    "        tagged = model(x_train, lossmode=False)\n",
    "        tagged = torch.tensor(tagged, device=device)\n",
    "        \n",
    "        for i in range(y_train.size(0)):\n",
    "            l = y_train[i].tolist()\n",
    "            if tag_PAD in l:\n",
    "                seq_len = l.index(tag_PAD)\n",
    "            else:\n",
    "                seq_len = len(l)\n",
    "            \n",
    "            _y = y_train[i,:seq_len]\n",
    "            _p = tagged[i,:seq_len]\n",
    "            d = _p!=_y\n",
    "            cnt_wrong = _p[d].size()[0]\n",
    "            \n",
    "            # score1_acc_sample\n",
    "            if cnt_wrong == 0:\n",
    "                cnt_corr_samples +=1\n",
    "                \n",
    "            # score2_acc_word\n",
    "            total_words += seq_len\n",
    "            cnt_corr_words += seq_len - cnt_wrong\n",
    "            \n",
    "            # score3_f1\n",
    "            for j in range(seq_len):\n",
    "                table[_y[j],_p[j]] += 1\n",
    "\n",
    "    tp = torch.tensor([table[i,i] for i in range(c)])[2:]\n",
    "    d0sum = table[2:,2:].sum(dim=0)\n",
    "    d1sum = table[2:,2:].sum(dim=1)\n",
    "    allsum = d1sum.sum()\n",
    "    \n",
    "    pr = tp / d0sum\n",
    "    temp = pr != pr\n",
    "    pr[temp] = 0\n",
    "    \n",
    "    re = tp / d1sum\n",
    "    temp = re != re\n",
    "    re[temp] = 0\n",
    "    \n",
    "    f1 = 2 * pr * re / (pr + re)\n",
    "    temp = f1 != f1\n",
    "    f1[temp] = 0\n",
    "    \n",
    "    avg_f1 = (f1 * d1sum).sum() / allsum\n",
    "  \n",
    "    return (cnt_corr_samples / num_samples,\n",
    "            cnt_corr_words / total_words,\n",
    "            avg_f1.item())"
   ]
  },
  {
   "cell_type": "code",
   "execution_count": 9,
   "id": "wooden-macintosh",
   "metadata": {},
   "outputs": [],
   "source": [
    "def train_losses_scores(model, optimizer, datasets, batch_size, num_epoch):\n",
    "\n",
    "    dict_losses={'train': [],\n",
    "                 'dev': [],\n",
    "                 'test': []}\n",
    "    \n",
    "    dict_scores={'train': [[],[],[]],\n",
    "                 'dev': [[],[],[]],\n",
    "                 'test': [[],[],[]]}\n",
    "    best_dev_f1 = 0.0\n",
    "    for epoch_i in range(1,num_epoch+1):\n",
    "        dataloader = DataLoader(datasets['train'], batch_size=batch_size, shuffle=True)\n",
    "        dataloader_dev = DataLoader(datasets['dev'], batch_size=len(datasets['dev']), shuffle=True)\n",
    "        dataloader_test = DataLoader(datasets['test'], batch_size=len(datasets['test']), shuffle=True)\n",
    "        print(f'\\r{epoch_i}', end='')\n",
    "        temp = epoch(model, optimizer, dataloader)\n",
    "        dict_losses['train'].extend(temp)\n",
    "        dict_losses['dev'].append(evaluate(model, dataloader_dev))\n",
    "        dict_losses['test'].append(evaluate(model, dataloader_test))\n",
    "\n",
    "        s_train = scores(model, datasets['train'], 100)\n",
    "        s_dev = scores(model, datasets['dev'], 100)\n",
    "        s_test = scores(model, datasets['test'], 100)\n",
    "        \n",
    "        dict_scores['train'][0].append(s_train[0])\n",
    "        dict_scores['train'][1].append(s_train[1])\n",
    "        dict_scores['train'][2].append(s_train[2])\n",
    "        dict_scores['dev'][0].append(s_dev[0])\n",
    "        dict_scores['dev'][1].append(s_dev[1])\n",
    "        dict_scores['dev'][2].append(s_dev[2])\n",
    "        dict_scores['test'][0].append(s_test[0])\n",
    "        dict_scores['test'][1].append(s_test[1])\n",
    "        dict_scores['test'][2].append(s_test[2])\n",
    "        \n",
    "        if s_dev[2] > best_dev_f1:\n",
    "            print(f' epoch Dev F1 score: {best_dev_f1:.6} -> {s_dev[2]:.6}')\n",
    "            best_dev_f1 = s_dev[2]\n",
    "            torch.save(model, 'best_bilstm_crf_ner.pt')\n",
    "    print()\n",
    "    return dict_losses, dict_scores"
   ]
  },
  {
   "cell_type": "code",
   "execution_count": 10,
   "id": "harmful-clearance",
   "metadata": {},
   "outputs": [],
   "source": [
    "def pos_tagging(model, input_seq):\n",
    "    model.eval()\n",
    "    o = model(input_seq, lossmode=False)\n",
    "#     print(o)\n",
    "#     __tagged, tagged = torch.max(o, dim=-1)\n",
    "    return o"
   ]
  },
  {
   "cell_type": "code",
   "execution_count": 11,
   "id": "amended-tolerance",
   "metadata": {},
   "outputs": [],
   "source": [
    "def calc(model, input_seq, target_seq=None):\n",
    "    input_list = engdict.sentenceFromIndexes(input_seq.tolist())\n",
    "#     print(input_list)\n",
    "    # print(sentenceFromIndexes(posdict, target_seq.tolist()))\n",
    "    output_list = posdict.sentenceFromIndexes(pos_tagging(model, input_seq.unsqueeze(0))[0])\n",
    "    \n",
    "    target_list = None\n",
    "    if target_seq is not None:\n",
    "        target_list = posdict.sentenceFromIndexes(target_seq.tolist())\n",
    "\n",
    "#     print(output_list)\n",
    "    showParallel(input_list, output_list, target_list)"
   ]
  },
  {
   "cell_type": "code",
   "execution_count": 12,
   "id": "improved-arena",
   "metadata": {},
   "outputs": [],
   "source": [
    "embedding_dim = 100\n",
    "size_hidden = 50\n",
    "num_layers = 1\n",
    "size_out = num_poss\n",
    "size_batch = 100\n",
    "# criterion  = nn.CrossEntropyLoss().to(device)\n",
    "# criterion  = nn.CrossEntropyLoss(ignore_index=tag_PAD).to(device)"
   ]
  },
  {
   "cell_type": "code",
   "execution_count": 13,
   "id": "choice-namibia",
   "metadata": {},
   "outputs": [
    {
     "name": "stdout",
     "output_type": "stream",
     "text": [
      "1 epoch Dev F1 score: 0.0 -> 0.868975\n",
      "2 epoch Dev F1 score: 0.868975 -> 0.942321\n",
      "3 epoch Dev F1 score: 0.942321 -> 0.951685\n",
      "4 epoch Dev F1 score: 0.951685 -> 0.95581\n",
      "5 epoch Dev F1 score: 0.95581 -> 0.956536\n",
      "9 epoch Dev F1 score: 0.956536 -> 0.956652\n",
      "10 epoch Dev F1 score: 0.956652 -> 0.958084\n",
      "11 epoch Dev F1 score: 0.958084 -> 0.958613\n",
      "21 epoch Dev F1 score: 0.958613 -> 0.958921\n",
      "25 epoch Dev F1 score: 0.958921 -> 0.959277\n",
      "39 epoch Dev F1 score: 0.959277 -> 0.959518\n",
      "60\n",
      "\t5475.542956113815\n"
     ]
    }
   ],
   "source": [
    "model = BiLSTMCRF(num_words, embedding_dim, size_hidden, size_out, num_layers, tag_PAD).to(device)\n",
    "optimizer = optim.Adam(model.parameters(), lr=0.01)\n",
    "\n",
    "num_epoch = 60\n",
    "st = time.time()\n",
    "dict_losses, dict_scores = train_losses_scores(model, optimizer, datasets, size_batch, num_epoch)\n",
    "print(f'\\t{time.time()-st:5}')"
   ]
  },
  {
   "cell_type": "code",
   "execution_count": 14,
   "id": "suspected-memphis",
   "metadata": {},
   "outputs": [
    {
     "data": {
      "image/png": "[encoded data removed]",
      "text/plain": [
       "<Figure size 936x936 with 5 Axes>"
      ]
     },
     "metadata": {
      "needs_background": "light"
     },
     "output_type": "display_data"
    }
   ],
   "source": [
    "showGraph(dict_losses, dict_scores)"
   ]
  },
  {
   "cell_type": "code",
   "execution_count": 15,
   "id": "permanent-apollo",
   "metadata": {},
   "outputs": [
    {
     "name": "stdout",
     "output_type": "stream",
     "text": [
      "0.89517   0.8998   0.88925\n",
      "0.95291   0.9453   0.93573\n",
      "0.9756   0.9528   0.95193\n",
      "0.98509   0.9564   0.95404\n",
      "0.99017   0.9573   0.95532\n",
      "0.99354   0.9559   0.9557\n",
      "0.99555   0.9556   0.95638\n",
      "0.99673   0.9555   0.95743\n",
      "0.99785   0.957   0.95623\n",
      "0.99864   0.9589   0.95653\n",
      "0.99901   0.9594   0.95758\n",
      "0.99935   0.9583   0.95751\n",
      "0.99948   0.9562   0.95638\n",
      "0.99961   0.9574   0.95675\n",
      "0.99967   0.9568   0.95645\n",
      "0.9997   0.9595   0.95615\n",
      "0.99981   0.9573   0.95638\n",
      "0.99983   0.9589   0.9566\n",
      "0.99982   0.9573   0.9566\n",
      "0.99991   0.9588   0.9569\n",
      "0.99993   0.9597   0.9569\n",
      "0.99995   0.9592   0.95645\n",
      "0.99993   0.958   0.95645\n",
      "0.99995   0.9594   0.95721\n",
      "0.99997   0.9598   0.95728\n",
      "0.99993   0.9565   0.95698\n",
      "0.99995   0.9585   0.95645\n",
      "0.99995   0.9595   0.95645\n",
      "0.99992   0.958   0.9557\n",
      "0.99995   0.9579   0.9566\n",
      "0.99994   0.9574   0.95638\n",
      "0.99994   0.9592   0.95653\n",
      "0.99994   0.9592   0.95517\n",
      "0.99993   0.957   0.95623\n",
      "0.99988   0.9582   0.95623\n",
      "0.99995   0.9591   0.95653\n",
      "0.99987   0.9603   0.95653\n",
      "0.99982   0.9559   0.9563\n",
      "0.99987   0.960   0.95532\n",
      "0.99971   0.9561   0.95683\n",
      "0.99943   0.9574   0.95608\n",
      "0.99933   0.9585   0.956\n",
      "0.99948   0.9562   0.95434\n",
      "0.99953   0.9598   0.95419\n",
      "0.9997   0.9591   0.95593\n",
      "0.99984   0.9588   0.95743\n",
      "0.99995   0.9586   0.95675\n",
      "0.99996   0.9589   0.95683\n",
      "0.99996   0.9592   0.9566\n",
      "0.99998   0.9594   0.95577\n",
      "0.99996   0.9586   0.95698\n",
      "0.99996   0.9592   0.95728\n",
      "0.99998   0.9598   0.95736\n",
      "0.99998   0.9597   0.9569\n",
      "0.99996   0.9591   0.95736\n",
      "0.99998   0.9586   0.9566\n",
      "0.99999   0.9603   0.95698\n",
      "0.99999   0.9595   0.95706\n",
      "0.99999   0.960   0.95721\n",
      "0.99999   0.9598   0.95766\n"
     ]
    }
   ],
   "source": [
    "score_type=1\n",
    "for i in range(len(dict_scores[\"train\"][score_type])):\n",
    "    print(f'{dict_scores[\"train\"][score_type][i]:<.5}   {dict_scores[\"dev\"][score_type][i]:<05.4}   {dict_scores[\"test\"][score_type][i]:.5}')"
   ]
  },
  {
   "cell_type": "code",
   "execution_count": 41,
   "id": "inner-wedding",
   "metadata": {},
   "outputs": [
    {
     "name": "stdout",
     "output_type": "stream",
     "text": [
      "words               tags    targets\n",
      "\u001b[0m이적료                 O       O\u001b[0m\n",
      "\u001b[0m등                   O       O\u001b[0m\n",
      "\u001b[0m을                   O       O\u001b[0m\n",
      "\u001b[0m포함                  O       O\u001b[0m\n",
      "\u001b[0m한                   O       O\u001b[0m\n",
      "\u001b[0m축구                  O       O\u001b[0m\n",
      "\u001b[0m선수                  O       O\u001b[0m\n",
      "\u001b[31m연간                  O       B-DT\u001b[0m\n",
      "\u001b[0m수입                  O       O\u001b[0m\n",
      "\u001b[0m자료                  O       O\u001b[0m\n",
      "\u001b[0m에                   O       O\u001b[0m\n",
      "\u001b[0m따르                  O       O\u001b[0m\n",
      "\u001b[0m면                   O       O\u001b[0m\n",
      "\u001b[0m베컴                  B-PS    B-PS\u001b[0m\n",
      "\u001b[0m은                   O       O\u001b[0m\n",
      "\u001b[0m지난해                 B-DT    B-DT\u001b[0m\n",
      "\u001b[0m7                   I-DT    I-DT\u001b[0m\n",
      "\u001b[0m월                   I-DT    I-DT\u001b[0m\n",
      "\u001b[0mLA                  B-OG    B-OG\u001b[0m\n",
      "\u001b[0m갤럭시                 I-OG    I-OG\u001b[0m\n",
      "\u001b[0m이적                  O       O\u001b[0m\n",
      "\u001b[0m과                   O       O\u001b[0m\n",
      "\u001b[0m함께                  O       O\u001b[0m\n",
      "\u001b[0m총                   O       O\u001b[0m\n",
      "\u001b[31m2470                I-PS    O\u001b[0m\n",
      "\u001b[0m만                   O       O\u001b[0m\n",
      "\u001b[0m파운드                 O       O\u001b[0m\n",
      "\u001b[0m(                   O       O\u001b[0m\n",
      "\u001b[0m약                   O       O\u001b[0m\n",
      "\u001b[0m477                 O       O\u001b[0m\n",
      "\u001b[0m억                   O       O\u001b[0m\n",
      "\u001b[0m원                   O       O\u001b[0m\n",
      "\u001b[0m)                   O       O\u001b[0m\n",
      "\u001b[0m을                   O       O\u001b[0m\n",
      "\u001b[0m벌어들인                O       O\u001b[0m\n",
      "\u001b[0m것                   O       O\u001b[0m\n",
      "\u001b[0m으로                  O       O\u001b[0m\n",
      "\u001b[0m9                   B-DT    B-DT\u001b[0m\n",
      "\u001b[0m일                   I-DT    I-DT\u001b[0m\n",
      "\u001b[0m(                   O       O\u001b[0m\n",
      "\u001b[0m한국                  B-LC    B-LC\u001b[0m\n",
      "\u001b[0m시간                  O       O\u001b[0m\n",
      "\u001b[0m)                   O       O\u001b[0m\n",
      "\u001b[0m밝혀졌                 O       O\u001b[0m\n",
      "\u001b[0m다                   O       O\u001b[0m\n",
      "\u001b[0m.                   O       O\u001b[0m\n"
     ]
    }
   ],
   "source": [
    "testset = datasets['test']\n",
    "for ii in range(len(testset)):\n",
    "    i = 111\n",
    "    input_seq = testset.x_data[i]\n",
    "    target_seq = testset.y_data[i]\n",
    "    calc(model, input_seq, target_seq)\n",
    "    break\n",
    "#     print(target_seq)"
   ]
  },
  {
   "cell_type": "code",
   "execution_count": 17,
   "id": "spare-judgment",
   "metadata": {},
   "outputs": [],
   "source": [
    "# sen = 'I am your father .'\n",
    "# in_sen = torch.tensor(engdict.indexesFromSentence(sen), device=device)\n",
    "\n",
    "# sen2 = [4609,   25,   35,  116, 4610, 1562,   74,  115, 4611,   49, 4612, 1456,\n",
    "#         4613,  224,  691,    6, 4614,   76,   30, 1742, 4615,  308,  107, 4614,\n",
    "#          116, 4616, 4617,   17]\n",
    "# in_sen2 = torch.tensor(sen2, device=device)\n",
    "\n",
    "# calc(model, in_sen)"
   ]
  },
  {
   "cell_type": "code",
   "execution_count": null,
   "id": "patent-antibody",
   "metadata": {},
   "outputs": [],
   "source": []
  },
  {
   "cell_type": "code",
   "execution_count": 18,
   "id": "loving-provincial",
   "metadata": {},
   "outputs": [
    {
     "name": "stdout",
     "output_type": "stream",
     "text": [
      "(0.468, 0.9599701269604182, 0.9595180153846741)\n",
      "(0.486, 0.9553228358321404, 0.9541690945625305)\n"
     ]
    }
   ],
   "source": [
    "best_model = torch.load('best_bilstm_crf_ner.pt')\n",
    "s_dev = scores(best_model, datasets['dev'], 100)\n",
    "s_test = scores(best_model, datasets['test'], 100)\n",
    "print(s_dev)\n",
    "print(s_test)"
   ]
  },
  {
   "cell_type": "code",
   "execution_count": null,
   "id": "premier-channel",
   "metadata": {},
   "outputs": [],
   "source": []
  }
 ],
 "metadata": {
  "kernelspec": {
   "display_name": "Python 3",
   "language": "python",
   "name": "python3"
  },
  "language_info": {
   "codemirror_mode": {
    "name": "ipython",
    "version": 3
   },
   "file_extension": ".py",
   "mimetype": "text/x-python",
   "name": "python",
   "nbconvert_exporter": "python",
   "pygments_lexer": "ipython3",
   "version": "3.8.5"
  }
 },
 "nbformat": 4,
 "nbformat_minor": 5
}
