{
 "cells": [
  {
   "cell_type": "code",
   "execution_count": 1,
   "id": "juvenile-influence",
   "metadata": {},
   "outputs": [],
   "source": [
    "%matplotlib inline"
   ]
  },
  {
   "cell_type": "code",
   "execution_count": 2,
   "id": "caroline-vienna",
   "metadata": {},
   "outputs": [],
   "source": [
    "import time\n",
    "import matplotlib.pyplot as plt\n",
    "import torch\n",
    "import torch.nn as nn\n",
    "from torch import optim\n",
    "from torch.utils.data import DataLoader\n",
    "from dataload import lang, localdata\n",
    "from tagger.bilstmcrf import BiLSTMCRF\n",
    "from etc.customUtil import showGraph, showParallel"
   ]
  },
  {
   "cell_type": "code",
   "execution_count": 3,
   "id": "caroline-migration",
   "metadata": {},
   "outputs": [
    {
     "name": "stdout",
     "output_type": "stream",
     "text": [
      "cuda\n"
     ]
    }
   ],
   "source": [
    "device = torch.device(\"cuda\" if torch.cuda.is_available() else \"cpu\")\n",
    "print(device)"
   ]
  },
  {
   "cell_type": "code",
   "execution_count": 4,
   "id": "positive-creativity",
   "metadata": {},
   "outputs": [
    {
     "name": "stdout",
     "output_type": "stream",
     "text": [
      "21591\n",
      "82\n",
      "46\n",
      "54\n",
      "78\n",
      "4\n",
      "78\n",
      "936\n",
      "2012\n",
      "8000\n"
     ]
    }
   ],
   "source": [
    "tag_PAD = lang.tag_PAD\n",
    "tag_UNK = lang.tag_UNK\n",
    "\n",
    "datasets, engdict, posdict = localdata.load_eng_pos(device)\n",
    "num_words = engdict.n_words\n",
    "num_chars = engdict.n_chars\n",
    "num_poss = posdict.n_words\n",
    "print(num_words)\n",
    "print(num_chars)\n",
    "print(num_poss)\n",
    "# print(MAX_LENGTH)\n",
    "print(engdict.max_len_char)\n",
    "print(engdict.max_len_word)\n",
    "print(posdict.max_len_char)\n",
    "print(posdict.max_len_word)\n",
    "\n",
    "print(len(datasets['dev'].y_data))\n",
    "print(len(datasets['test'].y_data))\n",
    "print(len(datasets['train'].y_data))"
   ]
  },
  {
   "cell_type": "code",
   "execution_count": 5,
   "id": "individual-polls",
   "metadata": {},
   "outputs": [],
   "source": [
    "def iteration(samples, optimizer):\n",
    "    x_train, y_train = samples\n",
    "\n",
    "    optimizer.zero_grad()\n",
    "\n",
    "    loss = model(x_train, y_train)\n",
    "    \n",
    "    loss.backward()\n",
    "    optimizer.step()\n",
    "\n",
    "    return loss"
   ]
  },
  {
   "cell_type": "code",
   "execution_count": 6,
   "id": "communist-queens",
   "metadata": {},
   "outputs": [],
   "source": [
    "def epoch(model, optimizer, dataloader):\n",
    "    model.train()\n",
    "    list_loss = []\n",
    "    for batch_idx, samples in enumerate(dataloader):\n",
    "        loss = iteration(samples, optimizer)\n",
    "        list_loss.append(loss.item())\n",
    "    return list_loss"
   ]
  },
  {
   "cell_type": "code",
   "execution_count": 7,
   "id": "amateur-harassment",
   "metadata": {},
   "outputs": [],
   "source": [
    "def evaluate(model, dataloader):\n",
    "    model.eval()\n",
    "    total_loss = 0\n",
    "    for batch_idx, samples in enumerate(dataloader):\n",
    "        x_train, y_train = samples\n",
    "\n",
    "        loss = model(x_train, y_train, lossmode=True)\n",
    "        \n",
    "        total_loss += loss.item()\n",
    "\n",
    "        # if batch_idx % 100 == 0:\n",
    "            # print(batch_idx, loss.item())\n",
    "            \n",
    "    # print(batch_idx, loss.item())\n",
    "    return total_loss / (batch_idx+1)"
   ]
  },
  {
   "cell_type": "code",
   "execution_count": 8,
   "id": "adult-parent",
   "metadata": {},
   "outputs": [],
   "source": [
    "def scores(model, dataset, batch_size):\n",
    "    model.eval()\n",
    "    dataloader = DataLoader(dataset, batch_size=batch_size, shuffle=True)\n",
    "    \n",
    "    num_samples = len(dataset)\n",
    "    cnt_corr_samples = 0\n",
    "    total_words = 0\n",
    "    cnt_corr_words = 0\n",
    "    c = posdict.n_words\n",
    "    table = torch.zeros(c,c)\n",
    "    \n",
    "    for batch_idx, samples in enumerate(dataloader):\n",
    "        x_train, y_train = samples\n",
    "        \n",
    "        tagged = model(x_train, lossmode=False)\n",
    "        tagged = torch.tensor(tagged, device=device)\n",
    "        \n",
    "        for i in range(x_train.size(0)):\n",
    "            l = y_train[i].tolist()\n",
    "            if tag_PAD in l:\n",
    "                seq_len = l.index(tag_PAD)\n",
    "            else:\n",
    "                seq_len = len(l)\n",
    "            \n",
    "            _y = y_train[i,:seq_len]\n",
    "            _p = tagged[i,:seq_len]\n",
    "            d = _p!=_y\n",
    "            cnt_wrong = _p[d].size()[0]\n",
    "            \n",
    "            # score1_acc_sample\n",
    "            if cnt_wrong == 0:\n",
    "                cnt_corr_samples +=1\n",
    "                \n",
    "            # score2_acc_word\n",
    "            total_words += seq_len\n",
    "            cnt_corr_words += seq_len - cnt_wrong\n",
    "            \n",
    "            # score3_f1\n",
    "            for j in range(seq_len):\n",
    "                table[_y[j],_p[j]] += 1\n",
    "\n",
    "    tp = torch.tensor([table[i,i] for i in range(c)])[2:]\n",
    "    d0sum = table[2:,2:].sum(dim=0)\n",
    "    d1sum = table[2:,2:].sum(dim=1)\n",
    "    allsum = d1sum.sum()\n",
    "    \n",
    "    pr = tp / d0sum\n",
    "    temp = pr != pr\n",
    "    pr[temp] = 0\n",
    "    \n",
    "    re = tp / d1sum\n",
    "    temp = re != re\n",
    "    re[temp] = 0\n",
    "    \n",
    "    f1 = 2 * pr * re / (pr + re)\n",
    "    temp = f1 != f1\n",
    "    f1[temp] = 0\n",
    "    \n",
    "    avg_f1 = (f1 * d1sum).sum() / allsum\n",
    "  \n",
    "    return (cnt_corr_samples / num_samples,\n",
    "            cnt_corr_words / total_words,\n",
    "            avg_f1.item())"
   ]
  },
  {
   "cell_type": "code",
   "execution_count": 9,
   "id": "cleared-manor",
   "metadata": {},
   "outputs": [],
   "source": [
    "def train_losses_scores(model, optimizer, datasets, batch_size, num_epoch):\n",
    "\n",
    "    dict_losses={'train': [],\n",
    "                 'dev': [],\n",
    "                 'test': []}\n",
    "    \n",
    "    dict_scores={'train': [[],[],[]],\n",
    "                 'dev': [[],[],[]],\n",
    "                 'test': [[],[],[]]}\n",
    "    best_dev_f1 = 0.0\n",
    "    for epoch_i in range(1,num_epoch+1):\n",
    "        dataloader = DataLoader(datasets['train'], batch_size=batch_size, shuffle=True)\n",
    "        dataloader_dev = DataLoader(datasets['dev'], batch_size=len(datasets['dev']), shuffle=True)\n",
    "        dataloader_test = DataLoader(datasets['test'], batch_size=len(datasets['test']), shuffle=True)\n",
    "        print(f'\\r{epoch_i}', end='')\n",
    "        temp = epoch(model, optimizer, dataloader)\n",
    "        dict_losses['train'].extend(temp)\n",
    "        dict_losses['dev'].append(evaluate(model, dataloader_dev))\n",
    "        dict_losses['test'].append(evaluate(model, dataloader_test))\n",
    "\n",
    "        s_train = scores(model, datasets['train'], 100)\n",
    "        s_dev = scores(model, datasets['dev'], 100)\n",
    "        s_test = scores(model, datasets['test'], 100)\n",
    "        \n",
    "        dict_scores['train'][0].append(s_train[0])\n",
    "        dict_scores['train'][1].append(s_train[1])\n",
    "        dict_scores['train'][2].append(s_train[2])\n",
    "        dict_scores['dev'][0].append(s_dev[0])\n",
    "        dict_scores['dev'][1].append(s_dev[1])\n",
    "        dict_scores['dev'][2].append(s_dev[2])\n",
    "        dict_scores['test'][0].append(s_test[0])\n",
    "        dict_scores['test'][1].append(s_test[1])\n",
    "        dict_scores['test'][2].append(s_test[2])\n",
    "        \n",
    "        if s_dev[2] > best_dev_f1:\n",
    "            print(f' epoch Dev F1 score: {best_dev_f1:.6} -> {s_dev[2]:.6}')\n",
    "            best_dev_f1 = s_dev[2]\n",
    "            torch.save(model, 'best_bilstm_crf_pos.pt')\n",
    "    print()\n",
    "    return dict_losses, dict_scores"
   ]
  },
  {
   "cell_type": "raw",
   "id": "spoken-prevention",
   "metadata": {},
   "source": [
    "def showParallel(words, tags, targets=None):\n",
    "    if '<PAD>' in words:\n",
    "        length = words.index('<PAD>')\n",
    "    else:\n",
    "        lengths = [len(words),len(tags)]        \n",
    "        if targets is not None:\n",
    "            lengths.append(len(targets))\n",
    "        length = min(lengths)\n",
    "    \n",
    "    if targets is not None:\n",
    "        print(f'{\"words\":20}{\"tags\":8}targets')\n",
    "        for i in range(length):\n",
    "            color = 31 if tags[i] != targets[i] else 0\n",
    "            print(f'\\033[{color}m{words[i]:20}{tags[i]:8}{targets[i]}\\033[0m')\n",
    "    else:\n",
    "        print(f'{\"words\":20}tags')\n",
    "        for i in range(length):\n",
    "            print(f'{words[i]:20}{tags[i]}')"
   ]
  },
  {
   "cell_type": "code",
   "execution_count": 11,
   "id": "stuck-shade",
   "metadata": {},
   "outputs": [],
   "source": [
    "def pos_tagging(model, input_seq):\n",
    "    model.eval()\n",
    "    o = model(input_seq, lossmode=False)\n",
    "#     print(o)\n",
    "#     __tagged, tagged = torch.max(o, dim=-1)\n",
    "    return o"
   ]
  },
  {
   "cell_type": "code",
   "execution_count": 12,
   "id": "empirical-participant",
   "metadata": {},
   "outputs": [],
   "source": [
    "def calc(model, input_seq, target_seq=None):\n",
    "    input_list = engdict.sentenceFromIndexes(input_seq.tolist())\n",
    "#     print(input_list)\n",
    "    # print(sentenceFromIndexes(posdict, target_seq.tolist()))\n",
    "    output_list = posdict.sentenceFromIndexes(pos_tagging(model, input_seq.unsqueeze(0))[0])\n",
    "    \n",
    "    target_list = None\n",
    "    if target_seq is not None:\n",
    "        target_list = posdict.sentenceFromIndexes(target_seq.tolist())\n",
    "\n",
    "#     print(output_list)\n",
    "    showParallel(input_list, output_list, target_list)"
   ]
  },
  {
   "cell_type": "code",
   "execution_count": 13,
   "id": "grand-stress",
   "metadata": {},
   "outputs": [],
   "source": [
    "embedding_dim = 100\n",
    "size_hidden = 100\n",
    "num_layers = 2\n",
    "size_out = num_poss\n",
    "size_batch = 100\n",
    "# criterion  = nn.CrossEntropyLoss().to(device)\n",
    "# criterion  = nn.CrossEntropyLoss(ignore_index=tag_PAD).to(device)"
   ]
  },
  {
   "cell_type": "code",
   "execution_count": 14,
   "id": "living-canon",
   "metadata": {},
   "outputs": [
    {
     "name": "stdout",
     "output_type": "stream",
     "text": [
      "1 epoch Dev F1 score: 0.0 -> 0.911937\n",
      "2 epoch Dev F1 score: 0.911937 -> 0.94603\n",
      "3 epoch Dev F1 score: 0.94603 -> 0.951928\n",
      "4 epoch Dev F1 score: 0.951928 -> 0.954091\n",
      "7 epoch Dev F1 score: 0.954091 -> 0.954869\n",
      "8 epoch Dev F1 score: 0.954869 -> 0.955462\n",
      "9 epoch Dev F1 score: 0.955462 -> 0.956696\n",
      "16 epoch Dev F1 score: 0.956696 -> 0.956737\n",
      "17 epoch Dev F1 score: 0.956737 -> 0.956876\n",
      "21 epoch Dev F1 score: 0.956876 -> 0.95697\n",
      "60\n",
      "\t5821.901219129562\n"
     ]
    }
   ],
   "source": [
    "model = BiLSTMCRF(num_words, embedding_dim, size_hidden, size_out, num_layers, tag_PAD).to(device)\n",
    "optimizer = optim.Adam(model.parameters(), lr=0.01)\n",
    "\n",
    "num_epoch = 60\n",
    "st = time.time()\n",
    "dict_losses, dict_scores = train_losses_scores(model, optimizer, datasets, size_batch, num_epoch)\n",
    "print(f'\\t{time.time()-st:5}')"
   ]
  },
  {
   "cell_type": "code",
   "execution_count": 15,
   "id": "appropriate-spyware",
   "metadata": {},
   "outputs": [
    {
     "data": {
      "image/png": "[encoded data removed]",
      "text/plain": [
       "<Figure size 936x936 with 5 Axes>"
      ]
     },
     "metadata": {
      "needs_background": "light"
     },
     "output_type": "display_data"
    }
   ],
   "source": [
    "showGraph(dict_losses, dict_scores)"
   ]
  },
  {
   "cell_type": "code",
   "execution_count": 16,
   "id": "persistent-relationship",
   "metadata": {},
   "outputs": [
    {
     "name": "stdout",
     "output_type": "stream",
     "text": [
      "0.93654   0.9129   0.89915\n",
      "0.98498   0.9461   0.93222\n",
      "0.99584   0.952   0.93763\n",
      "0.99879   0.9541   0.93942\n",
      "0.9994   0.9534   0.93951\n",
      "0.99977   0.9536   0.93946\n",
      "0.99994   0.9549   0.94101\n",
      "0.99995   0.9555   0.94056\n",
      "0.99999   0.9567   0.94141\n",
      "0.99999   0.9558   0.9417\n",
      "1.0   0.9559   0.94117\n",
      "1.0   0.9558   0.94092\n",
      "0.99999   0.9561   0.9412\n",
      "0.99999   0.9554   0.94027\n",
      "1.0   0.9565   0.94117\n",
      "1.0   0.9567   0.94145\n",
      "1.0   0.9569   0.94132\n",
      "1.0   0.9568   0.94109\n",
      "1.0   0.9566   0.94107\n",
      "1.0   0.9568   0.94092\n",
      "1.0   0.957   0.94067\n",
      "1.0   0.9567   0.94082\n",
      "1.0   0.9569   0.94092\n",
      "1.0   0.9567   0.94094\n",
      "1.0   0.9567   0.94107\n",
      "1.0   0.9567   0.94111\n",
      "1.0   0.9569   0.94109\n",
      "0.99987   0.9568   0.94105\n",
      "0.99996   0.9556   0.94033\n",
      "0.98733   0.9389   0.92298\n",
      "0.98815   0.9477   0.93505\n",
      "0.99685   0.9525   0.9401\n",
      "0.999   0.9541   0.94174\n",
      "0.99975   0.955   0.94259\n",
      "0.99994   0.9566   0.94305\n",
      "0.99997   0.956   0.94257\n",
      "0.99999   0.9558   0.94307\n",
      "1.0   0.956   0.94339\n",
      "1.0   0.9561   0.94307\n",
      "1.0   0.9557   0.94293\n",
      "1.0   0.9564   0.94324\n",
      "1.0   0.9565   0.94341\n",
      "1.0   0.9565   0.94335\n",
      "1.0   0.9565   0.94345\n",
      "1.0   0.9565   0.94326\n",
      "1.0   0.9564   0.94352\n",
      "1.0   0.9565   0.94354\n",
      "1.0   0.9566   0.94356\n",
      "1.0   0.9566   0.94373\n",
      "1.0   0.9565   0.9436\n",
      "0.99999   0.9565   0.94339\n",
      "1.0   0.9561   0.94322\n",
      "1.0   0.9561   0.94307\n",
      "1.0   0.9561   0.94312\n",
      "1.0   0.9565   0.94326\n",
      "1.0   0.9563   0.94316\n",
      "1.0   0.9564   0.94328\n",
      "1.0   0.9565   0.94328\n",
      "1.0   0.9564   0.94316\n",
      "1.0   0.9566   0.94331\n"
     ]
    }
   ],
   "source": [
    "score_type=1\n",
    "for i in range(len(dict_scores[\"train\"][score_type])):\n",
    "    print(f'{dict_scores[\"train\"][score_type][i]:<.5}   {dict_scores[\"dev\"][score_type][i]:<05.4}   {dict_scores[\"test\"][score_type][i]:.5}')"
   ]
  },
  {
   "cell_type": "code",
   "execution_count": 17,
   "id": "filled-moldova",
   "metadata": {},
   "outputs": [
    {
     "name": "stdout",
     "output_type": "stream",
     "text": [
      "words               tags    targets\n",
      "\u001b[0mMr.                 NNP     NNP\u001b[0m\n",
      "\u001b[0mSanford             NNP     NNP\u001b[0m\n",
      "\u001b[0mwas                 VBD     VBD\u001b[0m\n",
      "\u001b[0mtold                VBN     VBN\u001b[0m\n",
      "\u001b[0mMr.                 NNP     NNP\u001b[0m\n",
      "\u001b[0mNoriega             NNP     NNP\u001b[0m\n",
      "\u001b[0m's                  POS     POS\u001b[0m\n",
      "\u001b[0mfriend              NN      NN\u001b[0m\n",
      "\u001b[0m,                   ,       ,\u001b[0m\n",
      "\u001b[0mMr.                 NNP     NNP\u001b[0m\n",
      "\u001b[0mWittgreen           NNP     NNP\u001b[0m\n",
      "\u001b[0m,                   ,       ,\u001b[0m\n",
      "\u001b[0mwould               MD      MD\u001b[0m\n",
      "\u001b[0mbe                  VB      VB\u001b[0m\n",
      "\u001b[0mhandling            VBG     VBG\u001b[0m\n",
      "\u001b[0mthe                 DT      DT\u001b[0m\n",
      "\u001b[0mshah                NN      NN\u001b[0m\n",
      "\u001b[0m's                  POS     POS\u001b[0m\n",
      "\u001b[0msecurity            NN      NN\u001b[0m\n",
      "\u001b[0m.                   .       .\u001b[0m\n"
     ]
    }
   ],
   "source": [
    "testset = datasets['test']\n",
    "for ii in range(len(testset)):\n",
    "    i = 256\n",
    "    input_seq = testset.x_data[i]\n",
    "    target_seq = testset.y_data[i]\n",
    "    calc(model, input_seq, target_seq)\n",
    "    break\n",
    "#     print(target_seq)"
   ]
  },
  {
   "cell_type": "code",
   "execution_count": 18,
   "id": "former-series",
   "metadata": {},
   "outputs": [
    {
     "name": "stdout",
     "output_type": "stream",
     "text": [
      "words               tags\n",
      "Rockwell            NNP\n",
      "International       NNP\n",
      "Corp.               NNP\n",
      "'s                  POS\n",
      "Tulsa               NNP\n",
      "unit                NN\n",
      "said                VBD\n",
      "it                  PRP\n",
      "signed              VBD\n",
      "a                   DT\n",
      "tentative           JJ\n",
      "agreement           NN\n",
      "extending           VBD\n",
      "its                 PRP$\n",
      "contract            NN\n",
      "with                IN\n",
      "Boeing              NNP\n",
      "Co.                 NNP\n",
      "to                  TO\n",
      "provide             VB\n",
      "structural          JJ\n",
      "parts               NNS\n",
      "for                 IN\n",
      "Boeing              NNP\n",
      "'s                  POS\n",
      "747                 CD\n",
      "jetliners           NNS\n",
      ".                   .\n"
     ]
    }
   ],
   "source": [
    "sen = 'I am your father .'\n",
    "in_sen = torch.tensor(engdict.indexesFromSentence(sen), device=device)\n",
    "\n",
    "sen2 = [4609,   25,   35,  116, 4610, 1562,   74,  115, 4611,   49, 4612, 1456,\n",
    "        4613,  224,  691,    6, 4614,   76,   30, 1742, 4615,  308,  107, 4614,\n",
    "         116, 4616, 4617,   17]\n",
    "in_sen = torch.tensor(sen2, device=device)\n",
    "\n",
    "calc(model, in_sen)"
   ]
  },
  {
   "cell_type": "raw",
   "id": "immune-acceptance",
   "metadata": {
    "jupyter": {
     "outputs_hidden": true
    }
   },
   "source": [
    "sen = 'I am your father .'\n",
    "in_sen = torch.tensor(indexesFromSentence(engdict, sen), device=device)\n",
    "print(in_sen)\n",
    "\n",
    "print(in_sen.tolist())\n",
    "print(sentenceFromIndexes(engdict, in_sen.tolist()))\n",
    "# print(sentenceFromIndexes(posdict, target_seq.tolist()))\n",
    "print(sentenceFromIndexes(posdict, pos_tagging(model, in_sen.unsqueeze(0)).view(-1).tolist()))\n"
   ]
  },
  {
   "cell_type": "raw",
   "id": "caroline-place",
   "metadata": {
    "jupyter": {
     "outputs_hidden": true
    }
   },
   "source": [
    "sen2 = [4609,   25,   35,  116, 4610, 1562,   74,  115, 4611,   49, 4612, 1456,\n",
    "        4613,  224,  691,    6, 4614,   76,   30, 1742, 4615,  308,  107, 4614,\n",
    "         116, 4616, 4617,   17]\n",
    "# sen2 = input_seq.tolist()\n",
    "print(sen2)\n",
    "print(sentenceFromIndexes(engdict, sen2))\n",
    "in_sen2 = torch.tensor(sen2, device=device)\n",
    "print(in_sen2)\n",
    "print(sentenceFromIndexes(posdict, target_seq.tolist()))\n",
    "print(sentenceFromIndexes(posdict, pos_tagging(model, in_sen2.unsqueeze(0)).view(-1).tolist()))\n",
    "\n"
   ]
  },
  {
   "cell_type": "raw",
   "id": "difficult-label",
   "metadata": {},
   "source": [
    "score1(model, dataset['train'], 100)\n",
    "score2(model, dataset['train'], 100)\n",
    "score3(model, dataset['train'], 100)\n",
    "\n",
    "score1(model, dataset['dev'], 100)\n",
    "score2(model, dataset['dev'], 100)\n",
    "score3(model, dataset['dev'], 100)\n",
    "\n",
    "score1(model, dataset['test'], 100)\n",
    "score2(model, dataset['test'], 100)\n",
    "score3(model, dataset['test'], 100)"
   ]
  },
  {
   "cell_type": "code",
   "execution_count": null,
   "id": "scenic-september",
   "metadata": {},
   "outputs": [],
   "source": []
  }
 ],
 "metadata": {
  "kernelspec": {
   "display_name": "Python 3",
   "language": "python",
   "name": "python3"
  },
  "language_info": {
   "codemirror_mode": {
    "name": "ipython",
    "version": 3
   },
   "file_extension": ".py",
   "mimetype": "text/x-python",
   "name": "python",
   "nbconvert_exporter": "python",
   "pygments_lexer": "ipython3",
   "version": "3.8.5"
  }
 },
 "nbformat": 4,
 "nbformat_minor": 5
}
